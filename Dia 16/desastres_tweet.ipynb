{
 "cells": [
  {
   "cell_type": "code",
   "execution_count": 801,
   "metadata": {},
   "outputs": [],
   "source": [
    "import pandas as pd\n",
    "import numpy as np\n",
    "from sklearn.impute import KNNImputer\n",
    "import matplotlib.pyplot as plt\n",
    "import warnings\n",
    "import seaborn as sns\n",
    "from sklearn.preprocessing import OneHotEncoder\n",
    "from sklearn.linear_model import LogisticRegression\n",
    "from sklearn.preprocessing import StandardScaler\n",
    "from sklearn.model_selection import train_test_split, cross_val_score, GridSearchCV\n",
    "from sklearn.metrics import accuracy_score, confusion_matrix, classification_report\n",
    "import joblib"
   ]
  },
  {
   "cell_type": "code",
   "execution_count": 802,
   "metadata": {},
   "outputs": [
    {
     "data": {
      "text/html": [
       "<div>\n",
       "<style scoped>\n",
       "    .dataframe tbody tr th:only-of-type {\n",
       "        vertical-align: middle;\n",
       "    }\n",
       "\n",
       "    .dataframe tbody tr th {\n",
       "        vertical-align: top;\n",
       "    }\n",
       "\n",
       "    .dataframe thead th {\n",
       "        text-align: right;\n",
       "    }\n",
       "</style>\n",
       "<table border=\"1\" class=\"dataframe\">\n",
       "  <thead>\n",
       "    <tr style=\"text-align: right;\">\n",
       "      <th></th>\n",
       "      <th>id</th>\n",
       "      <th>keyword</th>\n",
       "      <th>location</th>\n",
       "      <th>text</th>\n",
       "      <th>target</th>\n",
       "    </tr>\n",
       "  </thead>\n",
       "  <tbody>\n",
       "    <tr>\n",
       "      <th>0</th>\n",
       "      <td>1</td>\n",
       "      <td>NaN</td>\n",
       "      <td>NaN</td>\n",
       "      <td>Our Deeds are the Reason of this #earthquake M...</td>\n",
       "      <td>1</td>\n",
       "    </tr>\n",
       "    <tr>\n",
       "      <th>1</th>\n",
       "      <td>4</td>\n",
       "      <td>NaN</td>\n",
       "      <td>NaN</td>\n",
       "      <td>Forest fire near La Ronge Sask. Canada</td>\n",
       "      <td>1</td>\n",
       "    </tr>\n",
       "    <tr>\n",
       "      <th>2</th>\n",
       "      <td>5</td>\n",
       "      <td>NaN</td>\n",
       "      <td>NaN</td>\n",
       "      <td>All residents asked to 'shelter in place' are ...</td>\n",
       "      <td>1</td>\n",
       "    </tr>\n",
       "    <tr>\n",
       "      <th>3</th>\n",
       "      <td>6</td>\n",
       "      <td>NaN</td>\n",
       "      <td>NaN</td>\n",
       "      <td>13,000 people receive #wildfires evacuation or...</td>\n",
       "      <td>1</td>\n",
       "    </tr>\n",
       "    <tr>\n",
       "      <th>4</th>\n",
       "      <td>7</td>\n",
       "      <td>NaN</td>\n",
       "      <td>NaN</td>\n",
       "      <td>Just got sent this photo from Ruby #Alaska as ...</td>\n",
       "      <td>1</td>\n",
       "    </tr>\n",
       "  </tbody>\n",
       "</table>\n",
       "</div>"
      ],
      "text/plain": [
       "   id keyword location                                               text  \\\n",
       "0   1     NaN      NaN  Our Deeds are the Reason of this #earthquake M...   \n",
       "1   4     NaN      NaN             Forest fire near La Ronge Sask. Canada   \n",
       "2   5     NaN      NaN  All residents asked to 'shelter in place' are ...   \n",
       "3   6     NaN      NaN  13,000 people receive #wildfires evacuation or...   \n",
       "4   7     NaN      NaN  Just got sent this photo from Ruby #Alaska as ...   \n",
       "\n",
       "   target  \n",
       "0       1  \n",
       "1       1  \n",
       "2       1  \n",
       "3       1  \n",
       "4       1  "
      ]
     },
     "execution_count": 802,
     "metadata": {},
     "output_type": "execute_result"
    }
   ],
   "source": [
    "x1 =  pd.read_csv('C:/Users/FRANK/Desktop/Proyectos Linkedin/Python Proyectos/Dia 16/train.csv') # Trabajar con este dataset\n",
    "x2 =  pd.read_csv('C:/Users/FRANK/Desktop/Proyectos Linkedin/Python Proyectos/Dia 16/test.csv') # Hallar dataset con train.csv\n",
    "x1.head()"
   ]
  },
  {
   "cell_type": "code",
   "execution_count": 803,
   "metadata": {},
   "outputs": [
    {
     "name": "stdout",
     "output_type": "stream",
     "text": [
      "Número de observaciones (filas) = 7613\n",
      "Total de variables disponibles (columnas) = 5 \n",
      "Columnas que cuentan con un valor nulo -\n",
      "id             0\n",
      "keyword       61\n",
      "location    2533\n",
      "text           0\n",
      "target         0\n",
      "dtype: int64\n"
     ]
    }
   ],
   "source": [
    "print('Número de observaciones (filas) = {}'.format(x1.shape[0]))\n",
    "print('Total de variables disponibles (columnas) = {} '.format(x1.columns.shape[0]))\n",
    "print('Columnas que cuentan con un valor nulo -')\n",
    "print(x1.isnull().sum())"
   ]
  },
  {
   "cell_type": "code",
   "execution_count": 804,
   "metadata": {},
   "outputs": [
    {
     "name": "stdout",
     "output_type": "stream",
     "text": [
      "<class 'pandas.core.frame.DataFrame'>\n",
      "RangeIndex: 7613 entries, 0 to 7612\n",
      "Data columns (total 5 columns):\n",
      " #   Column    Non-Null Count  Dtype \n",
      "---  ------    --------------  ----- \n",
      " 0   id        7613 non-null   int64 \n",
      " 1   keyword   7552 non-null   object\n",
      " 2   location  5080 non-null   object\n",
      " 3   text      7613 non-null   object\n",
      " 4   target    7613 non-null   int64 \n",
      "dtypes: int64(2), object(3)\n",
      "memory usage: 297.5+ KB\n"
     ]
    }
   ],
   "source": [
    "x1.info()"
   ]
  },
  {
   "cell_type": "code",
   "execution_count": 805,
   "metadata": {},
   "outputs": [
    {
     "data": {
      "text/plain": [
       "keyword\n",
       "fatalities               45\n",
       "deluge                   42\n",
       "armageddon               42\n",
       "sinking                  41\n",
       "damage                   41\n",
       "                         ..\n",
       "forest%20fire            19\n",
       "epicentre                12\n",
       "threat                   11\n",
       "inundation               10\n",
       "radiation%20emergency     9\n",
       "Name: count, Length: 221, dtype: int64"
      ]
     },
     "execution_count": 805,
     "metadata": {},
     "output_type": "execute_result"
    }
   ],
   "source": [
    "x1['keyword'].value_counts()"
   ]
  },
  {
   "cell_type": "markdown",
   "metadata": {},
   "source": [
    " # Limpiando el texto de X1"
   ]
  },
  {
   "cell_type": "code",
   "execution_count": 806,
   "metadata": {},
   "outputs": [
    {
     "name": "stderr",
     "output_type": "stream",
     "text": [
      "C:\\Users\\FRANK\\AppData\\Local\\Temp\\ipykernel_20668\\1173858714.py:1: FutureWarning: A value is trying to be set on a copy of a DataFrame or Series through chained assignment using an inplace method.\n",
      "The behavior will change in pandas 3.0. This inplace method will never work because the intermediate object on which we are setting values always behaves as a copy.\n",
      "\n",
      "For example, when doing 'df[col].method(value, inplace=True)', try using 'df.method({col: value}, inplace=True)' or df[col] = df[col].method(value) instead, to perform the operation inplace on the original object.\n",
      "\n",
      "\n",
      "  x1['keyword'].fillna('none',inplace=True)\n",
      "C:\\Users\\FRANK\\AppData\\Local\\Temp\\ipykernel_20668\\1173858714.py:2: FutureWarning: A value is trying to be set on a copy of a DataFrame or Series through chained assignment using an inplace method.\n",
      "The behavior will change in pandas 3.0. This inplace method will never work because the intermediate object on which we are setting values always behaves as a copy.\n",
      "\n",
      "For example, when doing 'df[col].method(value, inplace=True)', try using 'df.method({col: value}, inplace=True)' or df[col] = df[col].method(value) instead, to perform the operation inplace on the original object.\n",
      "\n",
      "\n",
      "  x1['location'].fillna('none',inplace=True)\n"
     ]
    }
   ],
   "source": [
    "x1['keyword'].fillna('none',inplace=True)\n",
    "x1['location'].fillna('none',inplace=True)"
   ]
  },
  {
   "cell_type": "code",
   "execution_count": 807,
   "metadata": {},
   "outputs": [
    {
     "data": {
      "text/plain": [
       "id          0\n",
       "keyword     0\n",
       "location    0\n",
       "text        0\n",
       "target      0\n",
       "dtype: int64"
      ]
     },
     "execution_count": 807,
     "metadata": {},
     "output_type": "execute_result"
    }
   ],
   "source": [
    "x1.isnull().sum()"
   ]
  },
  {
   "cell_type": "code",
   "execution_count": 808,
   "metadata": {},
   "outputs": [],
   "source": [
    "# Función de limpieza de texto\n",
    "def clean_text(text):\n",
    "    # Eliminar URLs\n",
    "    text = re.sub(r'http\\S+|www\\S+|https\\S+', '', text, flags=re.MULTILINE)\n",
    "    # Eliminar menciones de usuarios\n",
    "    text = re.sub(r'@\\w+', '', text)\n",
    "    # Eliminar hashtags\n",
    "    text = re.sub(r'#', '', text)\n",
    "    # Eliminar puntuación\n",
    "    text = re.sub(r'[^\\w\\s]', '', text)\n",
    "    # Convertir a minúsculas\n",
    "    text = text.lower()\n",
    "    # Tokenizar el texto (dividir en palabras)\n",
    "    tokens = text.split()\n",
    "    # Unir las palabras de nuevo en una sola cadena\n",
    "    cleaned_text = ' '.join(tokens)\n",
    "    return cleaned_text\n",
    "\n",
    "# Aplicar la función de limpieza al texto\n",
    "x1['cleaned_text'] = x1['text'].apply(clean_text)"
   ]
  },
  {
   "cell_type": "code",
   "execution_count": 809,
   "metadata": {},
   "outputs": [
    {
     "data": {
      "text/plain": [
       "array(['Our Deeds are the Reason of this #earthquake May ALLAH Forgive us all',\n",
       "       'Forest fire near La Ronge Sask. Canada',\n",
       "       \"All residents asked to 'shelter in place' are being notified by officers. No other evacuation or shelter in place orders are expected\",\n",
       "       ...,\n",
       "       'Suicide bomber kills 15 in Saudi security site mosque - Reuters via World - Google News - Wall ... http://t.co/nF4IculOje',\n",
       "       'Two giant cranes holding a bridge collapse into nearby homes http://t.co/STfMbbZFB5',\n",
       "       'The Latest: More Homes Razed by Northern California Wildfire - ABC News http://t.co/YmY4rSkQ3d'],\n",
       "      dtype=object)"
      ]
     },
     "execution_count": 809,
     "metadata": {},
     "output_type": "execute_result"
    }
   ],
   "source": [
    "x1['text'].unique()"
   ]
  },
  {
   "cell_type": "code",
   "execution_count": 810,
   "metadata": {},
   "outputs": [
    {
     "data": {
      "text/plain": [
       "array(['our deeds are the reason of this earthquake may allah forgive us all',\n",
       "       'forest fire near la ronge sask canada',\n",
       "       'all residents asked to shelter in place are being notified by officers no other evacuation or shelter in place orders are expected',\n",
       "       ...,\n",
       "       'officials say a quarantine is in place at an alabama home over a possible ebola case after developing symptoms',\n",
       "       'on the flip side im at walmart and there is a bomb and everyone had to evacuate so stay tuned if i blow up or not',\n",
       "       'suicide bomber kills 15 in saudi security site mosque reuters via world google news wall'],\n",
       "      dtype=object)"
      ]
     },
     "execution_count": 810,
     "metadata": {},
     "output_type": "execute_result"
    }
   ],
   "source": [
    "x1['cleaned_text'].unique()"
   ]
  },
  {
   "cell_type": "code",
   "execution_count": 811,
   "metadata": {},
   "outputs": [],
   "source": [
    "# Función de limpieza de texto\n",
    "def clean_text_location(location):\n",
    "    # Eliminar URLs\n",
    "    location = re.sub(r'http\\S+|www\\S+|https\\S+', '', location, flags=re.MULTILINE)\n",
    "    # Eliminar menciones de usuarios\n",
    "    location = re.sub(r'@\\w+', '', location)\n",
    "    # Eliminar hashtags\n",
    "    location = re.sub(r'#', '', location)\n",
    "    # Eliminar puntuación\n",
    "    location = re.sub(r'[^\\w\\s]', '', location)\n",
    "    # Convertir a minúsculas\n",
    "    location = location.lower()\n",
    "    # Tokenizar el texto (dividir en palabras)\n",
    "    tokens = location.split()\n",
    "    # Unir las palabras de nuevo en una sola cadena\n",
    "    cleaned_location = ' '.join(tokens)\n",
    "    return cleaned_location\n",
    "\n",
    "# Aplicar la función de limpieza al texto\n",
    "x1['cleaned_location'] = x1['location'].apply(clean_text_location)"
   ]
  },
  {
   "cell_type": "code",
   "execution_count": 812,
   "metadata": {},
   "outputs": [
    {
     "data": {
      "text/plain": [
       "array(['none', 'Birmingham', 'Est. September 2012 - Bristol', ...,\n",
       "       'Vancouver, Canada', 'London ', 'Lincoln'], dtype=object)"
      ]
     },
     "execution_count": 812,
     "metadata": {},
     "output_type": "execute_result"
    }
   ],
   "source": [
    "x1['location'].unique()"
   ]
  },
  {
   "cell_type": "code",
   "execution_count": 813,
   "metadata": {},
   "outputs": [
    {
     "data": {
      "text/plain": [
       "array(['none', 'birmingham', 'est september 2012 bristol', ...,\n",
       "       'denton texas', 'newcastleupontyne uk', 'lincoln'], dtype=object)"
      ]
     },
     "execution_count": 813,
     "metadata": {},
     "output_type": "execute_result"
    }
   ],
   "source": [
    "x1['cleaned_location'].unique()"
   ]
  },
  {
   "cell_type": "code",
   "execution_count": 814,
   "metadata": {},
   "outputs": [],
   "source": [
    "# Función de limpieza de palabras clave\n",
    "def clean_text_keyword(keyword):\n",
    "    # Eliminar URLs\n",
    "    keyword = re.sub(r'http\\S+|www\\S+|https\\S+', '', keyword, flags=re.MULTILINE)\n",
    "    # Eliminar menciones de usuarios\n",
    "    keyword = re.sub(r'@\\w+', '', keyword)\n",
    "    # Eliminar hashtags\n",
    "    keyword = re.sub(r'#', '', keyword)\n",
    "    # Eliminar puntuación\n",
    "    keyword = re.sub(r'[^\\w\\s]', '', keyword)\n",
    "    # Convertir a minúsculas\n",
    "    keyword = keyword.lower()\n",
    "    # Eliminar palabras seguidas de números\n",
    "    keyword = re.sub(r'\\b\\w*\\d\\w*\\b', '', keyword)\n",
    "    # Tokenizar el texto (dividir en palabras)\n",
    "    tokens = keyword.split()\n",
    "    # Unir las palabras de nuevo en una sola cadena\n",
    "    cleaned_keyword = ' '.join(tokens)\n",
    "    return cleaned_keyword\n",
    "\n",
    "# Aplicar la función de limpieza a las palabras clave\n",
    "x1['cleaned_keyword'] = x1['keyword'].apply(clean_text_keyword)"
   ]
  },
  {
   "cell_type": "code",
   "execution_count": 815,
   "metadata": {},
   "outputs": [
    {
     "data": {
      "text/plain": [
       "array(['none', 'ablaze', 'accident', 'aftershock', 'airplane%20accident',\n",
       "       'ambulance', 'annihilated', 'annihilation', 'apocalypse',\n",
       "       'armageddon', 'army', 'arson', 'arsonist', 'attack', 'attacked',\n",
       "       'avalanche', 'battle', 'bioterror', 'bioterrorism', 'blaze',\n",
       "       'blazing', 'bleeding', 'blew%20up', 'blight', 'blizzard', 'blood',\n",
       "       'bloody', 'blown%20up', 'body%20bag', 'body%20bagging',\n",
       "       'body%20bags', 'bomb', 'bombed', 'bombing', 'bridge%20collapse',\n",
       "       'buildings%20burning', 'buildings%20on%20fire', 'burned',\n",
       "       'burning', 'burning%20buildings', 'bush%20fires', 'casualties',\n",
       "       'casualty', 'catastrophe', 'catastrophic', 'chemical%20emergency',\n",
       "       'cliff%20fall', 'collapse', 'collapsed', 'collide', 'collided',\n",
       "       'collision', 'crash', 'crashed', 'crush', 'crushed', 'curfew',\n",
       "       'cyclone', 'damage', 'danger', 'dead', 'death', 'deaths', 'debris',\n",
       "       'deluge', 'deluged', 'demolish', 'demolished', 'demolition',\n",
       "       'derail', 'derailed', 'derailment', 'desolate', 'desolation',\n",
       "       'destroy', 'destroyed', 'destruction', 'detonate', 'detonation',\n",
       "       'devastated', 'devastation', 'disaster', 'displaced', 'drought',\n",
       "       'drown', 'drowned', 'drowning', 'dust%20storm', 'earthquake',\n",
       "       'electrocute', 'electrocuted', 'emergency', 'emergency%20plan',\n",
       "       'emergency%20services', 'engulfed', 'epicentre', 'evacuate',\n",
       "       'evacuated', 'evacuation', 'explode', 'exploded', 'explosion',\n",
       "       'eyewitness', 'famine', 'fatal', 'fatalities', 'fatality', 'fear',\n",
       "       'fire', 'fire%20truck', 'first%20responders', 'flames',\n",
       "       'flattened', 'flood', 'flooding', 'floods', 'forest%20fire',\n",
       "       'forest%20fires', 'hail', 'hailstorm', 'harm', 'hazard',\n",
       "       'hazardous', 'heat%20wave', 'hellfire', 'hijack', 'hijacker',\n",
       "       'hijacking', 'hostage', 'hostages', 'hurricane', 'injured',\n",
       "       'injuries', 'injury', 'inundated', 'inundation', 'landslide',\n",
       "       'lava', 'lightning', 'loud%20bang', 'mass%20murder',\n",
       "       'mass%20murderer', 'massacre', 'mayhem', 'meltdown', 'military',\n",
       "       'mudslide', 'natural%20disaster', 'nuclear%20disaster',\n",
       "       'nuclear%20reactor', 'obliterate', 'obliterated', 'obliteration',\n",
       "       'oil%20spill', 'outbreak', 'pandemonium', 'panic', 'panicking',\n",
       "       'police', 'quarantine', 'quarantined', 'radiation%20emergency',\n",
       "       'rainstorm', 'razed', 'refugees', 'rescue', 'rescued', 'rescuers',\n",
       "       'riot', 'rioting', 'rubble', 'ruin', 'sandstorm', 'screamed',\n",
       "       'screaming', 'screams', 'seismic', 'sinkhole', 'sinking', 'siren',\n",
       "       'sirens', 'smoke', 'snowstorm', 'storm', 'stretcher',\n",
       "       'structural%20failure', 'suicide%20bomb', 'suicide%20bomber',\n",
       "       'suicide%20bombing', 'sunk', 'survive', 'survived', 'survivors',\n",
       "       'terrorism', 'terrorist', 'threat', 'thunder', 'thunderstorm',\n",
       "       'tornado', 'tragedy', 'trapped', 'trauma', 'traumatised',\n",
       "       'trouble', 'tsunami', 'twister', 'typhoon', 'upheaval',\n",
       "       'violent%20storm', 'volcano', 'war%20zone', 'weapon', 'weapons',\n",
       "       'whirlwind', 'wild%20fires', 'wildfire', 'windstorm', 'wounded',\n",
       "       'wounds', 'wreck', 'wreckage', 'wrecked'], dtype=object)"
      ]
     },
     "execution_count": 815,
     "metadata": {},
     "output_type": "execute_result"
    }
   ],
   "source": [
    "x1['keyword'].unique()"
   ]
  },
  {
   "cell_type": "code",
   "execution_count": 816,
   "metadata": {},
   "outputs": [
    {
     "data": {
      "text/plain": [
       "array(['none', 'ablaze', 'accident', 'aftershock', '', 'ambulance',\n",
       "       'annihilated', 'annihilation', 'apocalypse', 'armageddon', 'army',\n",
       "       'arson', 'arsonist', 'attack', 'attacked', 'avalanche', 'battle',\n",
       "       'bioterror', 'bioterrorism', 'blaze', 'blazing', 'bleeding',\n",
       "       'blight', 'blizzard', 'blood', 'bloody', 'bomb', 'bombed',\n",
       "       'bombing', 'burned', 'burning', 'casualties', 'casualty',\n",
       "       'catastrophe', 'catastrophic', 'collapse', 'collapsed', 'collide',\n",
       "       'collided', 'collision', 'crash', 'crashed', 'crush', 'crushed',\n",
       "       'curfew', 'cyclone', 'damage', 'danger', 'dead', 'death', 'deaths',\n",
       "       'debris', 'deluge', 'deluged', 'demolish', 'demolished',\n",
       "       'demolition', 'derail', 'derailed', 'derailment', 'desolate',\n",
       "       'desolation', 'destroy', 'destroyed', 'destruction', 'detonate',\n",
       "       'detonation', 'devastated', 'devastation', 'disaster', 'displaced',\n",
       "       'drought', 'drown', 'drowned', 'drowning', 'earthquake',\n",
       "       'electrocute', 'electrocuted', 'emergency', 'engulfed',\n",
       "       'epicentre', 'evacuate', 'evacuated', 'evacuation', 'explode',\n",
       "       'exploded', 'explosion', 'eyewitness', 'famine', 'fatal',\n",
       "       'fatalities', 'fatality', 'fear', 'fire', 'flames', 'flattened',\n",
       "       'flood', 'flooding', 'floods', 'hail', 'hailstorm', 'harm',\n",
       "       'hazard', 'hazardous', 'hellfire', 'hijack', 'hijacker',\n",
       "       'hijacking', 'hostage', 'hostages', 'hurricane', 'injured',\n",
       "       'injuries', 'injury', 'inundated', 'inundation', 'landslide',\n",
       "       'lava', 'lightning', 'massacre', 'mayhem', 'meltdown', 'military',\n",
       "       'mudslide', 'obliterate', 'obliterated', 'obliteration',\n",
       "       'outbreak', 'pandemonium', 'panic', 'panicking', 'police',\n",
       "       'quarantine', 'quarantined', 'rainstorm', 'razed', 'refugees',\n",
       "       'rescue', 'rescued', 'rescuers', 'riot', 'rioting', 'rubble',\n",
       "       'ruin', 'sandstorm', 'screamed', 'screaming', 'screams', 'seismic',\n",
       "       'sinkhole', 'sinking', 'siren', 'sirens', 'smoke', 'snowstorm',\n",
       "       'storm', 'stretcher', 'sunk', 'survive', 'survived', 'survivors',\n",
       "       'terrorism', 'terrorist', 'threat', 'thunder', 'thunderstorm',\n",
       "       'tornado', 'tragedy', 'trapped', 'trauma', 'traumatised',\n",
       "       'trouble', 'tsunami', 'twister', 'typhoon', 'upheaval', 'volcano',\n",
       "       'weapon', 'weapons', 'whirlwind', 'wildfire', 'windstorm',\n",
       "       'wounded', 'wounds', 'wreck', 'wreckage', 'wrecked'], dtype=object)"
      ]
     },
     "execution_count": 816,
     "metadata": {},
     "output_type": "execute_result"
    }
   ],
   "source": [
    "x1['cleaned_keyword'].unique()"
   ]
  },
  {
   "cell_type": "code",
   "execution_count": 817,
   "metadata": {},
   "outputs": [
    {
     "data": {
      "text/html": [
       "<div>\n",
       "<style scoped>\n",
       "    .dataframe tbody tr th:only-of-type {\n",
       "        vertical-align: middle;\n",
       "    }\n",
       "\n",
       "    .dataframe tbody tr th {\n",
       "        vertical-align: top;\n",
       "    }\n",
       "\n",
       "    .dataframe thead th {\n",
       "        text-align: right;\n",
       "    }\n",
       "</style>\n",
       "<table border=\"1\" class=\"dataframe\">\n",
       "  <thead>\n",
       "    <tr style=\"text-align: right;\">\n",
       "      <th></th>\n",
       "      <th>id</th>\n",
       "      <th>keyword</th>\n",
       "      <th>location</th>\n",
       "      <th>text</th>\n",
       "      <th>target</th>\n",
       "      <th>cleaned_text</th>\n",
       "      <th>cleaned_location</th>\n",
       "      <th>cleaned_keyword</th>\n",
       "    </tr>\n",
       "  </thead>\n",
       "  <tbody>\n",
       "    <tr>\n",
       "      <th>0</th>\n",
       "      <td>1</td>\n",
       "      <td>none</td>\n",
       "      <td>none</td>\n",
       "      <td>Our Deeds are the Reason of this #earthquake M...</td>\n",
       "      <td>1</td>\n",
       "      <td>our deeds are the reason of this earthquake ma...</td>\n",
       "      <td>none</td>\n",
       "      <td>none</td>\n",
       "    </tr>\n",
       "    <tr>\n",
       "      <th>1</th>\n",
       "      <td>4</td>\n",
       "      <td>none</td>\n",
       "      <td>none</td>\n",
       "      <td>Forest fire near La Ronge Sask. Canada</td>\n",
       "      <td>1</td>\n",
       "      <td>forest fire near la ronge sask canada</td>\n",
       "      <td>none</td>\n",
       "      <td>none</td>\n",
       "    </tr>\n",
       "    <tr>\n",
       "      <th>2</th>\n",
       "      <td>5</td>\n",
       "      <td>none</td>\n",
       "      <td>none</td>\n",
       "      <td>All residents asked to 'shelter in place' are ...</td>\n",
       "      <td>1</td>\n",
       "      <td>all residents asked to shelter in place are be...</td>\n",
       "      <td>none</td>\n",
       "      <td>none</td>\n",
       "    </tr>\n",
       "    <tr>\n",
       "      <th>3</th>\n",
       "      <td>6</td>\n",
       "      <td>none</td>\n",
       "      <td>none</td>\n",
       "      <td>13,000 people receive #wildfires evacuation or...</td>\n",
       "      <td>1</td>\n",
       "      <td>13000 people receive wildfires evacuation orde...</td>\n",
       "      <td>none</td>\n",
       "      <td>none</td>\n",
       "    </tr>\n",
       "    <tr>\n",
       "      <th>4</th>\n",
       "      <td>7</td>\n",
       "      <td>none</td>\n",
       "      <td>none</td>\n",
       "      <td>Just got sent this photo from Ruby #Alaska as ...</td>\n",
       "      <td>1</td>\n",
       "      <td>just got sent this photo from ruby alaska as s...</td>\n",
       "      <td>none</td>\n",
       "      <td>none</td>\n",
       "    </tr>\n",
       "  </tbody>\n",
       "</table>\n",
       "</div>"
      ],
      "text/plain": [
       "   id keyword location                                               text  \\\n",
       "0   1    none     none  Our Deeds are the Reason of this #earthquake M...   \n",
       "1   4    none     none             Forest fire near La Ronge Sask. Canada   \n",
       "2   5    none     none  All residents asked to 'shelter in place' are ...   \n",
       "3   6    none     none  13,000 people receive #wildfires evacuation or...   \n",
       "4   7    none     none  Just got sent this photo from Ruby #Alaska as ...   \n",
       "\n",
       "   target                                       cleaned_text cleaned_location  \\\n",
       "0       1  our deeds are the reason of this earthquake ma...             none   \n",
       "1       1              forest fire near la ronge sask canada             none   \n",
       "2       1  all residents asked to shelter in place are be...             none   \n",
       "3       1  13000 people receive wildfires evacuation orde...             none   \n",
       "4       1  just got sent this photo from ruby alaska as s...             none   \n",
       "\n",
       "  cleaned_keyword  \n",
       "0            none  \n",
       "1            none  \n",
       "2            none  \n",
       "3            none  \n",
       "4            none  "
      ]
     },
     "execution_count": 817,
     "metadata": {},
     "output_type": "execute_result"
    }
   ],
   "source": [
    "x1.head()"
   ]
  },
  {
   "cell_type": "markdown",
   "metadata": {},
   "source": [
    "# Limpiando el texto x2 "
   ]
  },
  {
   "cell_type": "code",
   "execution_count": 818,
   "metadata": {},
   "outputs": [
    {
     "data": {
      "text/html": [
       "<div>\n",
       "<style scoped>\n",
       "    .dataframe tbody tr th:only-of-type {\n",
       "        vertical-align: middle;\n",
       "    }\n",
       "\n",
       "    .dataframe tbody tr th {\n",
       "        vertical-align: top;\n",
       "    }\n",
       "\n",
       "    .dataframe thead th {\n",
       "        text-align: right;\n",
       "    }\n",
       "</style>\n",
       "<table border=\"1\" class=\"dataframe\">\n",
       "  <thead>\n",
       "    <tr style=\"text-align: right;\">\n",
       "      <th></th>\n",
       "      <th>id</th>\n",
       "      <th>keyword</th>\n",
       "      <th>location</th>\n",
       "      <th>text</th>\n",
       "    </tr>\n",
       "  </thead>\n",
       "  <tbody>\n",
       "    <tr>\n",
       "      <th>0</th>\n",
       "      <td>0</td>\n",
       "      <td>NaN</td>\n",
       "      <td>NaN</td>\n",
       "      <td>Just happened a terrible car crash</td>\n",
       "    </tr>\n",
       "    <tr>\n",
       "      <th>1</th>\n",
       "      <td>2</td>\n",
       "      <td>NaN</td>\n",
       "      <td>NaN</td>\n",
       "      <td>Heard about #earthquake is different cities, s...</td>\n",
       "    </tr>\n",
       "    <tr>\n",
       "      <th>2</th>\n",
       "      <td>3</td>\n",
       "      <td>NaN</td>\n",
       "      <td>NaN</td>\n",
       "      <td>there is a forest fire at spot pond, geese are...</td>\n",
       "    </tr>\n",
       "    <tr>\n",
       "      <th>3</th>\n",
       "      <td>9</td>\n",
       "      <td>NaN</td>\n",
       "      <td>NaN</td>\n",
       "      <td>Apocalypse lighting. #Spokane #wildfires</td>\n",
       "    </tr>\n",
       "    <tr>\n",
       "      <th>4</th>\n",
       "      <td>11</td>\n",
       "      <td>NaN</td>\n",
       "      <td>NaN</td>\n",
       "      <td>Typhoon Soudelor kills 28 in China and Taiwan</td>\n",
       "    </tr>\n",
       "  </tbody>\n",
       "</table>\n",
       "</div>"
      ],
      "text/plain": [
       "   id keyword location                                               text\n",
       "0   0     NaN      NaN                 Just happened a terrible car crash\n",
       "1   2     NaN      NaN  Heard about #earthquake is different cities, s...\n",
       "2   3     NaN      NaN  there is a forest fire at spot pond, geese are...\n",
       "3   9     NaN      NaN           Apocalypse lighting. #Spokane #wildfires\n",
       "4  11     NaN      NaN      Typhoon Soudelor kills 28 in China and Taiwan"
      ]
     },
     "execution_count": 818,
     "metadata": {},
     "output_type": "execute_result"
    }
   ],
   "source": [
    "x2.head()"
   ]
  },
  {
   "cell_type": "code",
   "execution_count": 819,
   "metadata": {},
   "outputs": [
    {
     "name": "stdout",
     "output_type": "stream",
     "text": [
      "Número de observaciones (filas) = 3263\n",
      "Total de variables disponibles (columnas) = 4 \n",
      "Columnas que cuentan con un valor nulo -\n",
      "id             0\n",
      "keyword       26\n",
      "location    1105\n",
      "text           0\n",
      "dtype: int64\n"
     ]
    }
   ],
   "source": [
    "print('Número de observaciones (filas) = {}'.format(x2.shape[0]))\n",
    "print('Total de variables disponibles (columnas) = {} '.format(x2.columns.shape[0]))\n",
    "print('Columnas que cuentan con un valor nulo -')\n",
    "print(x2.isnull().sum())"
   ]
  },
  {
   "cell_type": "code",
   "execution_count": 820,
   "metadata": {},
   "outputs": [
    {
     "name": "stderr",
     "output_type": "stream",
     "text": [
      "C:\\Users\\FRANK\\AppData\\Local\\Temp\\ipykernel_20668\\2606751553.py:1: FutureWarning: A value is trying to be set on a copy of a DataFrame or Series through chained assignment using an inplace method.\n",
      "The behavior will change in pandas 3.0. This inplace method will never work because the intermediate object on which we are setting values always behaves as a copy.\n",
      "\n",
      "For example, when doing 'df[col].method(value, inplace=True)', try using 'df.method({col: value}, inplace=True)' or df[col] = df[col].method(value) instead, to perform the operation inplace on the original object.\n",
      "\n",
      "\n",
      "  x2['keyword'].fillna('none',inplace=True)\n",
      "C:\\Users\\FRANK\\AppData\\Local\\Temp\\ipykernel_20668\\2606751553.py:2: FutureWarning: A value is trying to be set on a copy of a DataFrame or Series through chained assignment using an inplace method.\n",
      "The behavior will change in pandas 3.0. This inplace method will never work because the intermediate object on which we are setting values always behaves as a copy.\n",
      "\n",
      "For example, when doing 'df[col].method(value, inplace=True)', try using 'df.method({col: value}, inplace=True)' or df[col] = df[col].method(value) instead, to perform the operation inplace on the original object.\n",
      "\n",
      "\n",
      "  x2['location'].fillna('none',inplace=True)\n"
     ]
    }
   ],
   "source": [
    "x2['keyword'].fillna('none',inplace=True)\n",
    "x2['location'].fillna('none',inplace=True)"
   ]
  },
  {
   "cell_type": "code",
   "execution_count": 821,
   "metadata": {},
   "outputs": [],
   "source": [
    "# Función de limpieza de texto\n",
    "def clean_text(text):\n",
    "    # Eliminar URLs\n",
    "    text = re.sub(r'http\\S+|www\\S+|https\\S+', '', text, flags=re.MULTILINE)\n",
    "    # Eliminar menciones de usuarios\n",
    "    text = re.sub(r'@\\w+', '', text)\n",
    "    # Eliminar hashtags\n",
    "    text = re.sub(r'#', '', text)\n",
    "    # Eliminar puntuación\n",
    "    text = re.sub(r'[^\\w\\s]', '', text)\n",
    "    # Convertir a minúsculas\n",
    "    text = text.lower()\n",
    "    # Tokenizar el texto (dividir en palabras)\n",
    "    tokens = text.split()\n",
    "    # Unir las palabras de nuevo en una sola cadena\n",
    "    cleaned_text = ' '.join(tokens)\n",
    "    return cleaned_text\n",
    "\n",
    "# Aplicar la función de limpieza al texto\n",
    "x2['cleaned_text'] = x2['text'].apply(clean_text)"
   ]
  },
  {
   "cell_type": "code",
   "execution_count": 822,
   "metadata": {},
   "outputs": [
    {
     "data": {
      "text/plain": [
       "array(['Just happened a terrible car crash',\n",
       "       'Heard about #earthquake is different cities, stay safe everyone.',\n",
       "       'there is a forest fire at spot pond, geese are fleeing across the street, I cannot save them all',\n",
       "       ..., 'Green Line derailment in Chicago http://t.co/UtbXLcBIuY',\n",
       "       'MEG issues Hazardous Weather Outlook (HWO) http://t.co/3X6RBQJHn3',\n",
       "       '#CityofCalgary has activated its Municipal Emergency Plan. #yycstorm'],\n",
       "      dtype=object)"
      ]
     },
     "execution_count": 822,
     "metadata": {},
     "output_type": "execute_result"
    }
   ],
   "source": [
    "x2['text'].unique()"
   ]
  },
  {
   "cell_type": "code",
   "execution_count": 823,
   "metadata": {},
   "outputs": [
    {
     "data": {
      "text/plain": [
       "array(['just happened a terrible car crash',\n",
       "       'heard about earthquake is different cities stay safe everyone',\n",
       "       'there is a forest fire at spot pond geese are fleeing across the street i cannot save them all',\n",
       "       ..., 'green line derailment in chicago',\n",
       "       'meg issues hazardous weather outlook hwo',\n",
       "       'cityofcalgary has activated its municipal emergency plan yycstorm'],\n",
       "      dtype=object)"
      ]
     },
     "execution_count": 823,
     "metadata": {},
     "output_type": "execute_result"
    }
   ],
   "source": [
    "x2['cleaned_text'].unique()"
   ]
  },
  {
   "cell_type": "code",
   "execution_count": 824,
   "metadata": {},
   "outputs": [],
   "source": [
    "# Función de limpieza de texto\n",
    "def clean_text_location(location):\n",
    "    # Eliminar URLs\n",
    "    location = re.sub(r'http\\S+|www\\S+|https\\S+', '', location, flags=re.MULTILINE)\n",
    "    # Eliminar menciones de usuarios\n",
    "    location = re.sub(r'@\\w+', '', location)\n",
    "    # Eliminar hashtags\n",
    "    location = re.sub(r'#', '', location)\n",
    "    # Eliminar puntuación\n",
    "    location = re.sub(r'[^\\w\\s]', '', location)\n",
    "    # Convertir a minúsculas\n",
    "    location = location.lower()\n",
    "    # Tokenizar el texto (dividir en palabras)\n",
    "    tokens = location.split()\n",
    "    # Unir las palabras de nuevo en una sola cadena\n",
    "    cleaned_location = ' '.join(tokens)\n",
    "    return cleaned_location\n",
    "\n",
    "# Aplicar la función de limpieza al texto\n",
    "x2['cleaned_location'] = x2['location'].apply(clean_text_location)"
   ]
  },
  {
   "cell_type": "code",
   "execution_count": 825,
   "metadata": {},
   "outputs": [
    {
     "data": {
      "text/plain": [
       "array(['none', 'London', \"Niall's place | SAF 12 SQUAD |\", ...,\n",
       "       'Acey mountain islanddåÇTorontoåÈ', 'los angeles',\n",
       "       'Brussels, Belgium'], dtype=object)"
      ]
     },
     "execution_count": 825,
     "metadata": {},
     "output_type": "execute_result"
    }
   ],
   "source": [
    "x2['location'].unique()"
   ]
  },
  {
   "cell_type": "code",
   "execution_count": 826,
   "metadata": {},
   "outputs": [
    {
     "data": {
      "text/plain": [
       "array(['none', 'london', 'nialls place saf 12 squad', ...,\n",
       "       'seattle washington', 'acey mountain islanddåçtorontoåè',\n",
       "       'brussels belgium'], dtype=object)"
      ]
     },
     "execution_count": 826,
     "metadata": {},
     "output_type": "execute_result"
    }
   ],
   "source": [
    "x2['cleaned_location'].unique()"
   ]
  },
  {
   "cell_type": "code",
   "execution_count": 827,
   "metadata": {},
   "outputs": [],
   "source": [
    "# Función de limpieza de palabras clave\n",
    "def clean_text_keyword(keyword):\n",
    "    # Eliminar URLs\n",
    "    keyword = re.sub(r'http\\S+|www\\S+|https\\S+', '', keyword, flags=re.MULTILINE)\n",
    "    # Eliminar menciones de usuarios\n",
    "    keyword = re.sub(r'@\\w+', '', keyword)\n",
    "    # Eliminar hashtags\n",
    "    keyword = re.sub(r'#', '', keyword)\n",
    "    # Eliminar puntuación\n",
    "    keyword = re.sub(r'[^\\w\\s]', '', keyword)\n",
    "    # Convertir a minúsculas\n",
    "    keyword = keyword.lower()\n",
    "    # Eliminar palabras seguidas de números\n",
    "    keyword = re.sub(r'\\b\\w*\\d\\w*\\b', '', keyword)\n",
    "    # Tokenizar el texto (dividir en palabras)\n",
    "    tokens = keyword.split()\n",
    "    # Unir las palabras de nuevo en una sola cadena\n",
    "    cleaned_keyword = ' '.join(tokens)\n",
    "    return cleaned_keyword\n",
    "\n",
    "# Aplicar la función de limpieza a las palabras clave\n",
    "x2['cleaned_keyword'] = x2['keyword'].apply(clean_text_keyword)"
   ]
  },
  {
   "cell_type": "code",
   "execution_count": 828,
   "metadata": {},
   "outputs": [
    {
     "data": {
      "text/plain": [
       "array(['none', 'ablaze', 'accident', 'aftershock', 'airplane%20accident',\n",
       "       'ambulance', 'annihilated', 'annihilation', 'apocalypse',\n",
       "       'armageddon', 'army', 'arson', 'arsonist', 'attack', 'attacked',\n",
       "       'avalanche', 'battle', 'bioterror', 'bioterrorism', 'blaze',\n",
       "       'blazing', 'bleeding', 'blew%20up', 'blight', 'blizzard', 'blood',\n",
       "       'bloody', 'blown%20up', 'body%20bag', 'body%20bagging',\n",
       "       'body%20bags', 'bomb', 'bombed', 'bombing', 'bridge%20collapse',\n",
       "       'buildings%20burning', 'buildings%20on%20fire', 'burned',\n",
       "       'burning', 'burning%20buildings', 'bush%20fires', 'casualties',\n",
       "       'casualty', 'catastrophe', 'catastrophic', 'chemical%20emergency',\n",
       "       'cliff%20fall', 'collapse', 'collapsed', 'collide', 'collided',\n",
       "       'collision', 'crash', 'crashed', 'crush', 'crushed', 'curfew',\n",
       "       'cyclone', 'damage', 'danger', 'dead', 'death', 'deaths', 'debris',\n",
       "       'deluge', 'deluged', 'demolish', 'demolished', 'demolition',\n",
       "       'derail', 'derailed', 'derailment', 'desolate', 'desolation',\n",
       "       'destroy', 'destroyed', 'destruction', 'detonate', 'detonation',\n",
       "       'devastated', 'devastation', 'disaster', 'displaced', 'drought',\n",
       "       'drown', 'drowned', 'drowning', 'dust%20storm', 'earthquake',\n",
       "       'electrocute', 'electrocuted', 'emergency', 'emergency%20plan',\n",
       "       'emergency%20services', 'engulfed', 'epicentre', 'evacuate',\n",
       "       'evacuated', 'evacuation', 'explode', 'exploded', 'explosion',\n",
       "       'eyewitness', 'famine', 'fatal', 'fatalities', 'fatality', 'fear',\n",
       "       'fire', 'fire%20truck', 'first%20responders', 'flames',\n",
       "       'flattened', 'flood', 'flooding', 'floods', 'forest%20fire',\n",
       "       'forest%20fires', 'hail', 'hailstorm', 'harm', 'hazard',\n",
       "       'hazardous', 'heat%20wave', 'hellfire', 'hijack', 'hijacker',\n",
       "       'hijacking', 'hostage', 'hostages', 'hurricane', 'injured',\n",
       "       'injuries', 'injury', 'inundated', 'inundation', 'landslide',\n",
       "       'lava', 'lightning', 'loud%20bang', 'mass%20murder',\n",
       "       'mass%20murderer', 'massacre', 'mayhem', 'meltdown', 'military',\n",
       "       'mudslide', 'natural%20disaster', 'nuclear%20disaster',\n",
       "       'nuclear%20reactor', 'obliterate', 'obliterated', 'obliteration',\n",
       "       'oil%20spill', 'outbreak', 'pandemonium', 'panic', 'panicking',\n",
       "       'police', 'quarantine', 'quarantined', 'radiation%20emergency',\n",
       "       'rainstorm', 'razed', 'refugees', 'rescue', 'rescued', 'rescuers',\n",
       "       'riot', 'rioting', 'rubble', 'ruin', 'sandstorm', 'screamed',\n",
       "       'screaming', 'screams', 'seismic', 'sinkhole', 'sinking', 'siren',\n",
       "       'sirens', 'smoke', 'snowstorm', 'storm', 'stretcher',\n",
       "       'structural%20failure', 'suicide%20bomb', 'suicide%20bomber',\n",
       "       'suicide%20bombing', 'sunk', 'survive', 'survived', 'survivors',\n",
       "       'terrorism', 'terrorist', 'threat', 'thunder', 'thunderstorm',\n",
       "       'tornado', 'tragedy', 'trapped', 'trauma', 'traumatised',\n",
       "       'trouble', 'tsunami', 'twister', 'typhoon', 'upheaval',\n",
       "       'violent%20storm', 'volcano', 'war%20zone', 'weapon', 'weapons',\n",
       "       'whirlwind', 'wild%20fires', 'wildfire', 'windstorm', 'wounded',\n",
       "       'wounds', 'wreck', 'wreckage', 'wrecked'], dtype=object)"
      ]
     },
     "execution_count": 828,
     "metadata": {},
     "output_type": "execute_result"
    }
   ],
   "source": [
    "x2['keyword'].unique()"
   ]
  },
  {
   "cell_type": "code",
   "execution_count": 829,
   "metadata": {},
   "outputs": [
    {
     "data": {
      "text/plain": [
       "array(['none', 'ablaze', 'accident', 'aftershock', '', 'ambulance',\n",
       "       'annihilated', 'annihilation', 'apocalypse', 'armageddon', 'army',\n",
       "       'arson', 'arsonist', 'attack', 'attacked', 'avalanche', 'battle',\n",
       "       'bioterror', 'bioterrorism', 'blaze', 'blazing', 'bleeding',\n",
       "       'blight', 'blizzard', 'blood', 'bloody', 'bomb', 'bombed',\n",
       "       'bombing', 'burned', 'burning', 'casualties', 'casualty',\n",
       "       'catastrophe', 'catastrophic', 'collapse', 'collapsed', 'collide',\n",
       "       'collided', 'collision', 'crash', 'crashed', 'crush', 'crushed',\n",
       "       'curfew', 'cyclone', 'damage', 'danger', 'dead', 'death', 'deaths',\n",
       "       'debris', 'deluge', 'deluged', 'demolish', 'demolished',\n",
       "       'demolition', 'derail', 'derailed', 'derailment', 'desolate',\n",
       "       'desolation', 'destroy', 'destroyed', 'destruction', 'detonate',\n",
       "       'detonation', 'devastated', 'devastation', 'disaster', 'displaced',\n",
       "       'drought', 'drown', 'drowned', 'drowning', 'earthquake',\n",
       "       'electrocute', 'electrocuted', 'emergency', 'engulfed',\n",
       "       'epicentre', 'evacuate', 'evacuated', 'evacuation', 'explode',\n",
       "       'exploded', 'explosion', 'eyewitness', 'famine', 'fatal',\n",
       "       'fatalities', 'fatality', 'fear', 'fire', 'flames', 'flattened',\n",
       "       'flood', 'flooding', 'floods', 'hail', 'hailstorm', 'harm',\n",
       "       'hazard', 'hazardous', 'hellfire', 'hijack', 'hijacker',\n",
       "       'hijacking', 'hostage', 'hostages', 'hurricane', 'injured',\n",
       "       'injuries', 'injury', 'inundated', 'inundation', 'landslide',\n",
       "       'lava', 'lightning', 'massacre', 'mayhem', 'meltdown', 'military',\n",
       "       'mudslide', 'obliterate', 'obliterated', 'obliteration',\n",
       "       'outbreak', 'pandemonium', 'panic', 'panicking', 'police',\n",
       "       'quarantine', 'quarantined', 'rainstorm', 'razed', 'refugees',\n",
       "       'rescue', 'rescued', 'rescuers', 'riot', 'rioting', 'rubble',\n",
       "       'ruin', 'sandstorm', 'screamed', 'screaming', 'screams', 'seismic',\n",
       "       'sinkhole', 'sinking', 'siren', 'sirens', 'smoke', 'snowstorm',\n",
       "       'storm', 'stretcher', 'sunk', 'survive', 'survived', 'survivors',\n",
       "       'terrorism', 'terrorist', 'threat', 'thunder', 'thunderstorm',\n",
       "       'tornado', 'tragedy', 'trapped', 'trauma', 'traumatised',\n",
       "       'trouble', 'tsunami', 'twister', 'typhoon', 'upheaval', 'volcano',\n",
       "       'weapon', 'weapons', 'whirlwind', 'wildfire', 'windstorm',\n",
       "       'wounded', 'wounds', 'wreck', 'wreckage', 'wrecked'], dtype=object)"
      ]
     },
     "execution_count": 829,
     "metadata": {},
     "output_type": "execute_result"
    }
   ],
   "source": [
    "x2['cleaned_keyword'].unique()"
   ]
  },
  {
   "cell_type": "code",
   "execution_count": 830,
   "metadata": {},
   "outputs": [
    {
     "data": {
      "text/html": [
       "<div>\n",
       "<style scoped>\n",
       "    .dataframe tbody tr th:only-of-type {\n",
       "        vertical-align: middle;\n",
       "    }\n",
       "\n",
       "    .dataframe tbody tr th {\n",
       "        vertical-align: top;\n",
       "    }\n",
       "\n",
       "    .dataframe thead th {\n",
       "        text-align: right;\n",
       "    }\n",
       "</style>\n",
       "<table border=\"1\" class=\"dataframe\">\n",
       "  <thead>\n",
       "    <tr style=\"text-align: right;\">\n",
       "      <th></th>\n",
       "      <th>id</th>\n",
       "      <th>keyword</th>\n",
       "      <th>location</th>\n",
       "      <th>text</th>\n",
       "      <th>cleaned_text</th>\n",
       "      <th>cleaned_location</th>\n",
       "      <th>cleaned_keyword</th>\n",
       "    </tr>\n",
       "  </thead>\n",
       "  <tbody>\n",
       "    <tr>\n",
       "      <th>3258</th>\n",
       "      <td>10861</td>\n",
       "      <td>none</td>\n",
       "      <td>none</td>\n",
       "      <td>EARTHQUAKE SAFETY LOS ANGELES ÛÒ SAFETY FASTE...</td>\n",
       "      <td>earthquake safety los angeles ûò safety fasten...</td>\n",
       "      <td>none</td>\n",
       "      <td>none</td>\n",
       "    </tr>\n",
       "    <tr>\n",
       "      <th>3259</th>\n",
       "      <td>10865</td>\n",
       "      <td>none</td>\n",
       "      <td>none</td>\n",
       "      <td>Storm in RI worse than last hurricane. My city...</td>\n",
       "      <td>storm in ri worse than last hurricane my citya...</td>\n",
       "      <td>none</td>\n",
       "      <td>none</td>\n",
       "    </tr>\n",
       "    <tr>\n",
       "      <th>3260</th>\n",
       "      <td>10868</td>\n",
       "      <td>none</td>\n",
       "      <td>none</td>\n",
       "      <td>Green Line derailment in Chicago http://t.co/U...</td>\n",
       "      <td>green line derailment in chicago</td>\n",
       "      <td>none</td>\n",
       "      <td>none</td>\n",
       "    </tr>\n",
       "    <tr>\n",
       "      <th>3261</th>\n",
       "      <td>10874</td>\n",
       "      <td>none</td>\n",
       "      <td>none</td>\n",
       "      <td>MEG issues Hazardous Weather Outlook (HWO) htt...</td>\n",
       "      <td>meg issues hazardous weather outlook hwo</td>\n",
       "      <td>none</td>\n",
       "      <td>none</td>\n",
       "    </tr>\n",
       "    <tr>\n",
       "      <th>3262</th>\n",
       "      <td>10875</td>\n",
       "      <td>none</td>\n",
       "      <td>none</td>\n",
       "      <td>#CityofCalgary has activated its Municipal Eme...</td>\n",
       "      <td>cityofcalgary has activated its municipal emer...</td>\n",
       "      <td>none</td>\n",
       "      <td>none</td>\n",
       "    </tr>\n",
       "  </tbody>\n",
       "</table>\n",
       "</div>"
      ],
      "text/plain": [
       "         id keyword location  \\\n",
       "3258  10861    none     none   \n",
       "3259  10865    none     none   \n",
       "3260  10868    none     none   \n",
       "3261  10874    none     none   \n",
       "3262  10875    none     none   \n",
       "\n",
       "                                                   text  \\\n",
       "3258  EARTHQUAKE SAFETY LOS ANGELES ÛÒ SAFETY FASTE...   \n",
       "3259  Storm in RI worse than last hurricane. My city...   \n",
       "3260  Green Line derailment in Chicago http://t.co/U...   \n",
       "3261  MEG issues Hazardous Weather Outlook (HWO) htt...   \n",
       "3262  #CityofCalgary has activated its Municipal Eme...   \n",
       "\n",
       "                                           cleaned_text cleaned_location  \\\n",
       "3258  earthquake safety los angeles ûò safety fasten...             none   \n",
       "3259  storm in ri worse than last hurricane my citya...             none   \n",
       "3260                   green line derailment in chicago             none   \n",
       "3261           meg issues hazardous weather outlook hwo             none   \n",
       "3262  cityofcalgary has activated its municipal emer...             none   \n",
       "\n",
       "     cleaned_keyword  \n",
       "3258            none  \n",
       "3259            none  \n",
       "3260            none  \n",
       "3261            none  \n",
       "3262            none  "
      ]
     },
     "execution_count": 830,
     "metadata": {},
     "output_type": "execute_result"
    }
   ],
   "source": [
    "x2.tail()"
   ]
  },
  {
   "cell_type": "markdown",
   "metadata": {},
   "source": [
    "# Eliminando columnas sin limpiar"
   ]
  },
  {
   "cell_type": "code",
   "execution_count": 831,
   "metadata": {},
   "outputs": [],
   "source": [
    "x1.drop(columns='keyword',inplace=True)\n",
    "x1.drop(columns='location',inplace=True)\n",
    "x1.drop(columns='text',inplace=True)"
   ]
  },
  {
   "cell_type": "code",
   "execution_count": 832,
   "metadata": {},
   "outputs": [],
   "source": [
    "x2.drop(columns='keyword',inplace=True)\n",
    "x2.drop(columns='location',inplace=True)\n",
    "x2.drop(columns='text',inplace=True)"
   ]
  },
  {
   "cell_type": "code",
   "execution_count": 833,
   "metadata": {},
   "outputs": [
    {
     "data": {
      "text/html": [
       "<div>\n",
       "<style scoped>\n",
       "    .dataframe tbody tr th:only-of-type {\n",
       "        vertical-align: middle;\n",
       "    }\n",
       "\n",
       "    .dataframe tbody tr th {\n",
       "        vertical-align: top;\n",
       "    }\n",
       "\n",
       "    .dataframe thead th {\n",
       "        text-align: right;\n",
       "    }\n",
       "</style>\n",
       "<table border=\"1\" class=\"dataframe\">\n",
       "  <thead>\n",
       "    <tr style=\"text-align: right;\">\n",
       "      <th></th>\n",
       "      <th>id</th>\n",
       "      <th>target</th>\n",
       "      <th>cleaned_text</th>\n",
       "      <th>cleaned_location</th>\n",
       "      <th>cleaned_keyword</th>\n",
       "    </tr>\n",
       "  </thead>\n",
       "  <tbody>\n",
       "    <tr>\n",
       "      <th>0</th>\n",
       "      <td>1</td>\n",
       "      <td>1</td>\n",
       "      <td>our deeds are the reason of this earthquake ma...</td>\n",
       "      <td>none</td>\n",
       "      <td>none</td>\n",
       "    </tr>\n",
       "    <tr>\n",
       "      <th>1</th>\n",
       "      <td>4</td>\n",
       "      <td>1</td>\n",
       "      <td>forest fire near la ronge sask canada</td>\n",
       "      <td>none</td>\n",
       "      <td>none</td>\n",
       "    </tr>\n",
       "    <tr>\n",
       "      <th>2</th>\n",
       "      <td>5</td>\n",
       "      <td>1</td>\n",
       "      <td>all residents asked to shelter in place are be...</td>\n",
       "      <td>none</td>\n",
       "      <td>none</td>\n",
       "    </tr>\n",
       "    <tr>\n",
       "      <th>3</th>\n",
       "      <td>6</td>\n",
       "      <td>1</td>\n",
       "      <td>13000 people receive wildfires evacuation orde...</td>\n",
       "      <td>none</td>\n",
       "      <td>none</td>\n",
       "    </tr>\n",
       "    <tr>\n",
       "      <th>4</th>\n",
       "      <td>7</td>\n",
       "      <td>1</td>\n",
       "      <td>just got sent this photo from ruby alaska as s...</td>\n",
       "      <td>none</td>\n",
       "      <td>none</td>\n",
       "    </tr>\n",
       "  </tbody>\n",
       "</table>\n",
       "</div>"
      ],
      "text/plain": [
       "   id  target                                       cleaned_text  \\\n",
       "0   1       1  our deeds are the reason of this earthquake ma...   \n",
       "1   4       1              forest fire near la ronge sask canada   \n",
       "2   5       1  all residents asked to shelter in place are be...   \n",
       "3   6       1  13000 people receive wildfires evacuation orde...   \n",
       "4   7       1  just got sent this photo from ruby alaska as s...   \n",
       "\n",
       "  cleaned_location cleaned_keyword  \n",
       "0             none            none  \n",
       "1             none            none  \n",
       "2             none            none  \n",
       "3             none            none  \n",
       "4             none            none  "
      ]
     },
     "execution_count": 833,
     "metadata": {},
     "output_type": "execute_result"
    }
   ],
   "source": [
    "x1.head()"
   ]
  },
  {
   "cell_type": "code",
   "execution_count": 834,
   "metadata": {},
   "outputs": [
    {
     "data": {
      "text/html": [
       "<div>\n",
       "<style scoped>\n",
       "    .dataframe tbody tr th:only-of-type {\n",
       "        vertical-align: middle;\n",
       "    }\n",
       "\n",
       "    .dataframe tbody tr th {\n",
       "        vertical-align: top;\n",
       "    }\n",
       "\n",
       "    .dataframe thead th {\n",
       "        text-align: right;\n",
       "    }\n",
       "</style>\n",
       "<table border=\"1\" class=\"dataframe\">\n",
       "  <thead>\n",
       "    <tr style=\"text-align: right;\">\n",
       "      <th></th>\n",
       "      <th>id</th>\n",
       "      <th>cleaned_text</th>\n",
       "      <th>cleaned_location</th>\n",
       "      <th>cleaned_keyword</th>\n",
       "    </tr>\n",
       "  </thead>\n",
       "  <tbody>\n",
       "    <tr>\n",
       "      <th>0</th>\n",
       "      <td>0</td>\n",
       "      <td>just happened a terrible car crash</td>\n",
       "      <td>none</td>\n",
       "      <td>none</td>\n",
       "    </tr>\n",
       "    <tr>\n",
       "      <th>1</th>\n",
       "      <td>2</td>\n",
       "      <td>heard about earthquake is different cities sta...</td>\n",
       "      <td>none</td>\n",
       "      <td>none</td>\n",
       "    </tr>\n",
       "    <tr>\n",
       "      <th>2</th>\n",
       "      <td>3</td>\n",
       "      <td>there is a forest fire at spot pond geese are ...</td>\n",
       "      <td>none</td>\n",
       "      <td>none</td>\n",
       "    </tr>\n",
       "    <tr>\n",
       "      <th>3</th>\n",
       "      <td>9</td>\n",
       "      <td>apocalypse lighting spokane wildfires</td>\n",
       "      <td>none</td>\n",
       "      <td>none</td>\n",
       "    </tr>\n",
       "    <tr>\n",
       "      <th>4</th>\n",
       "      <td>11</td>\n",
       "      <td>typhoon soudelor kills 28 in china and taiwan</td>\n",
       "      <td>none</td>\n",
       "      <td>none</td>\n",
       "    </tr>\n",
       "  </tbody>\n",
       "</table>\n",
       "</div>"
      ],
      "text/plain": [
       "   id                                       cleaned_text cleaned_location  \\\n",
       "0   0                 just happened a terrible car crash             none   \n",
       "1   2  heard about earthquake is different cities sta...             none   \n",
       "2   3  there is a forest fire at spot pond geese are ...             none   \n",
       "3   9              apocalypse lighting spokane wildfires             none   \n",
       "4  11      typhoon soudelor kills 28 in china and taiwan             none   \n",
       "\n",
       "  cleaned_keyword  \n",
       "0            none  \n",
       "1            none  \n",
       "2            none  \n",
       "3            none  \n",
       "4            none  "
      ]
     },
     "execution_count": 834,
     "metadata": {},
     "output_type": "execute_result"
    }
   ],
   "source": [
    "x2.head()"
   ]
  },
  {
   "cell_type": "code",
   "execution_count": 835,
   "metadata": {},
   "outputs": [],
   "source": [
    "from sklearn.feature_extraction.text import CountVectorizer"
   ]
  },
  {
   "cell_type": "code",
   "execution_count": 838,
   "metadata": {},
   "outputs": [
    {
     "name": "stdout",
     "output_type": "stream",
     "text": [
      "  (0, 10140)\t1\n",
      "  (0, 3987)\t1\n",
      "  (0, 1350)\t1\n",
      "  (0, 13900)\t1\n",
      "  (0, 11399)\t1\n",
      "  (0, 9903)\t1\n",
      "  (0, 13973)\t1\n",
      "  (0, 4692)\t1\n",
      "  (0, 8816)\t1\n",
      "  (0, 1060)\t1\n",
      "  (0, 5716)\t1\n",
      "  (0, 14722)\t1\n",
      "  (0, 1059)\t1\n",
      "  (1, 5707)\t1\n",
      "  (1, 5522)\t1\n",
      "  (1, 9530)\t1\n",
      "  (1, 8018)\t1\n",
      "  (1, 11904)\t1\n",
      "  (1, 12146)\t1\n",
      "  (1, 2648)\t1\n",
      "  (2, 1350)\t2\n",
      "  (2, 1059)\t1\n",
      "  (2, 11657)\t1\n",
      "  (2, 1457)\t1\n",
      "  (2, 14115)\t1\n",
      "  :\t:\n",
      "  (7611, 10734)\t1\n",
      "  (7611, 15376)\t1\n",
      "  (7611, 11773)\t1\n",
      "  (7611, 8350)\t1\n",
      "  (7611, 12391)\t1\n",
      "  (7611, 926)\t1\n",
      "  (7611, 7434)\t1\n",
      "  (7611, 14002)\t1\n",
      "  (7611, 3253)\t1\n",
      "  (7611, 4714)\t2\n",
      "  (7611, 10785)\t1\n",
      "  (7611, 13450)\t1\n",
      "  (7611, 9707)\t1\n",
      "  (7611, 7307)\t1\n",
      "  (7612, 13900)\t1\n",
      "  (7612, 2549)\t1\n",
      "  (7612, 2608)\t1\n",
      "  (7612, 9252)\t1\n",
      "  (7612, 9592)\t1\n",
      "  (7612, 8103)\t1\n",
      "  (7612, 9735)\t1\n",
      "  (7612, 15312)\t1\n",
      "  (7612, 6844)\t1\n",
      "  (7612, 742)\t1\n",
      "  (7612, 11344)\t1\n"
     ]
    }
   ],
   "source": [
    "# Crear una instancia de CountVectorizer\n",
    "vectorizer = CountVectorizer()\n",
    "# Unir los textos limpios de ambos datasets para el Bag of Words\n",
    "all_texts = x1['cleaned_text']\n",
    "# Ajustar el vectorizador a los textos y transformarlos en una matriz de características\n",
    "x1 = vectorizer.fit_transform(all_texts)\n",
    "\n",
    "print(x1)"
   ]
  },
  {
   "cell_type": "code",
   "execution_count": 839,
   "metadata": {},
   "outputs": [
    {
     "name": "stdout",
     "output_type": "stream",
     "text": [
      "  (0, 4623)\t1\n",
      "  (0, 3843)\t1\n",
      "  (0, 8333)\t1\n",
      "  (0, 1632)\t1\n",
      "  (0, 2201)\t1\n",
      "  (1, 3922)\t1\n",
      "  (1, 420)\t1\n",
      "  (1, 2797)\t1\n",
      "  (1, 4460)\t1\n",
      "  (1, 2542)\t1\n",
      "  (1, 1865)\t1\n",
      "  (1, 7983)\t1\n",
      "  (1, 7239)\t1\n",
      "  (1, 3023)\t1\n",
      "  (2, 4460)\t1\n",
      "  (2, 8398)\t1\n",
      "  (2, 3394)\t1\n",
      "  (2, 3286)\t1\n",
      "  (2, 873)\t1\n",
      "  (2, 7905)\t1\n",
      "  (2, 6457)\t1\n",
      "  (2, 3565)\t1\n",
      "  (2, 796)\t1\n",
      "  (2, 3332)\t1\n",
      "  (2, 459)\t1\n",
      "  :\t:\n",
      "  (3259, 4170)\t1\n",
      "  (3259, 9441)\t1\n",
      "  (3259, 3856)\t1\n",
      "  (3259, 7070)\t1\n",
      "  (3259, 1869)\t1\n",
      "  (3259, 137)\t1\n",
      "  (3260, 4276)\t1\n",
      "  (3260, 4960)\t1\n",
      "  (3260, 3718)\t1\n",
      "  (3260, 2457)\t1\n",
      "  (3260, 1804)\t1\n",
      "  (3261, 4481)\t1\n",
      "  (3261, 9150)\t1\n",
      "  (3261, 3898)\t1\n",
      "  (3261, 6077)\t1\n",
      "  (3261, 4177)\t1\n",
      "  (3261, 5317)\t1\n",
      "  (3262, 4493)\t1\n",
      "  (3262, 3872)\t1\n",
      "  (3262, 6380)\t1\n",
      "  (3262, 2890)\t1\n",
      "  (3262, 5594)\t1\n",
      "  (3262, 465)\t1\n",
      "  (3262, 9499)\t1\n",
      "  (3262, 1870)\t1\n"
     ]
    }
   ],
   "source": [
    "# Crear una instancia de CountVectorizer\n",
    "vectorizer = CountVectorizer()\n",
    "# Unir los textos limpios de ambos datasets para el Bag of Words\n",
    "all_texts = x2['cleaned_text']\n",
    "# Ajustar el vectorizador a los textos y transformarlos en una matriz de características\n",
    "x2 = vectorizer.fit_transform(all_texts)\n",
    "\n",
    "print(x2)"
   ]
  },
  {
   "cell_type": "markdown",
   "metadata": {},
   "source": [
    "# 2. Regresión logistica"
   ]
  }
 ],
 "metadata": {
  "kernelspec": {
   "display_name": "Python 3",
   "language": "python",
   "name": "python3"
  },
  "language_info": {
   "codemirror_mode": {
    "name": "ipython",
    "version": 3
   },
   "file_extension": ".py",
   "mimetype": "text/x-python",
   "name": "python",
   "nbconvert_exporter": "python",
   "pygments_lexer": "ipython3",
   "version": "3.12.1"
  }
 },
 "nbformat": 4,
 "nbformat_minor": 2
}
