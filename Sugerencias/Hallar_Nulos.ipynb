{
 "cells": [
  {
   "cell_type": "code",
   "execution_count": 135,
   "metadata": {},
   "outputs": [],
   "source": [
    "import pandas as pd\n",
    "import numpy as np\n",
    "from sklearn.impute import KNNImputer\n",
    "from sklearn.preprocessing import OneHotEncoder, LabelEncoder\n",
    "from sklearn.compose import ColumnTransformer\n",
    "from sklearn.pipeline import Pipeline\n",
    "from sklearn.ensemble import RandomForestClassifier\n",
    "from sklearn.model_selection import train_test_split\n",
    "from sklearn.metrics import accuracy_score\n",
    "import matplotlib.pyplot as plt\n"
   ]
  },
  {
   "cell_type": "code",
   "execution_count": 136,
   "metadata": {},
   "outputs": [
    {
     "name": "stdout",
     "output_type": "stream",
     "text": [
      "Dataset original con valores nulos:\n",
      "   binary_feature  numeric_feature1  numeric_feature2 categorical_feature  \\\n",
      "0             1.0                10               NaN             manzana   \n",
      "1             0.0                 3               3.0                pera   \n",
      "2             NaN                 6               2.0             naranja   \n",
      "3             1.0                 1               NaN                 NaN   \n",
      "4             0.0                 7               4.0                piña   \n",
      "\n",
      "   target  \n",
      "0       1  \n",
      "1       0  \n",
      "2       1  \n",
      "3       0  \n",
      "4       1  \n"
     ]
    }
   ],
   "source": [
    "data = {\n",
    "    'binary_feature': [1, 0, np.nan, 1, 0],\n",
    "    'numeric_feature1': [10, 3, 6, 1, 7],\n",
    "    'numeric_feature2': [np.nan, 3, 2, np.nan, 4],\n",
    "    'categorical_feature': ['manzana', 'pera', 'naranja', np.nan, 'piña'],\n",
    "    'target': [1, 0, 1, 0, 1]\n",
    "}\n",
    "df = pd.DataFrame(data)\n",
    "print(\"Dataset original con valores nulos:\")\n",
    "print(df)"
   ]
  },
  {
   "cell_type": "code",
   "execution_count": 137,
   "metadata": {},
   "outputs": [
    {
     "name": "stdout",
     "output_type": "stream",
     "text": [
      "Después de imputar la columna binaria con KNN:\n",
      "   binary_feature  numeric_feature1  numeric_feature2 categorical_feature  \\\n",
      "0             1.0                10               NaN             manzana   \n",
      "1             0.0                 3               3.0                pera   \n",
      "2             0.5                 6               2.0             naranja   \n",
      "3             1.0                 1               NaN                 NaN   \n",
      "4             0.0                 7               4.0                piña   \n",
      "\n",
      "   target  \n",
      "0       1  \n",
      "1       0  \n",
      "2       1  \n",
      "3       0  \n",
      "4       1  \n"
     ]
    }
   ],
   "source": [
    "# Imputar valores nulos en características binarias usando KNN\n",
    "knn_imputer = KNNImputer(n_neighbors=2)\n",
    "df[['binary_feature']] = knn_imputer.fit_transform(df[['binary_feature']])\n",
    "print(\"Después de imputar la columna binaria con KNN:\")\n",
    "print(df)"
   ]
  },
  {
   "cell_type": "code",
   "execution_count": 138,
   "metadata": {},
   "outputs": [
    {
     "name": "stdout",
     "output_type": "stream",
     "text": [
      "Después de imputar la columna numérica con interpolación:\n",
      "   binary_feature  numeric_feature1  numeric_feature2 categorical_feature  \\\n",
      "0             1.0                10               NaN             manzana   \n",
      "1             0.0                 3               3.0                pera   \n",
      "2             0.5                 6               2.0             naranja   \n",
      "3             1.0                 1               3.0                 NaN   \n",
      "4             0.0                 7               4.0                piña   \n",
      "\n",
      "   target  \n",
      "0       1  \n",
      "1       0  \n",
      "2       1  \n",
      "3       0  \n",
      "4       1  \n"
     ]
    }
   ],
   "source": [
    "# Imputar valores nulos en características numéricas usando interpolación\n",
    "df['numeric_feature2'] = df['numeric_feature2'].interpolate()\n",
    "print(\"Después de imputar la columna numérica con interpolación:\")\n",
    "print(df)\n"
   ]
  },
  {
   "cell_type": "code",
   "execution_count": 139,
   "metadata": {},
   "outputs": [
    {
     "name": "stdout",
     "output_type": "stream",
     "text": [
      "Después de imputar la columna categórica con KNN:\n",
      "   binary_feature  numeric_feature1  numeric_feature2  target  \\\n",
      "0             1.0              10.0               3.0     1.0   \n",
      "1             0.0               3.0               3.0     0.0   \n",
      "2             0.5               6.0               2.0     1.0   \n",
      "3             1.0               1.0               3.0     0.0   \n",
      "4             0.0               7.0               4.0     1.0   \n",
      "\n",
      "   categorical_feature_manzana  categorical_feature_naranja  \\\n",
      "0                          1.0                          0.0   \n",
      "1                          0.0                          0.0   \n",
      "2                          0.0                          1.0   \n",
      "3                          0.0                          0.0   \n",
      "4                          0.0                          0.0   \n",
      "\n",
      "   categorical_feature_pera  categorical_feature_piña  categorical_feature_nan  \n",
      "0                       0.0                       0.0                      0.0  \n",
      "1                       1.0                       0.0                      0.0  \n",
      "2                       0.0                       0.0                      0.0  \n",
      "3                       0.0                       0.0                      1.0  \n",
      "4                       0.0                       1.0                      0.0  \n"
     ]
    }
   ],
   "source": [
    "# One-Hot Encoding para características categóricas\n",
    "ohe = OneHotEncoder(handle_unknown='ignore', sparse_output=False)\n",
    "cat_encoded = ohe.fit_transform(df[['categorical_feature']])\n",
    "cat_encoded_df = pd.DataFrame(cat_encoded, columns=ohe.get_feature_names_out(['categorical_feature']))\n",
    "\n",
    "# Combinar con el DataFrame original sin la columna categórica original\n",
    "df_combined = pd.concat([df.drop(columns=['categorical_feature']), cat_encoded_df], axis=1)\n",
    "\n",
    "# Imputar valores nulos en la característica categórica usando KNN\n",
    "df_combined = pd.DataFrame(knn_imputer.fit_transform(df_combined), columns=df_combined.columns)\n",
    "print(\"Después de imputar la columna categórica con KNN:\")\n",
    "print(df_combined)\n",
    "\n",
    "# Mantener las características categóricas en formato codificado para el modelo\n",
    "df_final = df_combined  # No revertimos el One-Hot Encoding para el modelo"
   ]
  },
  {
   "cell_type": "code",
   "execution_count": 140,
   "metadata": {},
   "outputs": [
    {
     "name": "stdout",
     "output_type": "stream",
     "text": [
      "Accuracy: 0.5000\n"
     ]
    },
    {
     "data": {
      "image/png": "[encoded data removed]",
      "text/plain": [
       "<Figure size 1000x600 with 1 Axes>"
      ]
     },
     "metadata": {},
     "output_type": "display_data"
    }
   ],
   "source": [
    "# Separar características y la variable objetivo\n",
    "X = df_final.drop(columns=['target'])\n",
    "y = df_final['target']\n",
    "\n",
    "# Dividir los datos en conjuntos de entrenamiento y prueba\n",
    "X_train, X_test, y_train, y_test = train_test_split(X, y, test_size=0.3, random_state=42)\n",
    "\n",
    "# Entrenar el modelo Random Forest\n",
    "rf_model = RandomForestClassifier(n_estimators=100, random_state=42)\n",
    "rf_model.fit(X_train, y_train)\n",
    "\n",
    "# Predecir y evaluar el modelo\n",
    "y_pred = rf_model.predict(X_test)\n",
    "accuracy = accuracy_score(y_test, y_pred)\n",
    "print(f\"Accuracy: {accuracy:.4f}\")\n",
    "\n",
    "# Obtener las importancias de las características\n",
    "importances = rf_model.feature_importances_\n",
    "features = X.columns\n",
    "importance_df = pd.DataFrame({'Feature': features, 'Importance': importances})\n",
    "importance_df = importance_df.sort_values(by='Importance', ascending=False)\n",
    "\n",
    "# Graficar las importancias de las características\n",
    "plt.figure(figsize=(10, 6))\n",
    "plt.barh(importance_df['Feature'], importance_df['Importance'], color='skyblue')\n",
    "plt.xlabel('Importancia')\n",
    "plt.title('Importancia de las Características')\n",
    "plt.gca().invert_yaxis()\n",
    "plt.show()"
   ]
  },
  {
   "cell_type": "markdown",
   "metadata": {},
   "source": [
    "**El siguiente paso en Machine Learning después de preprocesar los datos y evaluar modelos iniciales incluye optimizar esos modelos, comparar múltiples algoritmos, realizar evaluaciones adicionales y diagnósticos, implementar el mejor modelo en producción y monitorizar su rendimiento continuo. Cada uno de estos pasos ayuda a asegurar que el modelo no solo es preciso y robusto, sino también confiable y mantenible en un entorno real.**"
   ]
  },
  {
   "cell_type": "code",
   "execution_count": 141,
   "metadata": {},
   "outputs": [
    {
     "name": "stdout",
     "output_type": "stream",
     "text": [
      "Después de revertir el One-Hot Encoding:\n",
      "   binary_feature  numeric_feature1  numeric_feature2  target  \\\n",
      "0             1.0              10.0               3.0     1.0   \n",
      "1             0.0               3.0               3.0     0.0   \n",
      "2             0.5               6.0               2.0     1.0   \n",
      "3             1.0               1.0               3.0     0.0   \n",
      "4             0.0               7.0               4.0     1.0   \n",
      "\n",
      "  categorical_feature  \n",
      "0             manzana  \n",
      "1                pera  \n",
      "2             naranja  \n",
      "3                 NaN  \n",
      "4                piña  \n"
     ]
    }
   ],
   "source": [
    "# Revertir One-Hot Encoding a la forma original\n",
    "encoded_cols = ohe.get_feature_names_out(['categorical_feature'])\n",
    "decoded_categories = ohe.inverse_transform(df_combined[encoded_cols])\n",
    "df_combined['categorical_feature'] = pd.Series(decoded_categories.flatten())\n",
    "df_reverted = df_combined.drop(columns=encoded_cols)\n",
    "print(\"Después de revertir el One-Hot Encoding:\")\n",
    "print(df_reverted)"
   ]
  },
  {
   "cell_type": "code",
   "execution_count": 142,
   "metadata": {},
   "outputs": [
    {
     "name": "stdout",
     "output_type": "stream",
     "text": [
      "Después de revertir el One-Hot Encoding y aplicar interpolación:\n",
      "   binary_feature  numeric_feature1  numeric_feature2  target  \\\n",
      "0             1.0              10.0               3.0     1.0   \n",
      "1             0.0               3.0               3.0     0.0   \n",
      "2             0.5               6.0               2.0     1.0   \n",
      "3             1.0               1.0               3.0     0.0   \n",
      "4             0.0               7.0               4.0     1.0   \n",
      "\n",
      "  categorical_feature  \n",
      "0             manzana  \n",
      "1                pera  \n",
      "2             naranja  \n",
      "3                piña  \n",
      "4                piña  \n"
     ]
    },
    {
     "name": "stderr",
     "output_type": "stream",
     "text": [
      "C:\\Users\\FRANK\\AppData\\Local\\Temp\\ipykernel_24200\\1852737188.py:3: FutureWarning: Downcasting behavior in `replace` is deprecated and will be removed in a future version. To retain the old behavior, explicitly call `result.infer_objects(copy=False)`. To opt-in to the future behavior, set `pd.set_option('future.no_silent_downcasting', True)`\n",
      "  df_reverted['categorical_feature_num'] = df_reverted['categorical_feature'].replace(dicc_categorical)\n"
     ]
    }
   ],
   "source": [
    "# Reemplazar valores categóricos por numéricos, aplicar interpolación y revertir\n",
    "dicc_categorical = {'manzana': 1, 'pera': 2, 'naranja': 3, 'piña': 4}\n",
    "df_reverted['categorical_feature_num'] = df_reverted['categorical_feature'].replace(dicc_categorical)\n",
    "df_reverted['categorical_feature_num'] = df_reverted['categorical_feature_num'].interpolate().round()\n",
    "\n",
    "# Revertir los valores numéricos a categóricos\n",
    "reverse_dicc_categorical = {v: k for k, v in dicc_categorical.items()}\n",
    "df_reverted['categorical_feature'] = df_reverted['categorical_feature_num'].replace(reverse_dicc_categorical)\n",
    "df_reverted.drop(columns=['categorical_feature_num'], inplace=True)\n",
    "\n",
    "print(\"Después de revertir el One-Hot Encoding y aplicar interpolación:\")\n",
    "print(df_reverted)"
   ]
  }
 ],
 "metadata": {
  "kernelspec": {
   "display_name": "Python 3",
   "language": "python",
   "name": "python3"
  },
  "language_info": {
   "codemirror_mode": {
    "name": "ipython",
    "version": 3
   },
   "file_extension": ".py",
   "mimetype": "text/x-python",
   "name": "python",
   "nbconvert_exporter": "python",
   "pygments_lexer": "ipython3",
   "version": "3.12.1"
  }
 },
 "nbformat": 4,
 "nbformat_minor": 2
}
