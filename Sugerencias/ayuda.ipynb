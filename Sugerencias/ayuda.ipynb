{
 "cells": [
  {
   "cell_type": "code",
   "execution_count": 13,
   "metadata": {},
   "outputs": [],
   "source": [
    "import pandas as pd\n",
    "import numpy as np\n",
    "import seaborn as sns\n",
    "import matplotlib.pyplot as plt\n",
    "def custom_warning_format(message, category, filename, lineno, file=None, line=None):\n",
    "    return f'{filename}:{lineno}: {category.__name__}: {message}\\n'\n",
    "from sklearn.impute import KNNImputer"
   ]
  },
  {
   "cell_type": "markdown",
   "metadata": {},
   "source": [
    "# Pandas fillna con ffill o bfill\n",
    "* Recomendación:\n",
    "\n",
    "**Adecuado para datos de series temporales o donde hay una lógica clara de continuidad.\n",
    "Específicamente útil cuando tienes datos ordenados cronológicamente y tiene sentido que los valores faltantes sean reemplazados por el valor más cercano en el tiempo (anterior o siguiente).**"
   ]
  },
  {
   "cell_type": "code",
   "execution_count": 14,
   "metadata": {},
   "outputs": [
    {
     "name": "stdout",
     "output_type": "stream",
     "text": [
      "        date  stock_price  stock_price_ffill  stock_price_bfill\n",
      "0 2023-01-01        100.0              100.0              100.0\n",
      "1 2023-01-02          NaN              100.0              102.0\n",
      "2 2023-01-03        102.0              102.0              102.0\n",
      "3 2023-01-04          NaN              102.0              104.0\n",
      "4 2023-01-05        104.0              104.0              104.0\n"
     ]
    },
    {
     "name": "stderr",
     "output_type": "stream",
     "text": [
      "C:\\Users\\FRANK\\AppData\\Local\\Temp\\ipykernel_20276\\1307855412.py:12: FutureWarning: Series.fillna with 'method' is deprecated and will raise in a future version. Use obj.ffill() or obj.bfill() instead.\n",
      "  df['stock_price_ffill'] = df['stock_price'].fillna(method='ffill')\n",
      "C:\\Users\\FRANK\\AppData\\Local\\Temp\\ipykernel_20276\\1307855412.py:15: FutureWarning: Series.fillna with 'method' is deprecated and will raise in a future version. Use obj.ffill() or obj.bfill() instead.\n",
      "  df['stock_price_bfill'] = df['stock_price'].fillna(method='bfill')\n"
     ]
    }
   ],
   "source": [
    "import pandas as pd\n",
    "import numpy as np\n",
    "\n",
    "# Crear un DataFrame con datos de series temporales (precios de acciones)\n",
    "data = {\n",
    "    'date': pd.date_range(start='2023-01-01', periods=5, freq='D'),\n",
    "    'stock_price': [100, np.nan, 102, np.nan, 104]\n",
    "}\n",
    "df = pd.DataFrame(data)\n",
    "\n",
    "# Usar ffill (forward fill) para rellenar valores nulos con el valor anterior\n",
    "df['stock_price_ffill'] = df['stock_price'].fillna(method='ffill')\n",
    "\n",
    "# Usar bfill (backward fill) para rellenar valores nulos con el valor siguiente\n",
    "df['stock_price_bfill'] = df['stock_price'].fillna(method='bfill')\n",
    "\n",
    "print(df)\n"
   ]
  },
  {
   "cell_type": "markdown",
   "metadata": {},
   "source": [
    "# scikit-learn KNNImputer\n",
    "* Recomendación:\n",
    "- Adecuado para datos multidimensionales donde se desea considerar la similitud entre muestras.\n",
    "Especialmente útil cuando tienes un conjunto de datos con múltiples características (atributos) y deseas usar la similitud entre estas características para imputar los valores faltantes.\n",
    "\n",
    "- Se debe usar con las demás columnas para que tenga coherencia"
   ]
  },
  {
   "cell_type": "code",
   "execution_count": null,
   "metadata": {},
   "outputs": [],
   "source": [
    "from sklearn.impute import KNNImputer\n",
    "\n",
    "# Crear una instancia del KNNImputer\n",
    "imputer = KNNImputer(n_neighbors=2)\n",
    "\n",
    "# Imputar los valores nulos\n",
    "df2[['historical_default',\n",
    "      'customer_age',\n",
    "      'customer_income',\n",
    "       'term_years',\n",
    "       'cred_hist_length',\n",
    "       'Current_loan_status']] = imputer.fit_transform(df2[['historical_default',\n",
    "                                                            'customer_age',\n",
    "                                                            'customer_income',\n",
    "                                                            'term_years',\n",
    "                                                            'cred_hist_length',\n",
    "                                                            'Current_loan_status']])"
   ]
  },
  {
   "cell_type": "code",
   "execution_count": 15,
   "metadata": {},
   "outputs": [
    {
     "name": "stdout",
     "output_type": "stream",
     "text": [
      "   customer_id  customer_age  customer_income home_ownership  \\\n",
      "0            1            22            59000           RENT   \n",
      "1            2            21             9600            OWN   \n",
      "2            3            25             9600       MORTGAGE   \n",
      "3            4            23            65500           RENT   \n",
      "4            5            24            54400           RENT   \n",
      "\n",
      "   employment_duration loan_intent loan_grade   loan_amnt  loan_int_rate  \\\n",
      "0                  123    PERSONAL          C  £35,000.00          16.02   \n",
      "1                    5   EDUCATION          A   £1,000.00          11.14   \n",
      "2                    1     MEDICAL          B   £5,500.00          12.87   \n",
      "3                    4     MEDICAL          B  £35,000.00          15.23   \n",
      "4                    8     MEDICAL          B  £35,000.00          14.27   \n",
      "\n",
      "   term_years  historical_default  cred_hist_length Current_loan_status  \n",
      "0          10                   1                 3             DEFAULT  \n",
      "1           1                   0                 2          NO DEFAULT  \n",
      "2           5                   0                 3             DEFAULT  \n",
      "3          10                   0                 2             DEFAULT  \n",
      "4          10                   1                 4             DEFAULT  \n"
     ]
    }
   ],
   "source": [
    "import pandas as pd\n",
    "from sklearn.impute import KNNImputer\n",
    "\n",
    "# Crear un DataFrame con datos multidimensionales (características de clientes)\n",
    "\n",
    "data = {\n",
    "    'customer_id': [1, 2, 3, 4, 5],\n",
    "    'customer_age': [22, 21, 25, 23, 24],\n",
    "    'customer_income': [59000, 9600, 9600, 65500, 54400],\n",
    "    'home_ownership': ['RENT', 'OWN', 'MORTGAGE', 'RENT', 'RENT'],\n",
    "    'employment_duration': [123, 5, 1, 4, 8],\n",
    "    'loan_intent': ['PERSONAL', 'EDUCATION', 'MEDICAL', 'MEDICAL', 'MEDICAL'],\n",
    "    'loan_grade': ['C', 'A', 'B', 'B', 'B'],\n",
    "    'loan_amnt': ['£35,000.00', '£1,000.00', '£5,500.00', '£35,000.00', '£35,000.00'],\n",
    "    'loan_int_rate': [16.02, 11.14, 12.87, 15.23, 14.27],\n",
    "    'term_years': [10, 1, 5, 10, 10],\n",
    "    'historical_default': ['Y', None, 'N', 'N', 'Y'],\n",
    "    'cred_hist_length': [3, 2, 3, 2, 4],\n",
    "    'Current_loan_status': ['DEFAULT', 'NO DEFAULT', 'DEFAULT', 'DEFAULT', 'DEFAULT']\n",
    "}\n",
    "\n",
    "df = pd.DataFrame(data)\n",
    "\n",
    "# Convertir 'Y' y 'N' a 1 y 0\n",
    "def convert_bin(value):\n",
    "    if value == 'Y':\n",
    "        return 1\n",
    "    elif value == 'N':\n",
    "        return 0\n",
    "    return value\n",
    "\n",
    "df['historical_default'] = df['historical_default'].apply(convert_bin)\n",
    "\n",
    "# Crear una instancia del KNNImputer\n",
    "imputer = KNNImputer(n_neighbors=2)\n",
    "\n",
    "# Imputar los valores nulos\n",
    "df[['historical_default']] = imputer.fit_transform(df[['historical_default']])\n",
    "\n",
    "# Asegurarse de que los valores imputados son enteros (0 o 1)\n",
    "df['historical_default'] = df['historical_default'].round().astype(int)\n",
    "\n",
    "print(df)"
   ]
  },
  {
   "cell_type": "code",
   "execution_count": 16,
   "metadata": {},
   "outputs": [
    {
     "name": "stdout",
     "output_type": "stream",
     "text": [
      "Antes de reasignar IDs:\n",
      "   customer_id  customer_age  customer_income\n",
      "0          1.0            22            59000\n",
      "1          2.0            21             9600\n",
      "2          3.0            25             9600\n",
      "3          NaN            23            65500\n",
      "4          5.0            24            54400\n"
     ]
    }
   ],
   "source": [
    "import pandas as pd\n",
    "\n",
    "# df2 = df2.sort_values(by='customer_id').reset_index(drop=True) # ordenar el dataframe\n",
    "\n",
    "data = {\n",
    "    'customer_id': [1, 2, 3, None, 5],\n",
    "    'customer_age': [22, 21, 25, 23, 24],\n",
    "    'customer_income': [59000, 9600, 9600, 65500, 54400]\n",
    "}\n",
    "df2 = pd.DataFrame(data)\n",
    "\n",
    "print(\"Antes de reasignar IDs:\")\n",
    "print(df2)\n"
   ]
  },
  {
   "cell_type": "code",
   "execution_count": 17,
   "metadata": {},
   "outputs": [
    {
     "name": "stdout",
     "output_type": "stream",
     "text": [
      "Después de reasignar IDs:\n",
      "   customer_id  customer_age  customer_income\n",
      "0            1            22            59000\n",
      "1            2            21             9600\n",
      "2            3            25             9600\n",
      "3            4            23            65500\n",
      "4            5            24            54400\n"
     ]
    }
   ],
   "source": [
    "# Asignar nuevos IDs secuenciales a la columna customer_id\n",
    "df2['customer_id'] = range(1, len(df2) + 1)\n",
    "\n",
    "print(\"Después de reasignar IDs:\")\n",
    "print(df2)\n",
    "\n"
   ]
  }
 ],
 "metadata": {
  "kernelspec": {
   "display_name": "Python 3",
   "language": "python",
   "name": "python3"
  },
  "language_info": {
   "codemirror_mode": {
    "name": "ipython",
    "version": 3
   },
   "file_extension": ".py",
   "mimetype": "text/x-python",
   "name": "python",
   "nbconvert_exporter": "python",
   "pygments_lexer": "ipython3",
   "version": "3.12.1"
  }
 },
 "nbformat": 4,
 "nbformat_minor": 2
}
