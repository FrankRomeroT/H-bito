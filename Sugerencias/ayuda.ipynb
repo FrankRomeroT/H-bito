{
 "cells": [
  {
   "cell_type": "markdown",
   "metadata": {},
   "source": [
    "1. Importación de Librerías\n",
    "Primero, aseguramos que todas las librerías necesarias están importadas correctamente."
   ]
  },
  {
   "cell_type": "code",
   "execution_count": 1,
   "metadata": {},
   "outputs": [],
   "source": [
    "import pandas as pd\n",
    "import numpy as np\n",
    "from sklearn.impute import KNNImputer\n",
    "import matplotlib.pyplot as plt\n",
    "import warnings\n",
    "import seaborn as sns\n",
    "from sklearn.preprocessing import StandardScaler"
   ]
  },
  {
   "cell_type": "markdown",
   "metadata": {},
   "source": [
    "2. Creación de DataFrames y Uso de Métodos para Rellenar Valores Nulos\n",
    "2.1 Rellenar Valores Nulos con ffill y bfill\n",
    "Descripción:\n",
    "Este método es adecuado para datos de series temporales o donde hay una lógica clara de continuidad. Es útil cuando los valores faltantes deben ser reemplazados por el valor más cercano en el tiempo (anterior o siguiente)."
   ]
  },
  {
   "cell_type": "code",
   "execution_count": 2,
   "metadata": {},
   "outputs": [
    {
     "name": "stdout",
     "output_type": "stream",
     "text": [
      "DataFrame con forward fill y backward fill:\n",
      "        date  stock_price  stock_price_ffill  stock_price_bfill\n",
      "0 2023-01-01        100.0              100.0              100.0\n",
      "1 2023-01-02          NaN              100.0              102.0\n",
      "2 2023-01-03        102.0              102.0              102.0\n",
      "3 2023-01-04          NaN              102.0              104.0\n",
      "4 2023-01-05        104.0              104.0              104.0\n"
     ]
    }
   ],
   "source": [
    "# Crear un DataFrame con datos de series temporales (precios de acciones)\n",
    "data = {\n",
    "    'date': pd.date_range(start='2023-01-01', periods=5, freq='D'),\n",
    "    'stock_price': [100, np.nan, 102, np.nan, 104]\n",
    "}\n",
    "df = pd.DataFrame(data)\n",
    "\n",
    "# Usar ffill (forward fill) para rellenar valores nulos con el valor anterior\n",
    "df['stock_price_ffill'] = df['stock_price'].ffill()\n",
    "\n",
    "# Usar bfill (backward fill) para rellenar valores nulos con el valor siguiente\n",
    "df['stock_price_bfill'] = df['stock_price'].bfill()\n",
    "\n",
    "print(\"DataFrame con forward fill y backward fill:\")\n",
    "print(df)\n"
   ]
  },
  {
   "cell_type": "markdown",
   "metadata": {},
   "source": [
    "3. Imputación de Valores Nulos con KNNImputer\n",
    "Descripción:\n",
    "Este método es adecuado para datos multidimensionales donde se desea considerar la similitud entre muestras. Es útil cuando se desea usar la similitud entre características para imputar los valores faltantes."
   ]
  },
  {
   "cell_type": "code",
   "execution_count": 3,
   "metadata": {},
   "outputs": [
    {
     "name": "stdout",
     "output_type": "stream",
     "text": [
      "DataFrame con KNNImputer:\n",
      "   customer_id  customer_age  customer_income  historical_default  \\\n",
      "0            1            22            59000                   1   \n",
      "1            2            21             9600                   0   \n",
      "2            3            25             9600                   0   \n",
      "3            4            23            65500                   0   \n",
      "4            5            24            54400                   1   \n",
      "\n",
      "   cred_hist_length Current_loan_status  \n",
      "0                 3             DEFAULT  \n",
      "1                 2          NO DEFAULT  \n",
      "2                 3             DEFAULT  \n",
      "3                 2             DEFAULT  \n",
      "4                 4             DEFAULT  \n"
     ]
    }
   ],
   "source": [
    "# DataFrame con datos multidimensionales (características de clientes)\n",
    "data2 = {\n",
    "    'customer_id': [1, 2, 3, 4, 5],\n",
    "    'customer_age': [22, 21, 25, 23, 24],\n",
    "    'customer_income': [59000, 9600, 9600, 65500, 54400],\n",
    "    'historical_default': ['Y', None, 'N', 'N', 'Y'],\n",
    "    'cred_hist_length': [3, 2, 3, 2, 4],\n",
    "    'Current_loan_status': ['DEFAULT', 'NO DEFAULT', 'DEFAULT', 'DEFAULT', 'DEFAULT']\n",
    "}\n",
    "\n",
    "df2 = pd.DataFrame(data2)\n",
    "\n",
    "# Convertir 'Y' y 'N' a 1 y 0\n",
    "def convert_bin(value):\n",
    "    if value == 'Y':\n",
    "        return 1\n",
    "    elif value == 'N':\n",
    "        return 0\n",
    "    return value\n",
    "\n",
    "df2['historical_default'] = df2['historical_default'].apply(convert_bin)\n",
    "\n",
    "# Crear una instancia del KNNImputer\n",
    "imputer = KNNImputer(n_neighbors=2)\n",
    "\n",
    "# Imputar los valores nulos\n",
    "df2[['historical_default']] = imputer.fit_transform(df2[['historical_default']])\n",
    "\n",
    "# Asegurarse de que los valores imputados son enteros (0 o 1)\n",
    "df2['historical_default'] = df2['historical_default'].round().astype(int)\n",
    "\n",
    "print(\"DataFrame con KNNImputer:\")\n",
    "print(df2)\n"
   ]
  },
  {
   "cell_type": "markdown",
   "metadata": {},
   "source": [
    "4. Reasignar IDs Secuenciales a la Columna customer_id\n",
    "Descripción:\n",
    "Este paso es útil cuando hay valores nulos en la columna customer_id y deseas reasignar IDs secuenciales."
   ]
  },
  {
   "cell_type": "code",
   "execution_count": 4,
   "metadata": {},
   "outputs": [
    {
     "name": "stdout",
     "output_type": "stream",
     "text": [
      "Antes de reasignar IDs:\n",
      "   customer_id  customer_age  customer_income\n",
      "0          1.0            22            59000\n",
      "1          2.0            21             9600\n",
      "2          3.0            25             9600\n",
      "3          NaN            23            65500\n",
      "4          5.0            24            54400\n",
      "Después de reasignar IDs:\n",
      "   customer_id  customer_age  customer_income\n",
      "0            1            22            59000\n",
      "1            2            21             9600\n",
      "2            3            25             9600\n",
      "3            4            23            65500\n",
      "4            5            24            54400\n"
     ]
    }
   ],
   "source": [
    "data3 = {\n",
    "    'customer_id': [1, 2, 3, None, 5],\n",
    "    'customer_age': [22, 21, 25, 23, 24],\n",
    "    'customer_income': [59000, 9600, 9600, 65500, 54400]\n",
    "}\n",
    "df3 = pd.DataFrame(data3)\n",
    "\n",
    "print(\"Antes de reasignar IDs:\")\n",
    "print(df3)\n",
    "\n",
    "# Asignar nuevos IDs secuenciales a la columna customer_id\n",
    "df3['customer_id'] = range(1, len(df3) + 1)\n",
    "\n",
    "print(\"Después de reasignar IDs:\")\n",
    "print(df3)\n"
   ]
  },
  {
   "cell_type": "markdown",
   "metadata": {},
   "source": [
    "5. Interpolación de Valores Nulos\n",
    "Descripción:\n",
    "La interpolación es adecuada para datos continuos. Funciona mejor cuando hay una tendencia o patrón claro en los datos. No es recomendable para datos binarios."
   ]
  },
  {
   "cell_type": "code",
   "execution_count": 5,
   "metadata": {},
   "outputs": [
    {
     "name": "stdout",
     "output_type": "stream",
     "text": [
      "DataFrame con interpolación:\n",
      "      values  values_interpolated\n",
      "0        1.0                  1.0\n",
      "1        2.0                  2.0\n",
      "2        3.0                  3.0\n",
      "3        NaN                  4.0\n",
      "4        5.0                  5.0\n",
      "5        6.0                  6.0\n",
      "6        NaN               1669.5\n",
      "7     3333.0               3333.0\n",
      "8   833333.0             833333.0\n",
      "9     9999.0               9999.0\n",
      "10       NaN               5004.5\n",
      "11      10.0                 10.0\n",
      "12  123131.0             123131.0\n"
     ]
    }
   ],
   "source": [
    "# Datos con valores atípicos y algunos valores nulos\n",
    "data_with_outliers = [1, 2, 3, None, 5, 6, None, 3333, 833333, 9999, None, 10, 123131]\n",
    "\n",
    "# Crear un DataFrame con estos datos\n",
    "df_outliers = pd.DataFrame(data_with_outliers, columns=['values'])\n",
    "\n",
    "# Interpolar los valores nulos\n",
    "df_outliers['values_interpolated'] = df_outliers['values'].interpolate()\n",
    "\n",
    "print(\"DataFrame con interpolación:\")\n",
    "print(df_outliers)\n"
   ]
  },
  {
   "cell_type": "markdown",
   "metadata": {},
   "source": [
    "6. Conversión de Columnas a Tipo Float\n",
    "Descripción:\n",
    "Es útil para asegurarse de que las columnas especificadas están en el tipo de datos correcto."
   ]
  },
  {
   "cell_type": "code",
   "execution_count": 6,
   "metadata": {},
   "outputs": [
    {
     "name": "stdout",
     "output_type": "stream",
     "text": [
      "DataFrame con columnas convertidas a float:\n",
      "   resul1  result2  penal_1  penal_2\n",
      "0     1.0      5.0      9.0     13.0\n",
      "1     2.0      6.0     10.0     14.0\n",
      "2     NaN      7.0     11.0     15.0\n",
      "3     4.0      8.0     12.0     16.0\n"
     ]
    }
   ],
   "source": [
    "# DataFrame de ejemplo\n",
    "merged_1_2 = pd.DataFrame({\n",
    "    'resul1': [1, 2, np.nan, 4],\n",
    "    'result2': [5, 6, 7, 8],\n",
    "    'penal_1': [9, 10, 11, 12],\n",
    "    'penal_2': [13, 14, 15, 16]\n",
    "})\n",
    "\n",
    "# Convertir las columnas especificadas a float\n",
    "columns_to_convert = ['resul1', 'result2', 'penal_1', 'penal_2']\n",
    "for column in columns_to_convert:\n",
    "    merged_1_2[column] = merged_1_2[column].astype(float)\n",
    "\n",
    "print(\"DataFrame con columnas convertidas a float:\")\n",
    "print(merged_1_2)\n"
   ]
  },
  {
   "cell_type": "markdown",
   "metadata": {},
   "source": [
    "8. Codificación de Variables Categóricas con OneHotEncoder\n",
    "Descripción:\n",
    "La codificación OneHotEncoder es útil para convertir variables categóricas en variables binarias."
   ]
  },
  {
   "cell_type": "code",
   "execution_count": 7,
   "metadata": {},
   "outputs": [
    {
     "name": "stdout",
     "output_type": "stream",
     "text": [
      "             Migration_route  Migration_route_Central Mediterranean  \\\n",
      "0  US-Mexico border crossing                                    0.0   \n",
      "1     Sahara Desert crossing                                    0.0   \n",
      "2      Central Mediterranean                                    1.0   \n",
      "3      Western Mediterranean                                    0.0   \n",
      "4        Afghanistan to Iran                                    0.0   \n",
      "\n",
      "   Migration_route_Sahara Desert crossing  \\\n",
      "0                                     0.0   \n",
      "1                                     1.0   \n",
      "2                                     0.0   \n",
      "3                                     0.0   \n",
      "4                                     0.0   \n",
      "\n",
      "   Migration_route_US-Mexico border crossing  \\\n",
      "0                                        1.0   \n",
      "1                                        0.0   \n",
      "2                                        0.0   \n",
      "3                                        0.0   \n",
      "4                                        0.0   \n",
      "\n",
      "   Migration_route_Western Mediterranean  \n",
      "0                                    0.0  \n",
      "1                                    0.0  \n",
      "2                                    0.0  \n",
      "3                                    1.0  \n",
      "4                                    0.0  \n"
     ]
    }
   ],
   "source": [
    "import pandas as pd\n",
    "from sklearn.preprocessing import OneHotEncoder\n",
    "\n",
    "# DataFrame de ejemplo\n",
    "data4 = {\n",
    "    'Migration_route': ['US-Mexico border crossing', 'Sahara Desert crossing', 'Central Mediterranean', 'Western Mediterranean', 'Afghanistan to Iran']\n",
    "}\n",
    "df4 = pd.DataFrame(data4)\n",
    "\n",
    "# Seleccionar la columna que se va a codificar\n",
    "categoria_column = df4[['Migration_route']]\n",
    "\n",
    "# Encoder\n",
    "encoder = OneHotEncoder(sparse_output=False, drop='first')\n",
    "encoded_data = encoder.fit_transform(categoria_column)\n",
    "\n",
    "# Convertir en DataFrame\n",
    "encoded_columns = encoder.get_feature_names_out(['Migration_route'])\n",
    "encoded_df = pd.DataFrame(encoded_data, columns=encoded_columns)\n",
    "\n",
    "# Concatenar los datos codificados con el DataFrame original\n",
    "df4 = pd.concat([df4.reset_index(drop=True), encoded_df.reset_index(drop=True)], axis=1)\n",
    "\n",
    "print(df4.head())\n",
    "\n",
    "\n",
    "# Seleccionar la columna que se va a codificar\n",
    "# categoria_column = ['HomePlanet','CryoSleep','Cabin','Destination','VIP']\n",
    "\n",
    "# Encoder\n",
    "# encoder = OneHotEncoder(sparse_output=False, drop='first')\n",
    "# encoded_data = encoder.fit_transform(x2[categoria_column])\n",
    "\n",
    "# Convertir en DataFrame\n",
    "# encoded_columns = encoder.get_feature_names_out(categoria_column)\n",
    "# encoded_df = pd.DataFrame(encoded_data, columns=encoded_columns)\n",
    "\n",
    "# Concatenar los datos codificados con el DataFrame original\n",
    "# x2 = pd.concat([x2.reset_index(drop=True), encoded_df.reset_index(drop=True)], axis=1)\n",
    "\n",
    "# print(x2.head())"
   ]
  },
  {
   "cell_type": "markdown",
   "metadata": {},
   "source": [
    "9. Reemplazar Categorías con Valores Numéricos\n",
    "Descripción:\n",
    "Este método es útil para convertir categorías en valores numéricos utilizando un diccionario"
   ]
  },
  {
   "cell_type": "code",
   "execution_count": 8,
   "metadata": {},
   "outputs": [
    {
     "name": "stdout",
     "output_type": "stream",
     "text": [
      "DataFrame con categorías reemplazadas por valores numéricos:\n",
      "   Information_Source\n",
      "0                   1\n",
      "1                   2\n",
      "2                   3\n",
      "3                   1\n",
      "4                   2\n"
     ]
    },
    {
     "name": "stderr",
     "output_type": "stream",
     "text": [
      "C:\\Users\\FRANK\\AppData\\Local\\Temp\\ipykernel_17716\\1363229805.py:13: FutureWarning: Downcasting behavior in `replace` is deprecated and will be removed in a future version. To retain the old behavior, explicitly call `result.infer_objects(copy=False)`. To opt-in to the future behavior, set `pd.set_option('future.no_silent_downcasting', True)`\n",
      "  df5['Information_Source'] = df5['Information_Source'].replace(source_quality_dicc)\n"
     ]
    }
   ],
   "source": [
    "import pandas as pd\n",
    "\n",
    "# DataFrame de ejemplo\n",
    "data5 = {\n",
    "    'Information_Source': ['Source A', 'Source B', 'Source C', 'Source A', 'Source B']\n",
    "}\n",
    "df5 = pd.DataFrame(data5)\n",
    "\n",
    "# Crear un diccionario que mapea cada categoría en 'Information_Source' a un número único\n",
    "source_quality_dicc = {category: idx for idx, category in enumerate(df5['Information_Source'].unique(), 1)}\n",
    "\n",
    "# Reemplazar las categorías con valores numéricos\n",
    "df5['Information_Source'] = df5['Information_Source'].replace(source_quality_dicc)\n",
    "\n",
    "print(\"DataFrame con categorías reemplazadas por valores numéricos:\")\n",
    "print(df5)\n"
   ]
  },
  {
   "cell_type": "markdown",
   "metadata": {},
   "source": [
    "10. Correlación de Pearson\n",
    "Descripción:\n",
    "En estadística, la correlación mide la fuerza y la dirección de una relación lineal entre dos variables. Aquí hay algunas pautas generales para interpretar el coeficiente de correlación de Pearson (𝑟):"
   ]
  },
  {
   "cell_type": "code",
   "execution_count": 9,
   "metadata": {},
   "outputs": [
    {
     "name": "stdout",
     "output_type": "stream",
     "text": [
      "                     Number_of_Survivors  Number_of_Females  Number_of_Males  \\\n",
      "Number_of_Survivors             1.000000           0.543351        -0.543351   \n",
      "Number_of_Females               0.543351           1.000000        -1.000000   \n",
      "Number_of_Males                -0.543351          -1.000000         1.000000   \n",
      "age                            -0.077221          -0.093254         0.093254   \n",
      "fare                            0.257307           0.182333        -0.182333   \n",
      "\n",
      "                          age      fare  \n",
      "Number_of_Survivors -0.077221  0.257307  \n",
      "Number_of_Females   -0.093254  0.182333  \n",
      "Number_of_Males      0.093254 -0.182333  \n",
      "age                  1.000000  0.096067  \n",
      "fare                 0.096067  1.000000  \n"
     ]
    }
   ],
   "source": [
    "# 𝑟 = 1: Correlación perfecta positiva. A medida que una variable aumenta, la otra también aumenta de manera proporcional.\n",
    "# 𝑟 = -1: Correlación perfecta negativa. A medida que una variable aumenta, la otra disminuye de manera proporcional.\n",
    "# 𝑟 = 0: No hay correlación. No hay una relación lineal entre las dos variables.\n",
    "# 0 < |𝑟| < 0.3: Correlación débil. La relación entre las variables es débil.\n",
    "# 0.3 ≤ |𝑟| < 0.5: Correlación moderada. Hay una relación lineal moderada entre las variables.\n",
    "# 0.5 ≤ |𝑟| < 0.7: Correlación alta. Las variables tienen una relación lineal fuerte.\n",
    "# 0.7 ≤ |𝑟| ≤ 1.0: Correlación muy alta. Las variables tienen una relación lineal muy fuerte.\n",
    "\n",
    "# Interpretación de los Valores Negativos\n",
    "# Un valor negativo de 𝑟 indica que existe una relación inversa entre las dos variables. Esto significa que cuando una variable aumenta, la otra tiende a disminuir. Aquí hay algunos ejemplos para aclarar esta interpretación:\n",
    "\n",
    "# 𝑟 = -1: Una correlación perfecta negativa. Por ejemplo, si aumentas la velocidad de un coche, el tiempo para llegar a un destino disminuye de manera proporcional.\n",
    "# 𝑟 = -0.5: Una correlación negativa alta. Si aumentas el precio de un producto, la cantidad vendida puede disminuir de manera considerable.\n",
    "# 𝑟 = -0.1: Una correlación negativa débil. Puede haber una pequeña tendencia de que al aumentar el uso de redes sociales, el tiempo dedicado a estudiar disminuye ligeramente.\n",
    "\n",
    "# Cargar el dataset del Titanic de seaborn\n",
    "titanic = sns.load_dataset('titanic')\n",
    "\n",
    "# Crear nuevas columnas relevantes\n",
    "titanic['Number_of_Survivors'] = titanic['survived']\n",
    "titanic['Number_of_Females'] = titanic['sex'].apply(lambda x: 1 if x == 'female' else 0)\n",
    "titanic['Number_of_Males'] = titanic['sex'].apply(lambda x: 1 if x == 'male' else 0)\n",
    "\n",
    "# Seleccionar las columnas para calcular la correlación\n",
    "columns_of_interest = ['Number_of_Survivors', 'Number_of_Females', 'Number_of_Males', 'age', 'fare']\n",
    "df = titanic[columns_of_interest]\n",
    "\n",
    "# Calcular la matriz de correlación\n",
    "correlation_matrix = df.corr()\n",
    "\n",
    "print(correlation_matrix)"
   ]
  },
  {
   "cell_type": "markdown",
   "metadata": {},
   "source": [
    "* Interpretación de los Resultados\n",
    "\n",
    "* Number_of_Survivors y Number_of_Females (0.203874): Hay una correlación débil positiva entre el número de sobrevivientes y el número de mujeres. Esto indica que las mujeres tenían # una ligera tendencia a sobrevivir más que los hombres.\n",
    "\n",
    "* Number_of_Survivors y Number_of_Males (-0.203874): Hay una correlación débil negativa entre el número de sobrevivientes y el número de hombres. Esto sugiere que los hombres tenían una ligera tendencia a sobrevivir menos que las mujeres.\n",
    "\n",
    "* Number_of_Females y Number_of_Males (-1.000000): Hay una correlación perfecta negativa entre el número de mujeres y el número de hombres, lo cual es esperado porque son variables mutuamente excluyentes."
   ]
  },
  {
   "cell_type": "code",
   "execution_count": 10,
   "metadata": {},
   "outputs": [
    {
     "name": "stdout",
     "output_type": "stream",
     "text": [
      "DataFrame original con valores nulos:\n",
      "    Age  RoomService  FoodCourt  ShoppingMall    Spa  VRDeck\n",
      "0  25.0        100.0       50.0          20.0    0.0    10.0\n",
      "1   NaN        200.0        NaN          30.0  100.0    20.0\n",
      "2  30.0          NaN      150.0          40.0  200.0     NaN\n",
      "3  22.0        400.0      200.0           NaN  300.0    40.0\n",
      "4   NaN        500.0        NaN          60.0    NaN    50.0\n",
      "5  35.0          NaN      300.0          70.0  500.0     NaN\n",
      "\n",
      "DataFrame después de imputar valores nulos con KNNImputer:\n",
      "    Age  RoomService  FoodCourt  ShoppingMall    Spa  VRDeck\n",
      "0  25.0        100.0       50.0          20.0    0.0    10.0\n",
      "1  27.5        200.0      100.0          30.0  100.0    20.0\n",
      "2  30.0        450.0      150.0          40.0  200.0    45.0\n",
      "3  22.0        400.0      200.0          50.0  300.0    40.0\n",
      "4  32.5        500.0      225.0          60.0  350.0    50.0\n",
      "5  35.0        450.0      300.0          70.0  500.0    45.0\n",
      "\n",
      "DataFrame después de escalar las características con StandardScaler:\n",
      "        Age  RoomService  FoodCourt  ShoppingMall       Spa    VRDeck\n",
      "0 -0.834508    -1.698416  -1.470358      -1.46385 -1.470358 -1.698416\n",
      "1 -0.265525    -1.019049  -0.861934      -0.87831 -0.861934 -1.019049\n",
      "2  0.303457     0.679366  -0.253510      -0.29277 -0.253510  0.679366\n",
      "3 -1.517286     0.339683   0.354914       0.29277  0.354914  0.339683\n",
      "4  0.872440     1.019049   0.659126       0.87831  0.659126  1.019049\n",
      "5  1.441422     0.679366   1.571762       1.46385  1.571762  0.679366\n"
     ]
    }
   ],
   "source": [
    "# Crear un DataFrame de ejemplo\n",
    "data = {\n",
    "    'Age': [25, np.nan, 30, 22, np.nan, 35],\n",
    "    'RoomService': [100, 200, np.nan, 400, 500, np.nan],\n",
    "    'FoodCourt': [50, np.nan, 150, 200, np.nan, 300],\n",
    "    'ShoppingMall': [20, 30, 40, np.nan, 60, 70],\n",
    "    'Spa': [0, 100, 200, 300, np.nan, 500],\n",
    "    'VRDeck': [10, 20, np.nan, 40, 50, np.nan]\n",
    "}\n",
    "\n",
    "x2 = pd.DataFrame(data)\n",
    "print(\"DataFrame original con valores nulos:\")\n",
    "print(x2)\n",
    "\n",
    "# Definir las columnas a imputar\n",
    "columna_impute = ['Age', 'RoomService', 'FoodCourt', 'ShoppingMall', 'Spa', 'VRDeck']\n",
    "\n",
    "# Imputar valores faltantes usando KNNImputer\n",
    "imputer = KNNImputer(n_neighbors=2)\n",
    "x2[columna_impute] = imputer.fit_transform(x2[columna_impute])\n",
    "\n",
    "print(\"\\nDataFrame después de imputar valores nulos con KNNImputer:\")\n",
    "print(x2)\n",
    "\n",
    "# Escalar las características usando StandardScaler\n",
    "scaler = StandardScaler()\n",
    "x2[columna_impute] = scaler.fit_transform(x2[columna_impute])\n",
    "\n",
    "print(\"\\nDataFrame después de escalar las características con StandardScaler:\")\n",
    "print(x2)\n"
   ]
  },
  {
   "cell_type": "code",
   "execution_count": 11,
   "metadata": {},
   "outputs": [
    {
     "data": {
      "image/png": "[encoded data removed]",
      "text/plain": [
       "<Figure size 1500x1000 with 5 Axes>"
      ]
     },
     "metadata": {},
     "output_type": "display_data"
    }
   ],
   "source": [
    "import matplotlib.pyplot as plt\n",
    "\n",
    "# Configurar el tamaño de los gráficos\n",
    "plt.figure(figsize=(15, 10))\n",
    "\n",
    "# Edad vs RoomService\n",
    "plt.subplot(2, 3, 1)\n",
    "plt.scatter(x2['Age'], x2['RoomService'], alpha=0.5)\n",
    "plt.title('Edad vs RoomService')\n",
    "plt.xlabel('Age')\n",
    "plt.ylabel('RoomService')\n",
    "\n",
    "# Edad vs FoodCourt\n",
    "plt.subplot(2, 3, 2)\n",
    "plt.scatter(x2['Age'],x2['FoodCourt'], alpha=0.5)\n",
    "plt.title('Edad vs FoodCourt')\n",
    "plt.xlabel('Age')\n",
    "plt.ylabel('FoodCourt')\n",
    "\n",
    "# Edad vs ShoppingMall\n",
    "plt.subplot(2, 3, 3)\n",
    "plt.scatter(x2['Age'], x2['ShoppingMall'], alpha=0.5)\n",
    "plt.title('Edad vs ShoppingMall')\n",
    "plt.xlabel('Age')\n",
    "plt.ylabel('ShoppingMall')\n",
    "\n",
    "# Edad vs Spa\n",
    "plt.subplot(2, 3, 4)\n",
    "plt.scatter(x2['Age'], x2['Spa'], alpha=0.5)\n",
    "plt.title('Edad vs Spa')\n",
    "plt.xlabel('Age')\n",
    "plt.ylabel('Spa')\n",
    "\n",
    "# Edad vs VRDeck\n",
    "plt.subplot(2, 3, 5)\n",
    "plt.scatter(x2['Age'], x2['VRDeck'], alpha=0.5)\n",
    "plt.title('Edad vs VRDeck')\n",
    "plt.xlabel('Age')\n",
    "plt.ylabel('VRDeck')\n",
    "\n",
    "plt.tight_layout()\n",
    "plt.show()\n"
   ]
  },
  {
   "cell_type": "code",
   "execution_count": 12,
   "metadata": {},
   "outputs": [],
   "source": [
    "# Crear archivo csv\n",
    "\n",
    "# archivo = open('parte2_final.csv',\"w\")\n",
    "# print('el archivo se ha creado')\n",
    "# archivo.close()"
   ]
  },
  {
   "cell_type": "markdown",
   "metadata": {},
   "source": [
    "# Detective Frank para hallar valores Nulos"
   ]
  },
  {
   "cell_type": "code",
   "execution_count": 13,
   "metadata": {},
   "outputs": [
    {
     "name": "stdout",
     "output_type": "stream",
     "text": [
      "Dataset original con valores nulos:\n",
      "   binary_feature  numeric_feature1  numeric_feature2 categorical_feature  \\\n",
      "0             1.0                10               NaN             manzana   \n",
      "1             0.0                 3               3.0                pera   \n",
      "2             NaN                 6               2.0             naranja   \n",
      "3             1.0                 1               NaN                 NaN   \n",
      "4             0.0                 7               4.0                piña   \n",
      "\n",
      "   target  \n",
      "0       1  \n",
      "1       0  \n",
      "2       1  \n",
      "3       0  \n",
      "4       1  \n"
     ]
    }
   ],
   "source": [
    "# Detective Frank para hallar valores Nulos\n",
    "\n",
    "data = {\n",
    "    'binary_feature': [1, 0, np.nan, 1, 0],\n",
    "    'numeric_feature1': [10, 3, 6, 1, 7],\n",
    "    'numeric_feature2': [np.nan, 3, 2, np.nan, 4],\n",
    "    'categorical_feature': ['manzana', 'pera', 'naranja', np.nan, 'piña'],\n",
    "    'target': [1, 0, 1, 0, 1]\n",
    "}\n",
    "df = pd.DataFrame(data)\n",
    "print(\"Dataset original con valores nulos:\")\n",
    "print(df)\n"
   ]
  },
  {
   "cell_type": "code",
   "execution_count": 14,
   "metadata": {},
   "outputs": [
    {
     "name": "stdout",
     "output_type": "stream",
     "text": [
      "Después de imputar la columna binaria con KNN:\n",
      "   binary_feature  numeric_feature1  numeric_feature2 categorical_feature  \\\n",
      "0             1.0                10               NaN             manzana   \n",
      "1             0.0                 3               3.0                pera   \n",
      "2             0.5                 6               2.0             naranja   \n",
      "3             1.0                 1               NaN                 NaN   \n",
      "4             0.0                 7               4.0                piña   \n",
      "\n",
      "   target  \n",
      "0       1  \n",
      "1       0  \n",
      "2       1  \n",
      "3       0  \n",
      "4       1  \n"
     ]
    }
   ],
   "source": [
    "# Imputar valores nulos en características binarias usando KNN\n",
    "knn_imputer = KNNImputer(n_neighbors=2)\n",
    "df[['binary_feature']] = knn_imputer.fit_transform(df[['binary_feature']])\n",
    "print(\"Después de imputar la columna binaria con KNN:\")\n",
    "print(df)"
   ]
  },
  {
   "cell_type": "code",
   "execution_count": 15,
   "metadata": {},
   "outputs": [
    {
     "name": "stdout",
     "output_type": "stream",
     "text": [
      "Después de imputar la columna numérica con interpolación:\n",
      "   binary_feature  numeric_feature1  numeric_feature2 categorical_feature  \\\n",
      "0             1.0                10               NaN             manzana   \n",
      "1             0.0                 3               3.0                pera   \n",
      "2             0.5                 6               2.0             naranja   \n",
      "3             1.0                 1               3.0                 NaN   \n",
      "4             0.0                 7               4.0                piña   \n",
      "\n",
      "   target  \n",
      "0       1  \n",
      "1       0  \n",
      "2       1  \n",
      "3       0  \n",
      "4       1  \n"
     ]
    }
   ],
   "source": [
    "# Imputar valores nulos en características numéricas usando interpolación\n",
    "df['numeric_feature2'] = df['numeric_feature2'].interpolate()\n",
    "print(\"Después de imputar la columna numérica con interpolación:\")\n",
    "print(df)\n"
   ]
  },
  {
   "cell_type": "code",
   "execution_count": 16,
   "metadata": {},
   "outputs": [
    {
     "name": "stdout",
     "output_type": "stream",
     "text": [
      "Después de imputar la columna categórica con KNN:\n",
      "   binary_feature  numeric_feature1  numeric_feature2  target  \\\n",
      "0             1.0              10.0               3.0     1.0   \n",
      "1             0.0               3.0               3.0     0.0   \n",
      "2             0.5               6.0               2.0     1.0   \n",
      "3             1.0               1.0               3.0     0.0   \n",
      "4             0.0               7.0               4.0     1.0   \n",
      "\n",
      "   categorical_feature_manzana  categorical_feature_naranja  \\\n",
      "0                          1.0                          0.0   \n",
      "1                          0.0                          0.0   \n",
      "2                          0.0                          1.0   \n",
      "3                          0.0                          0.0   \n",
      "4                          0.0                          0.0   \n",
      "\n",
      "   categorical_feature_pera  categorical_feature_piña  categorical_feature_nan  \n",
      "0                       0.0                       0.0                      0.0  \n",
      "1                       1.0                       0.0                      0.0  \n",
      "2                       0.0                       0.0                      0.0  \n",
      "3                       0.0                       0.0                      1.0  \n",
      "4                       0.0                       1.0                      0.0  \n"
     ]
    }
   ],
   "source": [
    "# One-Hot Encoding para características categóricas\n",
    "ohe = OneHotEncoder(handle_unknown='ignore', sparse_output=False)\n",
    "cat_encoded = ohe.fit_transform(df[['categorical_feature']])\n",
    "cat_encoded_df = pd.DataFrame(cat_encoded, columns=ohe.get_feature_names_out(['categorical_feature']))\n",
    "\n",
    "# Combinar con el DataFrame original sin la columna categórica original\n",
    "df_combined = pd.concat([df.drop(columns=['categorical_feature']), cat_encoded_df], axis=1)\n",
    "\n",
    "# Imputar valores nulos en la característica categórica usando KNN\n",
    "df_combined = pd.DataFrame(knn_imputer.fit_transform(df_combined), columns=df_combined.columns)\n",
    "print(\"Después de imputar la columna categórica con KNN:\")\n",
    "print(df_combined)\n",
    "\n",
    "# Mantener las características categóricas en formato codificado para el modelo\n",
    "df_final = df_combined  # No revertimos el One-Hot Encoding para el modelo"
   ]
  },
  {
   "cell_type": "code",
   "execution_count": 17,
   "metadata": {},
   "outputs": [
    {
     "ename": "NameError",
     "evalue": "name 'train_test_split' is not defined",
     "output_type": "error",
     "traceback": [
      "\u001b[1;31m---------------------------------------------------------------------------\u001b[0m",
      "\u001b[1;31mNameError\u001b[0m                                 Traceback (most recent call last)",
      "Cell \u001b[1;32mIn[17], line 6\u001b[0m\n\u001b[0;32m      3\u001b[0m y \u001b[38;5;241m=\u001b[39m df_final[\u001b[38;5;124m'\u001b[39m\u001b[38;5;124mtarget\u001b[39m\u001b[38;5;124m'\u001b[39m]\n\u001b[0;32m      5\u001b[0m \u001b[38;5;66;03m# Dividir los datos en conjuntos de entrenamiento y prueba\u001b[39;00m\n\u001b[1;32m----> 6\u001b[0m X_train, X_test, y_train, y_test \u001b[38;5;241m=\u001b[39m \u001b[43mtrain_test_split\u001b[49m(X, y, test_size\u001b[38;5;241m=\u001b[39m\u001b[38;5;241m0.3\u001b[39m, random_state\u001b[38;5;241m=\u001b[39m\u001b[38;5;241m42\u001b[39m)\n\u001b[0;32m      8\u001b[0m \u001b[38;5;66;03m# Entrenar el modelo Random Forest\u001b[39;00m\n\u001b[0;32m      9\u001b[0m rf_model \u001b[38;5;241m=\u001b[39m RandomForestClassifier(n_estimators\u001b[38;5;241m=\u001b[39m\u001b[38;5;241m100\u001b[39m, random_state\u001b[38;5;241m=\u001b[39m\u001b[38;5;241m42\u001b[39m)\n",
      "\u001b[1;31mNameError\u001b[0m: name 'train_test_split' is not defined"
     ]
    }
   ],
   "source": [
    "# Separar características y la variable objetivo\n",
    "X = df_final.drop(columns=['target'])\n",
    "y = df_final['target']\n",
    "\n",
    "# Dividir los datos en conjuntos de entrenamiento y prueba\n",
    "X_train, X_test, y_train, y_test = train_test_split(X, y, test_size=0.3, random_state=42)\n",
    "\n",
    "# Entrenar el modelo Random Forest\n",
    "rf_model = RandomForestClassifier(n_estimators=100, random_state=42)\n",
    "rf_model.fit(X_train, y_train)\n",
    "\n",
    "# Predecir y evaluar el modelo\n",
    "y_pred = rf_model.predict(X_test)\n",
    "accuracy = accuracy_score(y_test, y_pred)\n",
    "print(f\"Accuracy: {accuracy:.4f}\")\n",
    "\n",
    "# Obtener las importancias de las características\n",
    "importances = rf_model.feature_importances_\n",
    "features = X.columns\n",
    "importance_df = pd.DataFrame({'Feature': features, 'Importance': importances})\n",
    "importance_df = importance_df.sort_values(by='Importance', ascending=False)\n",
    "\n",
    "# Graficar las importancias de las características\n",
    "plt.figure(figsize=(10, 6))\n",
    "plt.barh(importance_df['Feature'], importance_df['Importance'], color='skyblue')\n",
    "plt.xlabel('Importancia')\n",
    "plt.title('Importancia de las Características')\n",
    "plt.gca().invert_yaxis()\n",
    "plt.show()"
   ]
  },
  {
   "cell_type": "markdown",
   "metadata": {},
   "source": [
    "**El siguiente paso en Machine Learning después de preprocesar los datos y evaluar modelos iniciales incluye optimizar esos modelos, comparar múltiples algoritmos, realizar evaluaciones adicionales y diagnósticos, implementar el mejor modelo en producción y monitorizar su rendimiento continuo. Cada uno de estos pasos ayuda a asegurar que el modelo no solo es preciso y robusto, sino también confiable y mantenible en un entorno real.**"
   ]
  },
  {
   "cell_type": "code",
   "execution_count": null,
   "metadata": {},
   "outputs": [],
   "source": [
    "# Revertir One-Hot Encoding a la forma original\n",
    "encoded_cols = ohe.get_feature_names_out(['categorical_feature'])\n",
    "decoded_categories = ohe.inverse_transform(df_combined[encoded_cols])\n",
    "df_combined['categorical_feature'] = pd.Series(decoded_categories.flatten())\n",
    "df_reverted = df_combined.drop(columns=encoded_cols)\n",
    "print(\"Después de revertir el One-Hot Encoding:\")\n",
    "print(df_reverted)"
   ]
  },
  {
   "cell_type": "code",
   "execution_count": null,
   "metadata": {},
   "outputs": [],
   "source": [
    "# Reemplazar valores categóricos por numéricos, aplicar interpolación y revertir\n",
    "dicc_categorical = {'manzana': 1, 'pera': 2, 'naranja': 3, 'piña': 4}\n",
    "df_reverted['categorical_feature_num'] = df_reverted['categorical_feature'].replace(dicc_categorical)\n",
    "df_reverted['categorical_feature_num'] = df_reverted['categorical_feature_num'].interpolate().round()\n",
    "\n",
    "# Revertir los valores numéricos a categóricos\n",
    "reverse_dicc_categorical = {v: k for k, v in dicc_categorical.items()}\n",
    "df_reverted['categorical_feature'] = df_reverted['categorical_feature_num'].replace(reverse_dicc_categorical)\n",
    "df_reverted.drop(columns=['categorical_feature_num'], inplace=True)\n",
    "\n",
    "print(\"Después de revertir el One-Hot Encoding y aplicar interpolación:\")\n",
    "print(df_reverted)"
   ]
  }
 ],
 "metadata": {
  "kernelspec": {
   "display_name": "Python 3",
   "language": "python",
   "name": "python3"
  },
  "language_info": {
   "codemirror_mode": {
    "name": "ipython",
    "version": 3
   },
   "file_extension": ".py",
   "mimetype": "text/x-python",
   "name": "python",
   "nbconvert_exporter": "python",
   "pygments_lexer": "ipython3",
   "version": "3.12.1"
  }
 },
 "nbformat": 4,
 "nbformat_minor": 2
}
