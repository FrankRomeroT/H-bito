{
 "cells": [
  {
   "cell_type": "code",
   "execution_count": 1,
   "metadata": {},
   "outputs": [],
   "source": [
    "import pandas as pd\n",
    "import numpy as np\n",
    "from sklearn.impute import KNNImputer\n",
    "import matplotlib.pyplot as plt\n",
    "import warnings\n",
    "import seaborn as sns\n",
    "from sklearn.preprocessing import OneHotEncoder\n",
    "import joblib\n",
    "import tensorflow as tf"
   ]
  },
  {
   "cell_type": "code",
   "execution_count": 2,
   "metadata": {},
   "outputs": [],
   "source": [
    "# Crear un rango de temperaturas en Kelvin\n",
    "kelvin_temps = np.array([233.15, 263.15, 273.15, 281.15, 288.15, 295.15, 310.15, 320.15, 330.15, 340.15, 350.15], dtype=float)\n",
    "fahrenheit_temps_from_kelvin = np.array([-40, 14, 32, 46.4, 59, 71.6, 98.6, 116.6, 134.6, 152.6, 170.6], dtype=float)\n",
    "\n",
    "# Crear el DataFrame\n",
    "new_temperature_data_practice = pd.DataFrame({\n",
    "    'Kelvin': kelvin_temps,\n",
    "    'Fahrenheit': fahrenheit_temps_from_kelvin\n",
    "})"
   ]
  },
  {
   "cell_type": "code",
   "execution_count": 3,
   "metadata": {},
   "outputs": [
    {
     "name": "stderr",
     "output_type": "stream",
     "text": [
      "c:\\Users\\FRANK\\AppData\\Local\\Programs\\Python\\Python312\\Lib\\site-packages\\keras\\src\\layers\\core\\dense.py:87: UserWarning: Do not pass an `input_shape`/`input_dim` argument to a layer. When using Sequential models, prefer using an `Input(shape)` object as the first layer in the model instead.\n",
      "  super().__init__(activity_regularizer=activity_regularizer, **kwargs)\n"
     ]
    }
   ],
   "source": [
    "oculta1 = tf.keras.layers.Dense(units=3,input_shape=[1])\n",
    "oculta2 = tf.keras.layers.Dense(units=3)\n",
    "oculta3 = tf.keras.layers.Dense(units=3)\n",
    "oculta4 = tf.keras.layers.Dense(units=3)\n",
    "oculta5 = tf.keras.layers.Dense(units=3)\n",
    "salida  = tf.keras.layers.Dense(units=1)\n",
    "modelo  = tf.keras.Sequential([oculta1,oculta2,oculta3,oculta4,oculta5,salida])"
   ]
  },
  {
   "cell_type": "code",
   "execution_count": 4,
   "metadata": {},
   "outputs": [],
   "source": [
    "modelo.compile(optimizer = tf.keras.optimizers.Adam(0.1),loss='mean_squared_error')"
   ]
  },
  {
   "cell_type": "code",
   "execution_count": 5,
   "metadata": {},
   "outputs": [
    {
     "name": "stdout",
     "output_type": "stream",
     "text": [
      "Comenzando entrenamiento\n",
      "Modelo entrenado\n"
     ]
    }
   ],
   "source": [
    "print('Comenzando entrenamiento')\n",
    "historial = modelo.fit(fahrenheit_temps_from_kelvin,kelvin_temps,epochs=500,verbose=False)\n",
    "print('Modelo entrenado')"
   ]
  },
  {
   "cell_type": "code",
   "execution_count": 6,
   "metadata": {},
   "outputs": [
    {
     "data": {
      "text/plain": [
       "[<matplotlib.lines.Line2D at 0x246552a7b30>]"
      ]
     },
     "execution_count": 6,
     "metadata": {},
     "output_type": "execute_result"
    },
    {
     "data": {
      "image/png": "[encoded data removed]",
      "text/plain": [
       "<Figure size 640x480 with 1 Axes>"
      ]
     },
     "metadata": {},
     "output_type": "display_data"
    }
   ],
   "source": [
    "plt.xlabel('# epoca')\n",
    "plt.ylabel('Magnitud de perdida')\n",
    "plt.plot(historial.history['loss'])"
   ]
  },
  {
   "cell_type": "code",
   "execution_count": 9,
   "metadata": {},
   "outputs": [
    {
     "name": "stdout",
     "output_type": "stream",
     "text": [
      "Vamos a hacer una predicción\n",
      "\u001b[1m1/1\u001b[0m \u001b[32m━━━━━━━━━━━━━━━━━━━━\u001b[0m\u001b[37m\u001b[0m \u001b[1m0s\u001b[0m 19ms/step\n",
      "El resultado es 266.48334 Fahrenheit\n"
     ]
    }
   ],
   "source": [
    "print('Vamos a hacer una predicción')\n",
    "resultado = modelo.predict(np.array([[20.0]]))  # corregir esta parte\n",
    "print('El resultado es ' + str(resultado[0][0]) + ' Fahrenheit') "
   ]
  },
  {
   "cell_type": "code",
   "execution_count": 8,
   "metadata": {},
   "outputs": [
    {
     "name": "stdout",
     "output_type": "stream",
     "text": [
      "Variables internas del modelo\n",
      "[array([[-0.01757491,  0.09931234,  0.0308099 ]], dtype=float32), array([ 2.274883,  4.590809, -3.345647], dtype=float32)]\n",
      "[array([[ 0.16514982, -0.05503442, -0.6582756 ],\n",
      "       [-0.57288486,  0.3199975 , -0.2659712 ],\n",
      "       [-0.12484936, -0.21922678,  0.27583688]], dtype=float32), array([-5.1767263,  5.2870264, -5.348413 ], dtype=float32)]\n",
      "[array([[ 0.4347328 ,  0.86592096,  0.31093708],\n",
      "       [-0.6291512 , -0.20169055, -0.39997092],\n",
      "       [ 0.7639766 , -0.612506  ,  0.22211541]], dtype=float32), array([-6.0332174, -5.2635565, -4.8964877], dtype=float32)]\n",
      "[array([[ 0.22449769,  1.3642875 , -0.8473563 ],\n",
      "       [ 0.22445454,  0.6282448 ,  0.02050768],\n",
      "       [ 0.3660503 ,  0.3443383 ,  0.03628737]], dtype=float32), array([-5.4186845, -6.13922  ,  6.053989 ], dtype=float32)]\n",
      "[array([[ 0.65005183,  1.0865425 , -0.89898676],\n",
      "       [ 0.9104038 ,  1.6115903 , -0.92418975],\n",
      "       [-0.65632147, -1.3413731 ,  0.48574886]], dtype=float32), array([-4.7971115, -5.675608 ,  4.5889153], dtype=float32)]\n",
      "[array([[-0.3445894],\n",
      "       [-1.4192255],\n",
      "       [ 0.7485773]], dtype=float32), array([4.4399743], dtype=float32)]\n"
     ]
    }
   ],
   "source": [
    "print('Variables internas del modelo')\n",
    "print(oculta1.get_weights())\n",
    "print(oculta2.get_weights())\n",
    "print(oculta3.get_weights())\n",
    "print(oculta4.get_weights())\n",
    "print(oculta5.get_weights())\n",
    "print(salida.get_weights())"
   ]
  }
 ],
 "metadata": {
  "kernelspec": {
   "display_name": "Python 3",
   "language": "python",
   "name": "python3"
  },
  "language_info": {
   "codemirror_mode": {
    "name": "ipython",
    "version": 3
   },
   "file_extension": ".py",
   "mimetype": "text/x-python",
   "name": "python",
   "nbconvert_exporter": "python",
   "pygments_lexer": "ipython3",
   "version": "3.12.1"
  }
 },
 "nbformat": 4,
 "nbformat_minor": 2
}
