{
 "cells": [
  {
   "cell_type": "code",
   "execution_count": 11,
   "metadata": {},
   "outputs": [],
   "source": [
    "import pandas as pd\n",
    "import numpy as np\n",
    "from sklearn.impute import KNNImputer\n",
    "import matplotlib.pyplot as plt\n",
    "import warnings\n",
    "import seaborn as sns\n",
    "from sklearn.preprocessing import StandardScaler\n",
    "from sklearn.ensemble import RandomForestRegressor, RandomForestClassifier\n",
    "from sklearn.preprocessing import OneHotEncoder\n",
    "from sklearn.impute import SimpleImputer"
   ]
  },
  {
   "cell_type": "code",
   "execution_count": 12,
   "metadata": {},
   "outputs": [
    {
     "data": {
      "text/html": [
       "<div>\n",
       "<style scoped>\n",
       "    .dataframe tbody tr th:only-of-type {\n",
       "        vertical-align: middle;\n",
       "    }\n",
       "\n",
       "    .dataframe tbody tr th {\n",
       "        vertical-align: top;\n",
       "    }\n",
       "\n",
       "    .dataframe thead th {\n",
       "        text-align: right;\n",
       "    }\n",
       "</style>\n",
       "<table border=\"1\" class=\"dataframe\">\n",
       "  <thead>\n",
       "    <tr style=\"text-align: right;\">\n",
       "      <th></th>\n",
       "      <th>Id</th>\n",
       "      <th>MSSubClass</th>\n",
       "      <th>MSZoning</th>\n",
       "      <th>LotFrontage</th>\n",
       "      <th>LotArea</th>\n",
       "      <th>Street</th>\n",
       "      <th>Alley</th>\n",
       "      <th>LotShape</th>\n",
       "      <th>LandContour</th>\n",
       "      <th>Utilities</th>\n",
       "      <th>...</th>\n",
       "      <th>PoolArea</th>\n",
       "      <th>PoolQC</th>\n",
       "      <th>Fence</th>\n",
       "      <th>MiscFeature</th>\n",
       "      <th>MiscVal</th>\n",
       "      <th>MoSold</th>\n",
       "      <th>YrSold</th>\n",
       "      <th>SaleType</th>\n",
       "      <th>SaleCondition</th>\n",
       "      <th>SalePrice</th>\n",
       "    </tr>\n",
       "  </thead>\n",
       "  <tbody>\n",
       "    <tr>\n",
       "      <th>0</th>\n",
       "      <td>1</td>\n",
       "      <td>60</td>\n",
       "      <td>RL</td>\n",
       "      <td>65.0</td>\n",
       "      <td>8450</td>\n",
       "      <td>Pave</td>\n",
       "      <td>NaN</td>\n",
       "      <td>Reg</td>\n",
       "      <td>Lvl</td>\n",
       "      <td>AllPub</td>\n",
       "      <td>...</td>\n",
       "      <td>0</td>\n",
       "      <td>NaN</td>\n",
       "      <td>NaN</td>\n",
       "      <td>NaN</td>\n",
       "      <td>0</td>\n",
       "      <td>2</td>\n",
       "      <td>2008</td>\n",
       "      <td>WD</td>\n",
       "      <td>Normal</td>\n",
       "      <td>208500</td>\n",
       "    </tr>\n",
       "    <tr>\n",
       "      <th>1</th>\n",
       "      <td>2</td>\n",
       "      <td>20</td>\n",
       "      <td>RL</td>\n",
       "      <td>80.0</td>\n",
       "      <td>9600</td>\n",
       "      <td>Pave</td>\n",
       "      <td>NaN</td>\n",
       "      <td>Reg</td>\n",
       "      <td>Lvl</td>\n",
       "      <td>AllPub</td>\n",
       "      <td>...</td>\n",
       "      <td>0</td>\n",
       "      <td>NaN</td>\n",
       "      <td>NaN</td>\n",
       "      <td>NaN</td>\n",
       "      <td>0</td>\n",
       "      <td>5</td>\n",
       "      <td>2007</td>\n",
       "      <td>WD</td>\n",
       "      <td>Normal</td>\n",
       "      <td>181500</td>\n",
       "    </tr>\n",
       "    <tr>\n",
       "      <th>2</th>\n",
       "      <td>3</td>\n",
       "      <td>60</td>\n",
       "      <td>RL</td>\n",
       "      <td>68.0</td>\n",
       "      <td>11250</td>\n",
       "      <td>Pave</td>\n",
       "      <td>NaN</td>\n",
       "      <td>IR1</td>\n",
       "      <td>Lvl</td>\n",
       "      <td>AllPub</td>\n",
       "      <td>...</td>\n",
       "      <td>0</td>\n",
       "      <td>NaN</td>\n",
       "      <td>NaN</td>\n",
       "      <td>NaN</td>\n",
       "      <td>0</td>\n",
       "      <td>9</td>\n",
       "      <td>2008</td>\n",
       "      <td>WD</td>\n",
       "      <td>Normal</td>\n",
       "      <td>223500</td>\n",
       "    </tr>\n",
       "    <tr>\n",
       "      <th>3</th>\n",
       "      <td>4</td>\n",
       "      <td>70</td>\n",
       "      <td>RL</td>\n",
       "      <td>60.0</td>\n",
       "      <td>9550</td>\n",
       "      <td>Pave</td>\n",
       "      <td>NaN</td>\n",
       "      <td>IR1</td>\n",
       "      <td>Lvl</td>\n",
       "      <td>AllPub</td>\n",
       "      <td>...</td>\n",
       "      <td>0</td>\n",
       "      <td>NaN</td>\n",
       "      <td>NaN</td>\n",
       "      <td>NaN</td>\n",
       "      <td>0</td>\n",
       "      <td>2</td>\n",
       "      <td>2006</td>\n",
       "      <td>WD</td>\n",
       "      <td>Abnorml</td>\n",
       "      <td>140000</td>\n",
       "    </tr>\n",
       "    <tr>\n",
       "      <th>4</th>\n",
       "      <td>5</td>\n",
       "      <td>60</td>\n",
       "      <td>RL</td>\n",
       "      <td>84.0</td>\n",
       "      <td>14260</td>\n",
       "      <td>Pave</td>\n",
       "      <td>NaN</td>\n",
       "      <td>IR1</td>\n",
       "      <td>Lvl</td>\n",
       "      <td>AllPub</td>\n",
       "      <td>...</td>\n",
       "      <td>0</td>\n",
       "      <td>NaN</td>\n",
       "      <td>NaN</td>\n",
       "      <td>NaN</td>\n",
       "      <td>0</td>\n",
       "      <td>12</td>\n",
       "      <td>2008</td>\n",
       "      <td>WD</td>\n",
       "      <td>Normal</td>\n",
       "      <td>250000</td>\n",
       "    </tr>\n",
       "  </tbody>\n",
       "</table>\n",
       "<p>5 rows × 81 columns</p>\n",
       "</div>"
      ],
      "text/plain": [
       "   Id  MSSubClass MSZoning  LotFrontage  LotArea Street Alley LotShape  \\\n",
       "0   1          60       RL         65.0     8450   Pave   NaN      Reg   \n",
       "1   2          20       RL         80.0     9600   Pave   NaN      Reg   \n",
       "2   3          60       RL         68.0    11250   Pave   NaN      IR1   \n",
       "3   4          70       RL         60.0     9550   Pave   NaN      IR1   \n",
       "4   5          60       RL         84.0    14260   Pave   NaN      IR1   \n",
       "\n",
       "  LandContour Utilities  ... PoolArea PoolQC Fence MiscFeature MiscVal MoSold  \\\n",
       "0         Lvl    AllPub  ...        0    NaN   NaN         NaN       0      2   \n",
       "1         Lvl    AllPub  ...        0    NaN   NaN         NaN       0      5   \n",
       "2         Lvl    AllPub  ...        0    NaN   NaN         NaN       0      9   \n",
       "3         Lvl    AllPub  ...        0    NaN   NaN         NaN       0      2   \n",
       "4         Lvl    AllPub  ...        0    NaN   NaN         NaN       0     12   \n",
       "\n",
       "  YrSold  SaleType  SaleCondition  SalePrice  \n",
       "0   2008        WD         Normal     208500  \n",
       "1   2007        WD         Normal     181500  \n",
       "2   2008        WD         Normal     223500  \n",
       "3   2006        WD        Abnorml     140000  \n",
       "4   2008        WD         Normal     250000  \n",
       "\n",
       "[5 rows x 81 columns]"
      ]
     },
     "execution_count": 12,
     "metadata": {},
     "output_type": "execute_result"
    }
   ],
   "source": [
    "x1 = pd.read_csv('C:/Users/FRANK/Desktop/Proyectos Linkedin/Python Proyectos/Dia 12 - Dia 13 - Random Forest/train.csv') # # Trabajar con este dataset \n",
    "x2 = pd.read_csv('C:/Users/FRANK/Desktop/Proyectos Linkedin/Python Proyectos/Dia 12 - Dia 13 - Random Forest/test.csv') # Utilizar la data de train.csv para hallar la data de test.csv\n",
    "x1.head()"
   ]
  },
  {
   "cell_type": "code",
   "execution_count": 13,
   "metadata": {},
   "outputs": [
    {
     "name": "stdout",
     "output_type": "stream",
     "text": [
      "Número de observaciones (filas) = 1460\n",
      "Total de variables disponibles (columnas) = 81 \n",
      "Columnas que cuentan con un valor nulo -\n",
      "Id                 0\n",
      "MSSubClass         0\n",
      "MSZoning           0\n",
      "LotFrontage      259\n",
      "LotArea            0\n",
      "                ... \n",
      "MoSold             0\n",
      "YrSold             0\n",
      "SaleType           0\n",
      "SaleCondition      0\n",
      "SalePrice          0\n",
      "Length: 81, dtype: int64\n"
     ]
    }
   ],
   "source": [
    "print('Número de observaciones (filas) = {}'.format(x1.shape[0]))\n",
    "print('Total de variables disponibles (columnas) = {} '.format(x1.columns.shape[0]))\n",
    "print('Columnas que cuentan con un valor nulo -')\n",
    "print(x1.isnull().sum())"
   ]
  },
  {
   "cell_type": "code",
   "execution_count": 14,
   "metadata": {},
   "outputs": [],
   "source": [
    "x1 = x1.drop(columns='Id')"
   ]
  },
  {
   "cell_type": "code",
   "execution_count": 15,
   "metadata": {},
   "outputs": [
    {
     "name": "stdout",
     "output_type": "stream",
     "text": [
      "Número de observaciones (filas) = 1460\n",
      "Total de variables disponibles (columnas) = 80 \n",
      "Columnas que cuentan con valores nulos y la cantidad de nulos en cada columna:\n",
      "LotFrontage      259\n",
      "Alley           1369\n",
      "MasVnrType       872\n",
      "MasVnrArea         8\n",
      "BsmtQual          37\n",
      "BsmtCond          37\n",
      "BsmtExposure      38\n",
      "BsmtFinType1      37\n",
      "BsmtFinType2      38\n",
      "Electrical         1\n",
      "FireplaceQu      690\n",
      "GarageType        81\n",
      "GarageYrBlt       81\n",
      "GarageFinish      81\n",
      "GarageQual        81\n",
      "GarageCond        81\n",
      "PoolQC          1453\n",
      "Fence           1179\n",
      "MiscFeature     1406\n",
      "dtype: int64\n"
     ]
    }
   ],
   "source": [
    "# Identificar y mostrar solo las columnas con valores nulos\n",
    "print('Número de observaciones (filas) = {}'.format(x1.shape[0]))\n",
    "print('Total de variables disponibles (columnas) = {} '.format(x1.columns.shape[0]))\n",
    "null_columns = x1.isnull().sum()\n",
    "columns_with_nulls = null_columns[null_columns > 0]\n",
    "print('Columnas que cuentan con valores nulos y la cantidad de nulos en cada columna:')\n",
    "print(columns_with_nulls)"
   ]
  },
  {
   "cell_type": "code",
   "execution_count": 16,
   "metadata": {},
   "outputs": [
    {
     "name": "stdout",
     "output_type": "stream",
     "text": [
      "LotFrontage     float64\n",
      "Alley            object\n",
      "MasVnrType       object\n",
      "MasVnrArea      float64\n",
      "BsmtQual         object\n",
      "BsmtCond         object\n",
      "BsmtExposure     object\n",
      "BsmtFinType1     object\n",
      "BsmtFinType2     object\n",
      "Electrical       object\n",
      "FireplaceQu      object\n",
      "GarageType       object\n",
      "GarageYrBlt     float64\n",
      "GarageFinish     object\n",
      "GarageQual       object\n",
      "GarageCond       object\n",
      "PoolQC           object\n",
      "Fence            object\n",
      "MiscFeature      object\n",
      "dtype: object\n"
     ]
    }
   ],
   "source": [
    "# Identificar los tipos de columnas con valores nulos\n",
    "null_columns_type = x1[columns_with_nulls.index].dtypes\n",
    "print(null_columns_type)"
   ]
  },
  {
   "cell_type": "code",
   "execution_count": 17,
   "metadata": {},
   "outputs": [
    {
     "data": {
      "text/plain": [
       "Electrical\n",
       "SBrkr    1334\n",
       "FuseA      94\n",
       "FuseF      27\n",
       "FuseP       3\n",
       "Mix         1\n",
       "Name: count, dtype: int64"
      ]
     },
     "execution_count": 17,
     "metadata": {},
     "output_type": "execute_result"
    }
   ],
   "source": [
    "x1['Electrical'].value_counts()"
   ]
  },
  {
   "cell_type": "code",
   "execution_count": 18,
   "metadata": {},
   "outputs": [],
   "source": [
    "x1['Electrical'] = x1['Electrical'].fillna(x1['Electrical'].mode()[0])"
   ]
  },
  {
   "cell_type": "code",
   "execution_count": 19,
   "metadata": {},
   "outputs": [],
   "source": [
    "mapping = {\n",
    "    'BsmtQual': {'TA': 1, 'Gd': 2, 'Ex': 3, 'Fa': 4},\n",
    "    'BsmtCond': {'TA': 1, 'Gd': 2, 'Fa': 3, 'Po': 4},\n",
    "    'BsmtExposure': {'No': 1, 'Av': 2, 'Gd': 3, 'Mn': 4},\n",
    "    'BsmtFinType1': {'Unf': 1, 'GLQ': 2, 'ALQ': 3, 'BLQ': 4, 'Rec': 5, 'LwQ': 6},\n",
    "    'BsmtFinType2': {'Unf': 1, 'Rec': 2, 'LwQ': 3, 'BLQ': 4, 'ALQ': 5, 'GLQ': 6},\n",
    "    'GarageType': {'Attchd': 1, 'Detchd': 2, 'BuiltIn': 3, 'Basment': 4, 'CarPort': 5, '2Types': 6},\n",
    "    'GarageFinish': {'Fin': 1, 'RFn': 2, 'Unf': 3},\n",
    "    'GarageQual': {'Ex': 1, 'Gd': 2, 'TA': 3, 'Fa': 4, 'Po': 5},\n",
    "    'GarageCond': {'Ex': 1, 'Gd': 2, 'TA': 3, 'Fa': 4, 'Po': 5}\n",
    "}\n",
    "\n",
    "# Reemplazar los valores categóricos por sus equivalentes numéricos para las columnas iniciales\n",
    "for col, map_dict in mapping.items():\n",
    "    x1[col] = x1[col].map(map_dict)\n",
    "\n",
    "# Inicializar el imputador KNN\n",
    "imputer = KNNImputer(n_neighbors=5)\n",
    "\n",
    "# Seleccionar las columnas que requieren imputación inicialmente\n",
    "columns_to_impute_initial = ['BsmtQual', 'BsmtCond', 'BsmtExposure', 'BsmtFinType1', 'BsmtFinType2',\n",
    "                             'GarageType', 'GarageYrBlt', 'GarageFinish', 'GarageQual', 'GarageCond']\n",
    "\n",
    "# Aplicar la imputación a las columnas iniciales\n",
    "x1[columns_to_impute_initial] = imputer.fit_transform(x1[columns_to_impute_initial])"
   ]
  },
  {
   "cell_type": "code",
   "execution_count": 20,
   "metadata": {},
   "outputs": [
    {
     "name": "stdout",
     "output_type": "stream",
     "text": [
      "Columnas que cuentan con valores nulos y la cantidad de nulos en cada columna:\n",
      "LotFrontage     259\n",
      "Alley          1369\n",
      "MasVnrType      872\n",
      "MasVnrArea        8\n",
      "FireplaceQu     690\n",
      "PoolQC         1453\n",
      "Fence          1179\n",
      "MiscFeature    1406\n",
      "dtype: int64\n"
     ]
    }
   ],
   "source": [
    "null_columns = x1.isnull().sum()\n",
    "columns_with_nulls = null_columns[null_columns > 0]\n",
    "print('Columnas que cuentan con valores nulos y la cantidad de nulos en cada columna:')\n",
    "print(columns_with_nulls)"
   ]
  },
  {
   "cell_type": "code",
   "execution_count": 21,
   "metadata": {},
   "outputs": [
    {
     "name": "stdout",
     "output_type": "stream",
     "text": [
      "LotFrontage    float64\n",
      "Alley           object\n",
      "MasVnrType      object\n",
      "MasVnrArea     float64\n",
      "FireplaceQu     object\n",
      "PoolQC          object\n",
      "Fence           object\n",
      "MiscFeature     object\n",
      "dtype: object\n"
     ]
    }
   ],
   "source": [
    "# Identificar los tipos de columnas con valores nulos\n",
    "null_columns_type = x1[columns_with_nulls.index].dtypes\n",
    "print(null_columns_type)"
   ]
  },
  {
   "cell_type": "code",
   "execution_count": 22,
   "metadata": {},
   "outputs": [
    {
     "data": {
      "text/html": [
       "<div>\n",
       "<style scoped>\n",
       "    .dataframe tbody tr th:only-of-type {\n",
       "        vertical-align: middle;\n",
       "    }\n",
       "\n",
       "    .dataframe tbody tr th {\n",
       "        vertical-align: top;\n",
       "    }\n",
       "\n",
       "    .dataframe thead th {\n",
       "        text-align: right;\n",
       "    }\n",
       "</style>\n",
       "<table border=\"1\" class=\"dataframe\">\n",
       "  <thead>\n",
       "    <tr style=\"text-align: right;\">\n",
       "      <th></th>\n",
       "      <th>LotFrontage</th>\n",
       "      <th>MasVnrArea</th>\n",
       "    </tr>\n",
       "  </thead>\n",
       "  <tbody>\n",
       "    <tr>\n",
       "      <th>LotFrontage</th>\n",
       "      <td>1.000000</td>\n",
       "      <td>0.193458</td>\n",
       "    </tr>\n",
       "    <tr>\n",
       "      <th>MasVnrArea</th>\n",
       "      <td>0.193458</td>\n",
       "      <td>1.000000</td>\n",
       "    </tr>\n",
       "  </tbody>\n",
       "</table>\n",
       "</div>"
      ],
      "text/plain": [
       "             LotFrontage  MasVnrArea\n",
       "LotFrontage     1.000000    0.193458\n",
       "MasVnrArea      0.193458    1.000000"
      ]
     },
     "execution_count": 22,
     "metadata": {},
     "output_type": "execute_result"
    }
   ],
   "source": [
    "x1[['LotFrontage','MasVnrArea']].corr()"
   ]
  },
  {
   "cell_type": "code",
   "execution_count": 23,
   "metadata": {},
   "outputs": [
    {
     "name": "stdout",
     "output_type": "stream",
     "text": [
      "Después de imputar la columna binaria con KNN:\n",
      "      MSSubClass MSZoning  LotFrontage  LotArea Street Alley LotShape  \\\n",
      "0             60       RL         65.0     8450   Pave   NaN      Reg   \n",
      "1             20       RL         80.0     9600   Pave   NaN      Reg   \n",
      "2             60       RL         68.0    11250   Pave   NaN      IR1   \n",
      "3             70       RL         60.0     9550   Pave   NaN      IR1   \n",
      "4             60       RL         84.0    14260   Pave   NaN      IR1   \n",
      "...          ...      ...          ...      ...    ...   ...      ...   \n",
      "1455          60       RL         62.0     7917   Pave   NaN      Reg   \n",
      "1456          20       RL         85.0    13175   Pave   NaN      Reg   \n",
      "1457          70       RL         66.0     9042   Pave   NaN      Reg   \n",
      "1458          20       RL         68.0     9717   Pave   NaN      Reg   \n",
      "1459          20       RL         75.0     9937   Pave   NaN      Reg   \n",
      "\n",
      "     LandContour Utilities LotConfig  ... PoolArea PoolQC  Fence MiscFeature  \\\n",
      "0            Lvl    AllPub    Inside  ...        0    NaN    NaN         NaN   \n",
      "1            Lvl    AllPub       FR2  ...        0    NaN    NaN         NaN   \n",
      "2            Lvl    AllPub    Inside  ...        0    NaN    NaN         NaN   \n",
      "3            Lvl    AllPub    Corner  ...        0    NaN    NaN         NaN   \n",
      "4            Lvl    AllPub       FR2  ...        0    NaN    NaN         NaN   \n",
      "...          ...       ...       ...  ...      ...    ...    ...         ...   \n",
      "1455         Lvl    AllPub    Inside  ...        0    NaN    NaN         NaN   \n",
      "1456         Lvl    AllPub    Inside  ...        0    NaN  MnPrv         NaN   \n",
      "1457         Lvl    AllPub    Inside  ...        0    NaN  GdPrv        Shed   \n",
      "1458         Lvl    AllPub    Inside  ...        0    NaN    NaN         NaN   \n",
      "1459         Lvl    AllPub    Inside  ...        0    NaN    NaN         NaN   \n",
      "\n",
      "     MiscVal MoSold  YrSold  SaleType  SaleCondition  SalePrice  \n",
      "0          0      2    2008        WD         Normal     208500  \n",
      "1          0      5    2007        WD         Normal     181500  \n",
      "2          0      9    2008        WD         Normal     223500  \n",
      "3          0      2    2006        WD        Abnorml     140000  \n",
      "4          0     12    2008        WD         Normal     250000  \n",
      "...      ...    ...     ...       ...            ...        ...  \n",
      "1455       0      8    2007        WD         Normal     175000  \n",
      "1456       0      2    2010        WD         Normal     210000  \n",
      "1457    2500      5    2010        WD         Normal     266500  \n",
      "1458       0      4    2010        WD         Normal     142125  \n",
      "1459       0      6    2008        WD         Normal     147500  \n",
      "\n",
      "[1460 rows x 80 columns]\n"
     ]
    }
   ],
   "source": [
    "# Imputar valores nulos en características binarias usando KNN\n",
    "knn_imputer = KNNImputer(n_neighbors=2)\n",
    "x1[['LotFrontage','MasVnrArea']] = knn_imputer.fit_transform(x1[['LotFrontage','MasVnrArea']])\n",
    "print(\"Después de imputar la columna binaria con KNN:\")\n",
    "print(x1)"
   ]
  },
  {
   "cell_type": "code",
   "execution_count": 24,
   "metadata": {},
   "outputs": [],
   "source": [
    "# Función para codificar variables categóricas y entrenar modelo Random Forest\n",
    "def impute_with_random_forest_encoded(data, target_column, is_classification=False):\n",
    "    # Separar filas completas y filas con datos faltantes\n",
    "    complete_rows = data.dropna(subset=[target_column])\n",
    "    incomplete_rows = data[data[target_column].isnull()]\n",
    "    \n",
    "    # Si no hay filas incompletas, regresar los datos sin cambios\n",
    "    if incomplete_rows.empty:\n",
    "        return data\n",
    "    \n",
    "    # Separar características y target\n",
    "    X_train = complete_rows.drop(columns=[target_column])\n",
    "    y_train = complete_rows[target_column]\n",
    "    X_predict = incomplete_rows.drop(columns=[target_column])\n",
    "    \n",
    "    # Codificar variables categóricas\n",
    "    encoder = OneHotEncoder(handle_unknown='ignore', sparse_output=False)\n",
    "    X_train_encoded = encoder.fit_transform(X_train.select_dtypes(include='object'))\n",
    "    X_predict_encoded = encoder.transform(X_predict.select_dtypes(include='object'))\n",
    "    \n",
    "    # Concatenar columnas numéricas y codificadas\n",
    "    X_train_encoded = np.hstack((X_train.select_dtypes(exclude='object').values, X_train_encoded))\n",
    "    X_predict_encoded = np.hstack((X_predict.select_dtypes(exclude='object').values, X_predict_encoded))\n",
    "    \n",
    "    # Imputar temporalmente los valores NaN en X_train_encoded y X_predict_encoded\n",
    "    imputer = SimpleImputer(strategy='mean')\n",
    "    X_train_encoded = imputer.fit_transform(X_train_encoded)\n",
    "    X_predict_encoded = imputer.transform(X_predict_encoded)\n",
    "    \n",
    "    # Seleccionar el modelo apropiado\n",
    "    if is_classification:\n",
    "        model = RandomForestClassifier()\n",
    "    else:\n",
    "        model = RandomForestRegressor()\n",
    "    \n",
    "    # Entrenar el modelo\n",
    "    model.fit(X_train_encoded, y_train)\n",
    "    \n",
    "    # Predecir valores faltantes\n",
    "    predicted_values = model.predict(X_predict_encoded)\n",
    "    \n",
    "    # Imputar valores predichos\n",
    "    data.loc[data[target_column].isnull(), target_column] = predicted_values\n",
    "    \n",
    "    return data\n",
    "\n",
    "# Supongamos que tienes un DataFrame llamado x1 y quieres imputar valores nulos\n",
    "columns_with_nulls = x1.columns[x1.isnull().any()].tolist()\n",
    "null_columns_types = x1[columns_with_nulls].dtypes\n",
    "\n",
    "# Imputar valores nulos usando Random Forest\n",
    "for column in columns_with_nulls:\n",
    "    is_classification = null_columns_types[column] == 'object'\n",
    "    x1 = impute_with_random_forest_encoded(x1, column, is_classification)\n",
    "\n",
    "# Verificar si quedan valores nulos\n",
    "remaining_nulls = x1.isnull().sum().sum()"
   ]
  },
  {
   "cell_type": "code",
   "execution_count": 25,
   "metadata": {},
   "outputs": [
    {
     "data": {
      "text/plain": [
       "MSSubClass       0\n",
       "MSZoning         0\n",
       "LotFrontage      0\n",
       "LotArea          0\n",
       "Street           0\n",
       "                ..\n",
       "MoSold           0\n",
       "YrSold           0\n",
       "SaleType         0\n",
       "SaleCondition    0\n",
       "SalePrice        0\n",
       "Length: 80, dtype: int64"
      ]
     },
     "execution_count": 25,
     "metadata": {},
     "output_type": "execute_result"
    }
   ],
   "source": [
    "x1.isnull().sum()"
   ]
  },
  {
   "cell_type": "markdown",
   "metadata": {},
   "source": [
    "# Utilizar esta data para analizar el test (x2)"
   ]
  }
 ],
 "metadata": {
  "kernelspec": {
   "display_name": "Python 3",
   "language": "python",
   "name": "python3"
  },
  "language_info": {
   "codemirror_mode": {
    "name": "ipython",
    "version": 3
   },
   "file_extension": ".py",
   "mimetype": "text/x-python",
   "name": "python",
   "nbconvert_exporter": "python",
   "pygments_lexer": "ipython3",
   "version": "3.12.1"
  }
 },
 "nbformat": 4,
 "nbformat_minor": 2
}
