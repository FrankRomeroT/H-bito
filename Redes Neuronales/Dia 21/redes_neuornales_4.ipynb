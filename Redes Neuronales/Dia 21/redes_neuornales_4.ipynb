{
 "cells": [
  {
   "cell_type": "code",
   "execution_count": 249,
   "metadata": {},
   "outputs": [],
   "source": [
    "import pandas as pd\n",
    "import numpy as np\n",
    "from sklearn.impute import KNNImputer\n",
    "import matplotlib.pyplot as plt\n",
    "import warnings\n",
    "import seaborn as sns\n",
    "from sklearn.preprocessing import OneHotEncoder\n",
    "import joblib\n",
    "import tensorflow as tf"
   ]
  },
  {
   "cell_type": "code",
   "execution_count": 250,
   "metadata": {},
   "outputs": [],
   "source": [
    "# Crear el dataset simulado\n",
    "num_rows = 2007\n",
    "data = {\n",
    "    'PetID': list(range(1, num_rows + 1)),\n",
    "    'PetType': ['Dog'] * num_rows,\n",
    "    'Breed': ['Labrador', 'Poodle', 'Beagle', 'Bulldog', 'Chihuahua', 'German Shepherd'] * (num_rows // 6) + ['Labrador'] * (num_rows % 6),\n",
    "    'AgeMonths': [12, 24, 18, 36, 6, 48] * (num_rows // 6) + [12] * (num_rows % 6),\n",
    "    'Color': ['Black', 'White', 'Brown', 'Grey', 'White', 'Black'] * (num_rows // 6) + ['Black'] * (num_rows % 6),\n",
    "    'Size': ['Large', 'Medium', 'Small', 'Medium', 'Small', 'Large'] * (num_rows // 6) + ['Large'] * (num_rows % 6),\n",
    "    'WeightKg': [30.0, 10.0, 8.0, 20.0, 3.0, 40.0] * (num_rows // 6) + [30.0] * (num_rows % 6),\n",
    "    'Vaccinated': [1, 1, 0, 1, 1, 1] * (num_rows // 6) + [1] * (num_rows % 6),\n",
    "    'HealthCondition': [0, 1, 0, 1, 0, 1] * (num_rows // 6) + [0] * (num_rows % 6),\n",
    "    'TimeInShelterDays': [30, 45, 60, 10, 5, 20] * (num_rows // 6) + [30] * (num_rows % 6),\n",
    "    'AdoptionFee': [150, 200, 100, 250, 50, 300] * (num_rows // 6) + [150] * (num_rows % 6),\n",
    "    'PreviousOwner': [0, 1, 0, 1, 0, 1] * (num_rows // 6) + [0] * (num_rows % 6),\n",
    "    'AdoptionLikelihood': [90, 70, 60, 85, 95, 75] * (num_rows // 6) + [90] * (num_rows % 6)\n",
    "}\n",
    "\n",
    "# Crear DataFrame\n",
    "df = pd.DataFrame(data)"
   ]
  },
  {
   "cell_type": "code",
   "execution_count": 251,
   "metadata": {},
   "outputs": [
    {
     "name": "stdout",
     "output_type": "stream",
     "text": [
      "<class 'pandas.core.frame.DataFrame'>\n",
      "RangeIndex: 2007 entries, 0 to 2006\n",
      "Data columns (total 13 columns):\n",
      " #   Column              Non-Null Count  Dtype  \n",
      "---  ------              --------------  -----  \n",
      " 0   PetID               2007 non-null   int64  \n",
      " 1   PetType             2007 non-null   object \n",
      " 2   Breed               2007 non-null   object \n",
      " 3   AgeMonths           2007 non-null   int64  \n",
      " 4   Color               2007 non-null   object \n",
      " 5   Size                2007 non-null   object \n",
      " 6   WeightKg            2007 non-null   float64\n",
      " 7   Vaccinated          2007 non-null   int64  \n",
      " 8   HealthCondition     2007 non-null   int64  \n",
      " 9   TimeInShelterDays   2007 non-null   int64  \n",
      " 10  AdoptionFee         2007 non-null   int64  \n",
      " 11  PreviousOwner       2007 non-null   int64  \n",
      " 12  AdoptionLikelihood  2007 non-null   int64  \n",
      "dtypes: float64(1), int64(8), object(4)\n",
      "memory usage: 204.0+ KB\n"
     ]
    }
   ],
   "source": [
    "df.info()"
   ]
  },
  {
   "cell_type": "code",
   "execution_count": 252,
   "metadata": {},
   "outputs": [
    {
     "data": {
      "text/html": [
       "<div>\n",
       "<style scoped>\n",
       "    .dataframe tbody tr th:only-of-type {\n",
       "        vertical-align: middle;\n",
       "    }\n",
       "\n",
       "    .dataframe tbody tr th {\n",
       "        vertical-align: top;\n",
       "    }\n",
       "\n",
       "    .dataframe thead th {\n",
       "        text-align: right;\n",
       "    }\n",
       "</style>\n",
       "<table border=\"1\" class=\"dataframe\">\n",
       "  <thead>\n",
       "    <tr style=\"text-align: right;\">\n",
       "      <th></th>\n",
       "      <th>PetID</th>\n",
       "      <th>PetType</th>\n",
       "      <th>Breed</th>\n",
       "      <th>AgeMonths</th>\n",
       "      <th>Color</th>\n",
       "      <th>Size</th>\n",
       "      <th>WeightKg</th>\n",
       "      <th>Vaccinated</th>\n",
       "      <th>HealthCondition</th>\n",
       "      <th>TimeInShelterDays</th>\n",
       "      <th>AdoptionFee</th>\n",
       "      <th>PreviousOwner</th>\n",
       "      <th>AdoptionLikelihood</th>\n",
       "    </tr>\n",
       "  </thead>\n",
       "  <tbody>\n",
       "    <tr>\n",
       "      <th>0</th>\n",
       "      <td>1</td>\n",
       "      <td>Dog</td>\n",
       "      <td>Labrador</td>\n",
       "      <td>12</td>\n",
       "      <td>Black</td>\n",
       "      <td>Large</td>\n",
       "      <td>30.0</td>\n",
       "      <td>1</td>\n",
       "      <td>0</td>\n",
       "      <td>30</td>\n",
       "      <td>150</td>\n",
       "      <td>0</td>\n",
       "      <td>90</td>\n",
       "    </tr>\n",
       "    <tr>\n",
       "      <th>1</th>\n",
       "      <td>2</td>\n",
       "      <td>Dog</td>\n",
       "      <td>Poodle</td>\n",
       "      <td>24</td>\n",
       "      <td>White</td>\n",
       "      <td>Medium</td>\n",
       "      <td>10.0</td>\n",
       "      <td>1</td>\n",
       "      <td>1</td>\n",
       "      <td>45</td>\n",
       "      <td>200</td>\n",
       "      <td>1</td>\n",
       "      <td>70</td>\n",
       "    </tr>\n",
       "    <tr>\n",
       "      <th>2</th>\n",
       "      <td>3</td>\n",
       "      <td>Dog</td>\n",
       "      <td>Beagle</td>\n",
       "      <td>18</td>\n",
       "      <td>Brown</td>\n",
       "      <td>Small</td>\n",
       "      <td>8.0</td>\n",
       "      <td>0</td>\n",
       "      <td>0</td>\n",
       "      <td>60</td>\n",
       "      <td>100</td>\n",
       "      <td>0</td>\n",
       "      <td>60</td>\n",
       "    </tr>\n",
       "    <tr>\n",
       "      <th>3</th>\n",
       "      <td>4</td>\n",
       "      <td>Dog</td>\n",
       "      <td>Bulldog</td>\n",
       "      <td>36</td>\n",
       "      <td>Grey</td>\n",
       "      <td>Medium</td>\n",
       "      <td>20.0</td>\n",
       "      <td>1</td>\n",
       "      <td>1</td>\n",
       "      <td>10</td>\n",
       "      <td>250</td>\n",
       "      <td>1</td>\n",
       "      <td>85</td>\n",
       "    </tr>\n",
       "    <tr>\n",
       "      <th>4</th>\n",
       "      <td>5</td>\n",
       "      <td>Dog</td>\n",
       "      <td>Chihuahua</td>\n",
       "      <td>6</td>\n",
       "      <td>White</td>\n",
       "      <td>Small</td>\n",
       "      <td>3.0</td>\n",
       "      <td>1</td>\n",
       "      <td>0</td>\n",
       "      <td>5</td>\n",
       "      <td>50</td>\n",
       "      <td>0</td>\n",
       "      <td>95</td>\n",
       "    </tr>\n",
       "  </tbody>\n",
       "</table>\n",
       "</div>"
      ],
      "text/plain": [
       "   PetID PetType      Breed  AgeMonths  Color    Size  WeightKg  Vaccinated  \\\n",
       "0      1     Dog   Labrador         12  Black   Large      30.0           1   \n",
       "1      2     Dog     Poodle         24  White  Medium      10.0           1   \n",
       "2      3     Dog     Beagle         18  Brown   Small       8.0           0   \n",
       "3      4     Dog    Bulldog         36   Grey  Medium      20.0           1   \n",
       "4      5     Dog  Chihuahua          6  White   Small       3.0           1   \n",
       "\n",
       "   HealthCondition  TimeInShelterDays  AdoptionFee  PreviousOwner  \\\n",
       "0                0                 30          150              0   \n",
       "1                1                 45          200              1   \n",
       "2                0                 60          100              0   \n",
       "3                1                 10          250              1   \n",
       "4                0                  5           50              0   \n",
       "\n",
       "   AdoptionLikelihood  \n",
       "0                  90  \n",
       "1                  70  \n",
       "2                  60  \n",
       "3                  85  \n",
       "4                  95  "
      ]
     },
     "execution_count": 252,
     "metadata": {},
     "output_type": "execute_result"
    }
   ],
   "source": [
    "df.head()"
   ]
  },
  {
   "cell_type": "code",
   "execution_count": 253,
   "metadata": {},
   "outputs": [],
   "source": [
    "X = df.drop(columns=['AdoptionLikelihood'])\n",
    "y = df['AdoptionLikelihood']"
   ]
  },
  {
   "cell_type": "code",
   "execution_count": 254,
   "metadata": {},
   "outputs": [],
   "source": [
    "# Definir características numéricas y categóricas\n",
    "numeric_features = ['AgeMonths', 'WeightKg', 'TimeInShelterDays', 'AdoptionFee']\n",
    "categorical_features = ['PetType', 'Breed', 'Color', 'Size']"
   ]
  },
  {
   "cell_type": "code",
   "execution_count": 255,
   "metadata": {},
   "outputs": [],
   "source": [
    "from sklearn.preprocessing import StandardScaler\n",
    "\n",
    "scaler = StandardScaler()\n",
    "X[numeric_features] = scaler.fit_transform(X[numeric_features])"
   ]
  },
  {
   "cell_type": "code",
   "execution_count": 256,
   "metadata": {},
   "outputs": [],
   "source": [
    "# One-Hot Encoding para características categóricas\n",
    "enc = OneHotEncoder(handle_unknown='ignore', sparse_output=False)\n",
    "encoded_cats = enc.fit_transform(X[categorical_features])"
   ]
  },
  {
   "cell_type": "code",
   "execution_count": 257,
   "metadata": {},
   "outputs": [],
   "source": [
    "# Crear DataFrame para las características codificadas\n",
    "encoded_cats_df = pd.DataFrame(encoded_cats, columns=enc.get_feature_names_out(categorical_features))"
   ]
  },
  {
   "cell_type": "code",
   "execution_count": 258,
   "metadata": {},
   "outputs": [],
   "source": [
    "X = pd.concat([X[numeric_features],X[['Vaccinated', 'HealthCondition', 'PreviousOwner']],encoded_cats_df],axis=True)"
   ]
  },
  {
   "cell_type": "code",
   "execution_count": 259,
   "metadata": {},
   "outputs": [],
   "source": [
    "from sklearn.model_selection import train_test_split\n",
    "X_train, X_test, y_train, y_test = train_test_split(X, y, test_size=0.2, random_state=42)"
   ]
  },
  {
   "cell_type": "markdown",
   "metadata": {},
   "source": [
    "# Modelo"
   ]
  },
  {
   "cell_type": "code",
   "execution_count": 260,
   "metadata": {},
   "outputs": [
    {
     "name": "stderr",
     "output_type": "stream",
     "text": [
      "c:\\Users\\FRANK\\AppData\\Local\\Programs\\Python\\Python312\\Lib\\site-packages\\keras\\src\\layers\\core\\dense.py:87: UserWarning: Do not pass an `input_shape`/`input_dim` argument to a layer. When using Sequential models, prefer using an `Input(shape)` object as the first layer in the model instead.\n",
      "  super().__init__(activity_regularizer=activity_regularizer, **kwargs)\n"
     ]
    }
   ],
   "source": [
    "oculta = tf.keras.layers.Dense(units=64,input_shape=[21])\n",
    "oculta1 = tf.keras.layers.Dense(units=64)\n",
    "salida = tf.keras.layers.Dense(units=1)\n",
    "modelo = tf.keras.Sequential([oculta,oculta1,salida])"
   ]
  },
  {
   "cell_type": "code",
   "execution_count": 261,
   "metadata": {},
   "outputs": [],
   "source": [
    "modelo.compile(optimizer=tf.keras.optimizers.Adam(0.01),loss='mean_squared_error')"
   ]
  },
  {
   "cell_type": "code",
   "execution_count": 262,
   "metadata": {},
   "outputs": [
    {
     "name": "stdout",
     "output_type": "stream",
     "text": [
      "Comenzando entrenamiento\n",
      "Modelo entrenado\n"
     ]
    }
   ],
   "source": [
    "print('Comenzando entrenamiento')\n",
    "historial = modelo.fit(X_train,y_train,epochs=1000,verbose=False)\n",
    "print('Modelo entrenado')"
   ]
  },
  {
   "cell_type": "code",
   "execution_count": 263,
   "metadata": {},
   "outputs": [
    {
     "data": {
      "text/plain": [
       "[<matplotlib.lines.Line2D at 0x1e7f6980560>]"
      ]
     },
     "execution_count": 263,
     "metadata": {},
     "output_type": "execute_result"
    },
    {
     "data": {
      "image/png": "[encoded data removed]",
      "text/plain": [
       "<Figure size 640x480 with 1 Axes>"
      ]
     },
     "metadata": {},
     "output_type": "display_data"
    }
   ],
   "source": [
    "plt.xlabel('# Epocas')\n",
    "plt.ylabel('Magnitud de perdida')\n",
    "plt.plot(historial.history['loss'])"
   ]
  },
  {
   "cell_type": "code",
   "execution_count": 286,
   "metadata": {},
   "outputs": [
    {
     "name": "stdout",
     "output_type": "stream",
     "text": [
      "Vamos a hacer una predicción\n",
      "\u001b[1m1/1\u001b[0m \u001b[32m━━━━━━━━━━━━━━━━━━━━\u001b[0m\u001b[37m\u001b[0m \u001b[1m0s\u001b[0m 23ms/step\n",
      "El resultado es: 35.29731369018555 días\n"
     ]
    },
    {
     "name": "stderr",
     "output_type": "stream",
     "text": [
      "c:\\Users\\FRANK\\AppData\\Local\\Programs\\Python\\Python312\\Lib\\site-packages\\sklearn\\base.py:493: UserWarning: X does not have valid feature names, but StandardScaler was fitted with feature names\n",
      "  warnings.warn(\n"
     ]
    }
   ],
   "source": [
    "# Realizar la predicción\n",
    "print('Vamos a hacer una predicción')\n",
    "nuevo_dato = np.array([[34, 5, 20, 100, 1, 0, 0, 0, 0, 0, 0, 0, 0, 0, 0, 0, 0, 1, 0, 0, 1]]) # Total de input_shape=[21])\n",
    "nuevo_dato[:, :4] = scaler.transform(nuevo_dato[:, :4])  # Escalar solo las características numéricas\n",
    "resultado = modelo.predict(nuevo_dato)\n",
    "\n",
    "print(f'El resultado es: {resultado[0][0]} días')"
   ]
  },
  {
   "cell_type": "markdown",
   "metadata": {},
   "source": [
    "12: AgeMonths (12 meses)\n",
    "30: WeightKg (30 kg)\n",
    "30: TimeInShelterDays (30 días en el refugio)\n",
    "150: AdoptionFee ($150 de tarifa de adopción)\n",
    "1: Vaccinated (sí)\n",
    "0: HealthCondition (saludable)\n",
    "0: PreviousOwner (no)\n",
    "1: PetType_Dog (es un perro)\n",
    "0: Breed_Labrador (no es un Labrador)\n",
    "0: Breed_Poodle (no es un Poodle)\n",
    "0: Breed_Beagle (no es un Beagle)\n",
    "0: Breed_Bulldog (no es un Bulldog)\n",
    "0: Breed_Chihuahua (no es un Chihuahua)\n",
    "0: Breed_German Shepherd (no es un Pastor Alemán)\n",
    "0: Color_Black (no es negro)\n",
    "0: Color_White (no es blanco)\n",
    "0: Color_Brown (no es marrón)\n",
    "1: Color_Grey (es gris)\n",
    "0: Size_Large (no es grande)\n",
    "0: Size_Medium (no es mediano)\n",
    "1: Size_Small (es pequeño)"
   ]
  },
  {
   "cell_type": "code",
   "execution_count": 277,
   "metadata": {},
   "outputs": [
    {
     "data": {
      "text/html": [
       "<div>\n",
       "<style scoped>\n",
       "    .dataframe tbody tr th:only-of-type {\n",
       "        vertical-align: middle;\n",
       "    }\n",
       "\n",
       "    .dataframe tbody tr th {\n",
       "        vertical-align: top;\n",
       "    }\n",
       "\n",
       "    .dataframe thead th {\n",
       "        text-align: right;\n",
       "    }\n",
       "</style>\n",
       "<table border=\"1\" class=\"dataframe\">\n",
       "  <thead>\n",
       "    <tr style=\"text-align: right;\">\n",
       "      <th></th>\n",
       "      <th>PetID</th>\n",
       "      <th>PetType</th>\n",
       "      <th>Breed</th>\n",
       "      <th>AgeMonths</th>\n",
       "      <th>Color</th>\n",
       "      <th>Size</th>\n",
       "      <th>WeightKg</th>\n",
       "      <th>Vaccinated</th>\n",
       "      <th>HealthCondition</th>\n",
       "      <th>TimeInShelterDays</th>\n",
       "      <th>AdoptionFee</th>\n",
       "      <th>PreviousOwner</th>\n",
       "      <th>AdoptionLikelihood</th>\n",
       "    </tr>\n",
       "  </thead>\n",
       "  <tbody>\n",
       "    <tr>\n",
       "      <th>0</th>\n",
       "      <td>1</td>\n",
       "      <td>Dog</td>\n",
       "      <td>Labrador</td>\n",
       "      <td>12</td>\n",
       "      <td>Black</td>\n",
       "      <td>Large</td>\n",
       "      <td>30.0</td>\n",
       "      <td>1</td>\n",
       "      <td>0</td>\n",
       "      <td>30</td>\n",
       "      <td>150</td>\n",
       "      <td>0</td>\n",
       "      <td>90</td>\n",
       "    </tr>\n",
       "    <tr>\n",
       "      <th>1</th>\n",
       "      <td>2</td>\n",
       "      <td>Dog</td>\n",
       "      <td>Poodle</td>\n",
       "      <td>24</td>\n",
       "      <td>White</td>\n",
       "      <td>Medium</td>\n",
       "      <td>10.0</td>\n",
       "      <td>1</td>\n",
       "      <td>1</td>\n",
       "      <td>45</td>\n",
       "      <td>200</td>\n",
       "      <td>1</td>\n",
       "      <td>70</td>\n",
       "    </tr>\n",
       "    <tr>\n",
       "      <th>2</th>\n",
       "      <td>3</td>\n",
       "      <td>Dog</td>\n",
       "      <td>Beagle</td>\n",
       "      <td>18</td>\n",
       "      <td>Brown</td>\n",
       "      <td>Small</td>\n",
       "      <td>8.0</td>\n",
       "      <td>0</td>\n",
       "      <td>0</td>\n",
       "      <td>60</td>\n",
       "      <td>100</td>\n",
       "      <td>0</td>\n",
       "      <td>60</td>\n",
       "    </tr>\n",
       "    <tr>\n",
       "      <th>3</th>\n",
       "      <td>4</td>\n",
       "      <td>Dog</td>\n",
       "      <td>Bulldog</td>\n",
       "      <td>36</td>\n",
       "      <td>Grey</td>\n",
       "      <td>Medium</td>\n",
       "      <td>20.0</td>\n",
       "      <td>1</td>\n",
       "      <td>1</td>\n",
       "      <td>10</td>\n",
       "      <td>250</td>\n",
       "      <td>1</td>\n",
       "      <td>85</td>\n",
       "    </tr>\n",
       "    <tr>\n",
       "      <th>4</th>\n",
       "      <td>5</td>\n",
       "      <td>Dog</td>\n",
       "      <td>Chihuahua</td>\n",
       "      <td>6</td>\n",
       "      <td>White</td>\n",
       "      <td>Small</td>\n",
       "      <td>3.0</td>\n",
       "      <td>1</td>\n",
       "      <td>0</td>\n",
       "      <td>5</td>\n",
       "      <td>50</td>\n",
       "      <td>0</td>\n",
       "      <td>95</td>\n",
       "    </tr>\n",
       "  </tbody>\n",
       "</table>\n",
       "</div>"
      ],
      "text/plain": [
       "   PetID PetType      Breed  AgeMonths  Color    Size  WeightKg  Vaccinated  \\\n",
       "0      1     Dog   Labrador         12  Black   Large      30.0           1   \n",
       "1      2     Dog     Poodle         24  White  Medium      10.0           1   \n",
       "2      3     Dog     Beagle         18  Brown   Small       8.0           0   \n",
       "3      4     Dog    Bulldog         36   Grey  Medium      20.0           1   \n",
       "4      5     Dog  Chihuahua          6  White   Small       3.0           1   \n",
       "\n",
       "   HealthCondition  TimeInShelterDays  AdoptionFee  PreviousOwner  \\\n",
       "0                0                 30          150              0   \n",
       "1                1                 45          200              1   \n",
       "2                0                 60          100              0   \n",
       "3                1                 10          250              1   \n",
       "4                0                  5           50              0   \n",
       "\n",
       "   AdoptionLikelihood  \n",
       "0                  90  \n",
       "1                  70  \n",
       "2                  60  \n",
       "3                  85  \n",
       "4                  95  "
      ]
     },
     "execution_count": 277,
     "metadata": {},
     "output_type": "execute_result"
    }
   ],
   "source": [
    "df.head()"
   ]
  }
 ],
 "metadata": {
  "kernelspec": {
   "display_name": "Python 3",
   "language": "python",
   "name": "python3"
  },
  "language_info": {
   "codemirror_mode": {
    "name": "ipython",
    "version": 3
   },
   "file_extension": ".py",
   "mimetype": "text/x-python",
   "name": "python",
   "nbconvert_exporter": "python",
   "pygments_lexer": "ipython3",
   "version": "3.12.1"
  }
 },
 "nbformat": 4,
 "nbformat_minor": 2
}
