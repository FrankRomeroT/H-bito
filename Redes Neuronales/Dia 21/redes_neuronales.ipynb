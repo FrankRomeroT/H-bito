{
 "cells": [
  {
   "cell_type": "code",
   "execution_count": 24,
   "metadata": {},
   "outputs": [],
   "source": [
    "import pandas as pd\n",
    "import numpy as np\n",
    "from sklearn.impute import KNNImputer\n",
    "import matplotlib.pyplot as plt\n",
    "import warnings\n",
    "import seaborn as sns\n",
    "from sklearn.preprocessing import OneHotEncoder\n",
    "import joblib\n",
    "import tensorflow as tf"
   ]
  },
  {
   "cell_type": "code",
   "execution_count": 25,
   "metadata": {},
   "outputs": [],
   "source": [
    "# Crear un rango de distancias en millas y su conversión a kilómetros\n",
    "miles = np.array([1, 5, 10, 20, 50, 100, 200, 300, 400, 500], dtype=float)\n",
    "kilometers = miles * 1.60934\n",
    "\n",
    "# Crear el DataFrame\n",
    "distance_data = pd.DataFrame({\n",
    "    'Miles': miles,\n",
    "    'Kilometers': kilometers\n",
    "})"
   ]
  },
  {
   "cell_type": "code",
   "execution_count": 26,
   "metadata": {},
   "outputs": [
    {
     "name": "stderr",
     "output_type": "stream",
     "text": [
      "c:\\Users\\FRANK\\AppData\\Local\\Programs\\Python\\Python312\\Lib\\site-packages\\keras\\src\\layers\\core\\dense.py:87: UserWarning: Do not pass an `input_shape`/`input_dim` argument to a layer. When using Sequential models, prefer using an `Input(shape)` object as the first layer in the model instead.\n",
      "  super().__init__(activity_regularizer=activity_regularizer, **kwargs)\n"
     ]
    }
   ],
   "source": [
    "#capa=tf.keras.layers.Dense(units=1,input_shape=[1])\n",
    "# salida = tf.keras.Sequential([capa])\n",
    "\n",
    "oculta=tf.keras.layers.Dense(units=3,input_shape=[1])\n",
    "oculta1=tf.keras.layers.Dense(units=3)\n",
    "salida=tf.keras.Sequential([capa,oculta1])"
   ]
  },
  {
   "cell_type": "code",
   "execution_count": 27,
   "metadata": {},
   "outputs": [],
   "source": [
    "modelo.compile(optimizer=tf.keras.optimizers.Adam(0.1),loss='mean_squared_error')"
   ]
  },
  {
   "cell_type": "code",
   "execution_count": 28,
   "metadata": {},
   "outputs": [
    {
     "name": "stdout",
     "output_type": "stream",
     "text": [
      "Comenzando entrenamiento\n",
      "Modelo entrenado\n"
     ]
    }
   ],
   "source": [
    "print('Comenzando entrenamiento')\n",
    "historial = modelo.fit(miles,kilometers,epochs=1000,verbose=False)\n",
    "print('Modelo entrenado')"
   ]
  },
  {
   "cell_type": "code",
   "execution_count": 29,
   "metadata": {},
   "outputs": [
    {
     "data": {
      "text/plain": [
       "[<matplotlib.lines.Line2D at 0x13f47e65910>]"
      ]
     },
     "execution_count": 29,
     "metadata": {},
     "output_type": "execute_result"
    },
    {
     "data": {
      "image/png": "[encoded data removed]",
      "text/plain": [
       "<Figure size 640x480 with 1 Axes>"
      ]
     },
     "metadata": {},
     "output_type": "display_data"
    }
   ],
   "source": [
    "plt.xlabel('# epocas')\n",
    "plt.ylabel('Magnitud de perdida')\n",
    "plt.plot(historial.history['loss'])"
   ]
  },
  {
   "cell_type": "code",
   "execution_count": 32,
   "metadata": {},
   "outputs": [
    {
     "name": "stdout",
     "output_type": "stream",
     "text": [
      "Vamos a hacer una predicción\n",
      "\u001b[1m1/1\u001b[0m \u001b[32m━━━━━━━━━━━━━━━━━━━━\u001b[0m\u001b[37m\u001b[0m \u001b[1m0s\u001b[0m 20ms/step\n",
      "El resultado es 16.093405 Kilometros\n"
     ]
    }
   ],
   "source": [
    "print('Vamos a hacer una predicción')\n",
    "resultado = modelo.predict(np.array([[10.0]]))  # corregir esta parte\n",
    "print('El resultado es ' + str(resultado[0][0]) + ' Kilometros')  # corregir esta parte"
   ]
  },
  {
   "cell_type": "code",
   "execution_count": 31,
   "metadata": {},
   "outputs": [
    {
     "name": "stdout",
     "output_type": "stream",
     "text": [
      "Variables internas del modelo\n",
      "[]\n",
      "[array([[ 0.77836657,  0.22807336, -0.70128894],\n",
      "       [ 0.38657045,  0.49043226,  0.5534868 ],\n",
      "       [-0.7678306 ,  0.7905297 ,  0.5313573 ]], dtype=float32), array([0., 0., 0.], dtype=float32)]\n",
      "[array([[-0.79254234,  0.83400166,  0.30331063]], dtype=float32), array([0., 0., 0.], dtype=float32), array([[ 0.77836657,  0.22807336, -0.70128894],\n",
      "       [ 0.38657045,  0.49043226,  0.5534868 ],\n",
      "       [-0.7678306 ,  0.7905297 ,  0.5313573 ]], dtype=float32), array([0., 0., 0.], dtype=float32)]\n"
     ]
    }
   ],
   "source": [
    "print('Variables internas del modelo')\n",
    "print(oculta.get_weights())\n",
    "print(oculta1.get_weights())\n",
    "print(salida.get_weights())"
   ]
  }
 ],
 "metadata": {
  "kernelspec": {
   "display_name": "Python 3",
   "language": "python",
   "name": "python3"
  },
  "language_info": {
   "codemirror_mode": {
    "name": "ipython",
    "version": 3
   },
   "file_extension": ".py",
   "mimetype": "text/x-python",
   "name": "python",
   "nbconvert_exporter": "python",
   "pygments_lexer": "ipython3",
   "version": "3.12.1"
  }
 },
 "nbformat": 4,
 "nbformat_minor": 2
}
