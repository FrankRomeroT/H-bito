{
 "cells": [
  {
   "cell_type": "code",
   "execution_count": 116,
   "metadata": {},
   "outputs": [],
   "source": [
    "import pandas as pd\n",
    "import numpy as np\n",
    "from sklearn.impute import KNNImputer\n",
    "import matplotlib.pyplot as plt\n",
    "import warnings\n",
    "warnings.filterwarnings(\"ignore\")\n",
    "import seaborn as sns\n",
    "from sklearn.preprocessing import OneHotEncoder\n",
    "import joblib"
   ]
  },
  {
   "cell_type": "code",
   "execution_count": 117,
   "metadata": {},
   "outputs": [],
   "source": [
    "# Secuencial\n",
    "from tensorflow.keras.models import Sequential\n",
    "# Capa complemento\n",
    "from tensorflow.keras.layers import Dense, Normalization\n",
    "# Optimizador\n",
    "from tensorflow.keras.optimizers import Adam\n",
    "import tensorflow as tf"
   ]
  },
  {
   "cell_type": "code",
   "execution_count": 118,
   "metadata": {},
   "outputs": [
    {
     "data": {
      "text/html": [
       "<div>\n",
       "<style scoped>\n",
       "    .dataframe tbody tr th:only-of-type {\n",
       "        vertical-align: middle;\n",
       "    }\n",
       "\n",
       "    .dataframe tbody tr th {\n",
       "        vertical-align: top;\n",
       "    }\n",
       "\n",
       "    .dataframe thead th {\n",
       "        text-align: right;\n",
       "    }\n",
       "</style>\n",
       "<table border=\"1\" class=\"dataframe\">\n",
       "  <thead>\n",
       "    <tr style=\"text-align: right;\">\n",
       "      <th></th>\n",
       "      <th>house_size</th>\n",
       "      <th>num_rooms</th>\n",
       "      <th>age</th>\n",
       "      <th>distance_to_city_center</th>\n",
       "      <th>population_density</th>\n",
       "      <th>price</th>\n",
       "    </tr>\n",
       "  </thead>\n",
       "  <tbody>\n",
       "    <tr>\n",
       "      <th>490</th>\n",
       "      <td>1497.608208</td>\n",
       "      <td>3</td>\n",
       "      <td>32</td>\n",
       "      <td>11.694326</td>\n",
       "      <td>3426.495819</td>\n",
       "      <td>317509.579918</td>\n",
       "    </tr>\n",
       "    <tr>\n",
       "      <th>491</th>\n",
       "      <td>1943.983242</td>\n",
       "      <td>3</td>\n",
       "      <td>76</td>\n",
       "      <td>14.084359</td>\n",
       "      <td>2660.954697</td>\n",
       "      <td>399471.568852</td>\n",
       "    </tr>\n",
       "    <tr>\n",
       "      <th>492</th>\n",
       "      <td>1523.210492</td>\n",
       "      <td>6</td>\n",
       "      <td>25</td>\n",
       "      <td>15.499525</td>\n",
       "      <td>1407.398916</td>\n",
       "      <td>325208.453486</td>\n",
       "    </tr>\n",
       "    <tr>\n",
       "      <th>493</th>\n",
       "      <td>1241.614740</td>\n",
       "      <td>2</td>\n",
       "      <td>21</td>\n",
       "      <td>5.709472</td>\n",
       "      <td>2242.450289</td>\n",
       "      <td>238254.247217</td>\n",
       "    </tr>\n",
       "    <tr>\n",
       "      <th>494</th>\n",
       "      <td>1956.937223</td>\n",
       "      <td>2</td>\n",
       "      <td>65</td>\n",
       "      <td>12.165603</td>\n",
       "      <td>2530.726595</td>\n",
       "      <td>394171.134410</td>\n",
       "    </tr>\n",
       "    <tr>\n",
       "      <th>495</th>\n",
       "      <td>1661.673013</td>\n",
       "      <td>2</td>\n",
       "      <td>37</td>\n",
       "      <td>15.935221</td>\n",
       "      <td>2302.266217</td>\n",
       "      <td>338084.830289</td>\n",
       "    </tr>\n",
       "    <tr>\n",
       "      <th>496</th>\n",
       "      <td>1188.826154</td>\n",
       "      <td>2</td>\n",
       "      <td>89</td>\n",
       "      <td>5.064591</td>\n",
       "      <td>3059.552968</td>\n",
       "      <td>239792.669429</td>\n",
       "    </tr>\n",
       "    <tr>\n",
       "      <th>497</th>\n",
       "      <td>1442.898397</td>\n",
       "      <td>2</td>\n",
       "      <td>45</td>\n",
       "      <td>17.433736</td>\n",
       "      <td>2658.112264</td>\n",
       "      <td>275804.038495</td>\n",
       "    </tr>\n",
       "    <tr>\n",
       "      <th>498</th>\n",
       "      <td>1237.314524</td>\n",
       "      <td>6</td>\n",
       "      <td>14</td>\n",
       "      <td>18.194704</td>\n",
       "      <td>3172.121372</td>\n",
       "      <td>292896.076374</td>\n",
       "    </tr>\n",
       "    <tr>\n",
       "      <th>499</th>\n",
       "      <td>1085.160081</td>\n",
       "      <td>4</td>\n",
       "      <td>97</td>\n",
       "      <td>23.125432</td>\n",
       "      <td>4202.627301</td>\n",
       "      <td>222411.025955</td>\n",
       "    </tr>\n",
       "  </tbody>\n",
       "</table>\n",
       "</div>"
      ],
      "text/plain": [
       "      house_size  num_rooms  age  distance_to_city_center  population_density  \\\n",
       "490  1497.608208          3   32                11.694326         3426.495819   \n",
       "491  1943.983242          3   76                14.084359         2660.954697   \n",
       "492  1523.210492          6   25                15.499525         1407.398916   \n",
       "493  1241.614740          2   21                 5.709472         2242.450289   \n",
       "494  1956.937223          2   65                12.165603         2530.726595   \n",
       "495  1661.673013          2   37                15.935221         2302.266217   \n",
       "496  1188.826154          2   89                 5.064591         3059.552968   \n",
       "497  1442.898397          2   45                17.433736         2658.112264   \n",
       "498  1237.314524          6   14                18.194704         3172.121372   \n",
       "499  1085.160081          4   97                23.125432         4202.627301   \n",
       "\n",
       "             price  \n",
       "490  317509.579918  \n",
       "491  399471.568852  \n",
       "492  325208.453486  \n",
       "493  238254.247217  \n",
       "494  394171.134410  \n",
       "495  338084.830289  \n",
       "496  239792.669429  \n",
       "497  275804.038495  \n",
       "498  292896.076374  \n",
       "499  222411.025955  "
      ]
     },
     "execution_count": 118,
     "metadata": {},
     "output_type": "execute_result"
    }
   ],
   "source": [
    "# Configuración de la semilla para reproducibilidad\n",
    "np.random.seed(42)\n",
    "\n",
    "# Número de muestras\n",
    "n_samples = 500\n",
    "\n",
    "# Generación de características sintéticas\n",
    "# Por ejemplo, tamaño de la casa (en pies cuadrados), número de habitaciones, etc.\n",
    "house_size = np.random.normal(1500, 300, n_samples)\n",
    "num_rooms = np.random.randint(2, 8, n_samples)\n",
    "age = np.random.randint(0, 100, n_samples)\n",
    "distance_to_city_center = np.random.normal(10, 5, n_samples)\n",
    "population_density = np.random.normal(3000, 1000, n_samples)\n",
    "\n",
    "# Precio de la vivienda (target) generado sintéticamente\n",
    "# La fórmula es arbitraria y solo para fines de ejemplo\n",
    "price = (house_size * 200) + (num_rooms * 5000) - (age * 100) - (distance_to_city_center * 300) + (population_density * 2) + np.random.normal(0, 10000, n_samples)\n",
    "\n",
    "# Creación del DataFrame\n",
    "data = {\n",
    "    'house_size': house_size,\n",
    "    'num_rooms': num_rooms,\n",
    "    'age': age,\n",
    "    'distance_to_city_center': distance_to_city_center,\n",
    "    'population_density': population_density,\n",
    "    'price': price\n",
    "}\n",
    "\n",
    "df = pd.DataFrame(data)\n",
    "df.tail(10)"
   ]
  },
  {
   "cell_type": "code",
   "execution_count": 119,
   "metadata": {},
   "outputs": [
    {
     "name": "stdout",
     "output_type": "stream",
     "text": [
      "Número de observaciones (filas) = 500\n",
      "Total de variables disponibles (columnas) = 6 \n",
      "Columnas que cuentan con un valor nulo -\n",
      "house_size                 0\n",
      "num_rooms                  0\n",
      "age                        0\n",
      "distance_to_city_center    0\n",
      "population_density         0\n",
      "price                      0\n",
      "dtype: int64\n"
     ]
    }
   ],
   "source": [
    "df2 = df.copy()\n",
    "print('Número de observaciones (filas) = {}'.format(df2.shape[0]))\n",
    "print('Total de variables disponibles (columnas) = {} '.format(df2.columns.shape[0]))\n",
    "print('Columnas que cuentan con un valor nulo -')\n",
    "print(df2.isnull().sum())"
   ]
  },
  {
   "cell_type": "code",
   "execution_count": 120,
   "metadata": {},
   "outputs": [
    {
     "name": "stdout",
     "output_type": "stream",
     "text": [
      "<class 'pandas.core.frame.DataFrame'>\n",
      "RangeIndex: 500 entries, 0 to 499\n",
      "Data columns (total 6 columns):\n",
      " #   Column                   Non-Null Count  Dtype  \n",
      "---  ------                   --------------  -----  \n",
      " 0   house_size               500 non-null    float64\n",
      " 1   num_rooms                500 non-null    int32  \n",
      " 2   age                      500 non-null    int32  \n",
      " 3   distance_to_city_center  500 non-null    float64\n",
      " 4   population_density       500 non-null    float64\n",
      " 5   price                    500 non-null    float64\n",
      "dtypes: float64(4), int32(2)\n",
      "memory usage: 19.7 KB\n"
     ]
    }
   ],
   "source": [
    "df2.info()"
   ]
  },
  {
   "cell_type": "code",
   "execution_count": 121,
   "metadata": {},
   "outputs": [
    {
     "data": {
      "image/png": "[encoded data removed]",
      "text/plain": [
       "<Figure size 1000x800 with 6 Axes>"
      ]
     },
     "metadata": {},
     "output_type": "display_data"
    }
   ],
   "source": [
    "# Crear histogramas mejorados\n",
    "\n",
    "fig, axes = plt.subplots(nrows=2, ncols=3, figsize=(10, 8))\n",
    "df2.hist(ax=axes, bins=20, color='skyblue', edgecolor='black', alpha=0.7)\n",
    "\n",
    "# Columnas\n",
    "axes[0,0].set_title('house_size')\n",
    "axes[0,1].set_title('num_rooms')\n",
    "axes[0,2].set_title('age')\n",
    "axes[1,0].set_title('distance_to_city_center')\n",
    "axes[1,1].set_title('population_density')\n",
    "axes[1,2].set_title('price')\n",
    "\n",
    "# Titutlos\n",
    "plt.tight_layout()\n",
    "plt.show()\n"
   ]
  },
  {
   "cell_type": "code",
   "execution_count": 122,
   "metadata": {},
   "outputs": [],
   "source": [
    "# Definir características numéricas y categóricas\n",
    "numeric_features = ['house_size','num_rooms','age','distance_to_city_center','population_density','price']"
   ]
  },
  {
   "cell_type": "code",
   "execution_count": 123,
   "metadata": {},
   "outputs": [],
   "source": [
    "from sklearn.preprocessing import StandardScaler\n",
    "\n",
    "scaler = StandardScaler()\n",
    "df2[numeric_features] = scaler.fit_transform(df2[numeric_features])"
   ]
  },
  {
   "cell_type": "code",
   "execution_count": 124,
   "metadata": {},
   "outputs": [
    {
     "data": {
      "text/html": [
       "<div>\n",
       "<style scoped>\n",
       "    .dataframe tbody tr th:only-of-type {\n",
       "        vertical-align: middle;\n",
       "    }\n",
       "\n",
       "    .dataframe tbody tr th {\n",
       "        vertical-align: top;\n",
       "    }\n",
       "\n",
       "    .dataframe thead th {\n",
       "        text-align: right;\n",
       "    }\n",
       "</style>\n",
       "<table border=\"1\" class=\"dataframe\">\n",
       "  <thead>\n",
       "    <tr style=\"text-align: right;\">\n",
       "      <th></th>\n",
       "      <th>house_size</th>\n",
       "      <th>num_rooms</th>\n",
       "      <th>age</th>\n",
       "      <th>distance_to_city_center</th>\n",
       "      <th>population_density</th>\n",
       "      <th>price</th>\n",
       "    </tr>\n",
       "  </thead>\n",
       "  <tbody>\n",
       "    <tr>\n",
       "      <th>490</th>\n",
       "      <td>-0.015109</td>\n",
       "      <td>-0.879687</td>\n",
       "      <td>-0.619484</td>\n",
       "      <td>0.318665</td>\n",
       "      <td>0.369862</td>\n",
       "      <td>-0.070612</td>\n",
       "    </tr>\n",
       "    <tr>\n",
       "      <th>491</th>\n",
       "      <td>1.502753</td>\n",
       "      <td>-0.879687</td>\n",
       "      <td>0.879652</td>\n",
       "      <td>0.765792</td>\n",
       "      <td>-0.374829</td>\n",
       "      <td>1.269053</td>\n",
       "    </tr>\n",
       "    <tr>\n",
       "      <th>492</th>\n",
       "      <td>0.071950</td>\n",
       "      <td>0.840692</td>\n",
       "      <td>-0.857983</td>\n",
       "      <td>1.030541</td>\n",
       "      <td>-1.594243</td>\n",
       "      <td>0.055225</td>\n",
       "    </tr>\n",
       "    <tr>\n",
       "      <th>493</th>\n",
       "      <td>-0.885594</td>\n",
       "      <td>-1.453147</td>\n",
       "      <td>-0.994268</td>\n",
       "      <td>-0.800979</td>\n",
       "      <td>-0.781935</td>\n",
       "      <td>-1.366038</td>\n",
       "    </tr>\n",
       "    <tr>\n",
       "      <th>494</th>\n",
       "      <td>1.546802</td>\n",
       "      <td>-1.453147</td>\n",
       "      <td>0.504868</td>\n",
       "      <td>0.406832</td>\n",
       "      <td>-0.501510</td>\n",
       "      <td>1.182418</td>\n",
       "    </tr>\n",
       "    <tr>\n",
       "      <th>495</th>\n",
       "      <td>0.542780</td>\n",
       "      <td>-1.453147</td>\n",
       "      <td>-0.449127</td>\n",
       "      <td>1.112050</td>\n",
       "      <td>-0.723748</td>\n",
       "      <td>0.265689</td>\n",
       "    </tr>\n",
       "    <tr>\n",
       "      <th>496</th>\n",
       "      <td>-1.065097</td>\n",
       "      <td>-1.453147</td>\n",
       "      <td>1.322578</td>\n",
       "      <td>-0.921623</td>\n",
       "      <td>0.012913</td>\n",
       "      <td>-1.340892</td>\n",
       "    </tr>\n",
       "    <tr>\n",
       "      <th>497</th>\n",
       "      <td>-0.201145</td>\n",
       "      <td>-1.453147</td>\n",
       "      <td>-0.176557</td>\n",
       "      <td>1.392392</td>\n",
       "      <td>-0.377594</td>\n",
       "      <td>-0.752288</td>\n",
       "    </tr>\n",
       "    <tr>\n",
       "      <th>498</th>\n",
       "      <td>-0.900216</td>\n",
       "      <td>0.840692</td>\n",
       "      <td>-1.232767</td>\n",
       "      <td>1.534754</td>\n",
       "      <td>0.122416</td>\n",
       "      <td>-0.472919</td>\n",
       "    </tr>\n",
       "    <tr>\n",
       "      <th>499</th>\n",
       "      <td>-1.417605</td>\n",
       "      <td>-0.306227</td>\n",
       "      <td>1.595149</td>\n",
       "      <td>2.457192</td>\n",
       "      <td>1.124855</td>\n",
       "      <td>-1.624994</td>\n",
       "    </tr>\n",
       "  </tbody>\n",
       "</table>\n",
       "</div>"
      ],
      "text/plain": [
       "     house_size  num_rooms       age  distance_to_city_center  \\\n",
       "490   -0.015109  -0.879687 -0.619484                 0.318665   \n",
       "491    1.502753  -0.879687  0.879652                 0.765792   \n",
       "492    0.071950   0.840692 -0.857983                 1.030541   \n",
       "493   -0.885594  -1.453147 -0.994268                -0.800979   \n",
       "494    1.546802  -1.453147  0.504868                 0.406832   \n",
       "495    0.542780  -1.453147 -0.449127                 1.112050   \n",
       "496   -1.065097  -1.453147  1.322578                -0.921623   \n",
       "497   -0.201145  -1.453147 -0.176557                 1.392392   \n",
       "498   -0.900216   0.840692 -1.232767                 1.534754   \n",
       "499   -1.417605  -0.306227  1.595149                 2.457192   \n",
       "\n",
       "     population_density     price  \n",
       "490            0.369862 -0.070612  \n",
       "491           -0.374829  1.269053  \n",
       "492           -1.594243  0.055225  \n",
       "493           -0.781935 -1.366038  \n",
       "494           -0.501510  1.182418  \n",
       "495           -0.723748  0.265689  \n",
       "496            0.012913 -1.340892  \n",
       "497           -0.377594 -0.752288  \n",
       "498            0.122416 -0.472919  \n",
       "499            1.124855 -1.624994  "
      ]
     },
     "execution_count": 124,
     "metadata": {},
     "output_type": "execute_result"
    }
   ],
   "source": [
    "df2.tail(10)"
   ]
  },
  {
   "cell_type": "markdown",
   "metadata": {},
   "source": [
    "# Redes Neuronales"
   ]
  },
  {
   "cell_type": "code",
   "execution_count": 125,
   "metadata": {},
   "outputs": [],
   "source": [
    "# Definir X e y\n",
    "X = df2.drop(columns=['price'])\n",
    "y = df2['price']\n",
    "\n",
    "from sklearn.model_selection import train_test_split\n",
    "X_train, X_test, y_train, y_test = train_test_split(X, y, test_size=0.2, random_state=42)"
   ]
  },
  {
   "cell_type": "code",
   "execution_count": 127,
   "metadata": {},
   "outputs": [],
   "source": [
    "oculta = tf.keras.layers.Dense(units=5,activation='relu',input_shape=[5])\n",
    "dropout = tf.keras.layers.Dropout(0.3)\n",
    "oculta1 = tf.keras.layers.Dense(units=16,activation='relu')\n",
    "dropout1 = tf.keras.layers.Dropout(0.3)\n",
    "salida = tf.keras.layers.Dense(units=1,activation='linear')\n",
    "modelo = tf.keras.Sequential([oculta,dropout,oculta1,dropout1])"
   ]
  },
  {
   "cell_type": "code",
   "execution_count": 143,
   "metadata": {},
   "outputs": [],
   "source": [
    "modelo.compile(optimizer=tf.keras.optimizers.Adam(0.01),loss='mean_squared_error',metrics=['mae'])"
   ]
  },
  {
   "cell_type": "code",
   "execution_count": 144,
   "metadata": {},
   "outputs": [],
   "source": [
    "# Implementar el early stopping\n",
    "early_stopping = tf.keras.callbacks.EarlyStopping(monitor='val_loss',patience=10,restore_best_weights=True)"
   ]
  },
  {
   "cell_type": "code",
   "execution_count": 145,
   "metadata": {},
   "outputs": [
    {
     "name": "stdout",
     "output_type": "stream",
     "text": [
      "Entrenando modelo\n",
      "Modelo Entrenado\n"
     ]
    }
   ],
   "source": [
    "# Entrenar modelo\n",
    "print('Entrenando modelo')\n",
    "historial = modelo.fit(X_train,y_train,epochs=500,batch_size=16,verbose=False,validation_split=0.2,callbacks=[early_stopping])\n",
    "print('Modelo Entrenado')"
   ]
  },
  {
   "cell_type": "code",
   "execution_count": 131,
   "metadata": {},
   "outputs": [
    {
     "data": {
      "text/plain": [
       "<matplotlib.legend.Legend at 0x241d6f78f80>"
      ]
     },
     "execution_count": 131,
     "metadata": {},
     "output_type": "execute_result"
    },
    {
     "data": {
      "image/png": "[encoded data removed]",
      "text/plain": [
       "<Figure size 640x480 with 1 Axes>"
      ]
     },
     "metadata": {},
     "output_type": "display_data"
    }
   ],
   "source": [
    "plt.xlabel('# Epocas')\n",
    "plt.ylabel('Magnitud de perdida')\n",
    "plt.plot(historial.history['loss'])\n",
    "plt.plot(historial.history['val_loss'])\n",
    "plt.legend(['Entrenamiento','Validación'])"
   ]
  },
  {
   "cell_type": "code",
   "execution_count": 148,
   "metadata": {},
   "outputs": [
    {
     "name": "stdout",
     "output_type": "stream",
     "text": [
      "Loss en el conjunto de prueba: 0.6481330394744873\n",
      "MAE en el conjunto de prueba: 0.5760238170623779\n"
     ]
    }
   ],
   "source": [
    "# Evaluar el modelo\n",
    "loss, mae = modelo.evaluate(X_test, y_test, verbose=0)\n",
    "print(f'Loss en el conjunto de prueba: {loss}')\n",
    "print(f'MAE en el conjunto de prueba: {mae}')"
   ]
  },
  {
   "cell_type": "code",
   "execution_count": 157,
   "metadata": {},
   "outputs": [
    {
     "data": {
      "text/html": [
       "<div>\n",
       "<style scoped>\n",
       "    .dataframe tbody tr th:only-of-type {\n",
       "        vertical-align: middle;\n",
       "    }\n",
       "\n",
       "    .dataframe tbody tr th {\n",
       "        vertical-align: top;\n",
       "    }\n",
       "\n",
       "    .dataframe thead th {\n",
       "        text-align: right;\n",
       "    }\n",
       "</style>\n",
       "<table border=\"1\" class=\"dataframe\">\n",
       "  <thead>\n",
       "    <tr style=\"text-align: right;\">\n",
       "      <th></th>\n",
       "      <th>house_size</th>\n",
       "      <th>num_rooms</th>\n",
       "      <th>age</th>\n",
       "      <th>distance_to_city_center</th>\n",
       "      <th>population_density</th>\n",
       "    </tr>\n",
       "  </thead>\n",
       "  <tbody>\n",
       "    <tr>\n",
       "      <th>249</th>\n",
       "      <td>0.406157</td>\n",
       "      <td>-0.306227</td>\n",
       "      <td>1.254436</td>\n",
       "      <td>-0.484578</td>\n",
       "      <td>0.727730</td>\n",
       "    </tr>\n",
       "    <tr>\n",
       "      <th>433</th>\n",
       "      <td>0.725008</td>\n",
       "      <td>0.840692</td>\n",
       "      <td>0.675224</td>\n",
       "      <td>-0.821891</td>\n",
       "      <td>-0.382210</td>\n",
       "    </tr>\n",
       "    <tr>\n",
       "      <th>19</th>\n",
       "      <td>-1.447703</td>\n",
       "      <td>1.414152</td>\n",
       "      <td>-0.142486</td>\n",
       "      <td>-0.428868</td>\n",
       "      <td>-0.293930</td>\n",
       "    </tr>\n",
       "    <tr>\n",
       "      <th>322</th>\n",
       "      <td>-0.841663</td>\n",
       "      <td>-0.879687</td>\n",
       "      <td>1.356650</td>\n",
       "      <td>-0.673835</td>\n",
       "      <td>0.143111</td>\n",
       "    </tr>\n",
       "    <tr>\n",
       "      <th>332</th>\n",
       "      <td>0.070355</td>\n",
       "      <td>-1.453147</td>\n",
       "      <td>1.050008</td>\n",
       "      <td>-0.099367</td>\n",
       "      <td>0.181014</td>\n",
       "    </tr>\n",
       "    <tr>\n",
       "      <th>...</th>\n",
       "      <td>...</td>\n",
       "      <td>...</td>\n",
       "      <td>...</td>\n",
       "      <td>...</td>\n",
       "      <td>...</td>\n",
       "    </tr>\n",
       "    <tr>\n",
       "      <th>106</th>\n",
       "      <td>1.917171</td>\n",
       "      <td>-1.453147</td>\n",
       "      <td>-0.415056</td>\n",
       "      <td>0.141232</td>\n",
       "      <td>-0.523592</td>\n",
       "    </tr>\n",
       "    <tr>\n",
       "      <th>270</th>\n",
       "      <td>1.463304</td>\n",
       "      <td>0.840692</td>\n",
       "      <td>-1.573479</td>\n",
       "      <td>-1.267882</td>\n",
       "      <td>1.318375</td>\n",
       "    </tr>\n",
       "    <tr>\n",
       "      <th>348</th>\n",
       "      <td>-0.739879</td>\n",
       "      <td>-0.306227</td>\n",
       "      <td>0.947794</td>\n",
       "      <td>0.605882</td>\n",
       "      <td>0.974383</td>\n",
       "    </tr>\n",
       "    <tr>\n",
       "      <th>435</th>\n",
       "      <td>0.068610</td>\n",
       "      <td>-1.453147</td>\n",
       "      <td>1.118151</td>\n",
       "      <td>-0.047754</td>\n",
       "      <td>-0.121494</td>\n",
       "    </tr>\n",
       "    <tr>\n",
       "      <th>102</th>\n",
       "      <td>-0.356587</td>\n",
       "      <td>1.414152</td>\n",
       "      <td>-1.130553</td>\n",
       "      <td>1.483366</td>\n",
       "      <td>0.211689</td>\n",
       "    </tr>\n",
       "  </tbody>\n",
       "</table>\n",
       "<p>400 rows × 5 columns</p>\n",
       "</div>"
      ],
      "text/plain": [
       "     house_size  num_rooms       age  distance_to_city_center  \\\n",
       "249    0.406157  -0.306227  1.254436                -0.484578   \n",
       "433    0.725008   0.840692  0.675224                -0.821891   \n",
       "19    -1.447703   1.414152 -0.142486                -0.428868   \n",
       "322   -0.841663  -0.879687  1.356650                -0.673835   \n",
       "332    0.070355  -1.453147  1.050008                -0.099367   \n",
       "..          ...        ...       ...                      ...   \n",
       "106    1.917171  -1.453147 -0.415056                 0.141232   \n",
       "270    1.463304   0.840692 -1.573479                -1.267882   \n",
       "348   -0.739879  -0.306227  0.947794                 0.605882   \n",
       "435    0.068610  -1.453147  1.118151                -0.047754   \n",
       "102   -0.356587   1.414152 -1.130553                 1.483366   \n",
       "\n",
       "     population_density  \n",
       "249            0.727730  \n",
       "433           -0.382210  \n",
       "19            -0.293930  \n",
       "322            0.143111  \n",
       "332            0.181014  \n",
       "..                  ...  \n",
       "106           -0.523592  \n",
       "270            1.318375  \n",
       "348            0.974383  \n",
       "435           -0.121494  \n",
       "102            0.211689  \n",
       "\n",
       "[400 rows x 5 columns]"
      ]
     },
     "execution_count": 157,
     "metadata": {},
     "output_type": "execute_result"
    }
   ],
   "source": [
    "X_train"
   ]
  },
  {
   "cell_type": "code",
   "execution_count": 153,
   "metadata": {},
   "outputs": [
    {
     "name": "stdout",
     "output_type": "stream",
     "text": [
      "\u001b[1m4/4\u001b[0m \u001b[32m━━━━━━━━━━━━━━━━━━━━\u001b[0m\u001b[37m\u001b[0m \u001b[1m0s\u001b[0m 8ms/step \n"
     ]
    }
   ],
   "source": [
    "# Realizar predicciones\n",
    "y_pred = modelo.predict(X_test).flatten()"
   ]
  },
  {
   "cell_type": "code",
   "execution_count": 159,
   "metadata": {},
   "outputs": [
    {
     "ename": "ValueError",
     "evalue": "x and y must be the same size",
     "output_type": "error",
     "traceback": [
      "\u001b[1;31m---------------------------------------------------------------------------\u001b[0m",
      "\u001b[1;31mValueError\u001b[0m                                Traceback (most recent call last)",
      "Cell \u001b[1;32mIn[159], line 2\u001b[0m\n\u001b[0;32m      1\u001b[0m a \u001b[38;5;241m=\u001b[39m plt\u001b[38;5;241m.\u001b[39maxes(aspect\u001b[38;5;241m=\u001b[39m\u001b[38;5;124m'\u001b[39m\u001b[38;5;124mequal\u001b[39m\u001b[38;5;124m'\u001b[39m)\n\u001b[1;32m----> 2\u001b[0m \u001b[43mplt\u001b[49m\u001b[38;5;241;43m.\u001b[39;49m\u001b[43mscatter\u001b[49m\u001b[43m(\u001b[49m\u001b[43my_test\u001b[49m\u001b[43m,\u001b[49m\u001b[43m \u001b[49m\u001b[43my_pred\u001b[49m\u001b[43m)\u001b[49m\n\u001b[0;32m      3\u001b[0m plt\u001b[38;5;241m.\u001b[39mxlabel(\u001b[38;5;124m'\u001b[39m\u001b[38;5;124mReal [MPG]\u001b[39m\u001b[38;5;124m'\u001b[39m)\n\u001b[0;32m      4\u001b[0m plt\u001b[38;5;241m.\u001b[39mylabel(\u001b[38;5;124m'\u001b[39m\u001b[38;5;124mPrediccion [MPG]\u001b[39m\u001b[38;5;124m'\u001b[39m)\n",
      "File \u001b[1;32mc:\\Users\\Frank\\AppData\\Local\\Programs\\Python\\Python312\\Lib\\site-packages\\matplotlib\\pyplot.py:3903\u001b[0m, in \u001b[0;36mscatter\u001b[1;34m(x, y, s, c, marker, cmap, norm, vmin, vmax, alpha, linewidths, edgecolors, plotnonfinite, data, **kwargs)\u001b[0m\n\u001b[0;32m   3884\u001b[0m \u001b[38;5;129m@_copy_docstring_and_deprecators\u001b[39m(Axes\u001b[38;5;241m.\u001b[39mscatter)\n\u001b[0;32m   3885\u001b[0m \u001b[38;5;28;01mdef\u001b[39;00m \u001b[38;5;21mscatter\u001b[39m(\n\u001b[0;32m   3886\u001b[0m     x: \u001b[38;5;28mfloat\u001b[39m \u001b[38;5;241m|\u001b[39m ArrayLike,\n\u001b[1;32m   (...)\u001b[0m\n\u001b[0;32m   3901\u001b[0m     \u001b[38;5;241m*\u001b[39m\u001b[38;5;241m*\u001b[39mkwargs,\n\u001b[0;32m   3902\u001b[0m ) \u001b[38;5;241m-\u001b[39m\u001b[38;5;241m>\u001b[39m PathCollection:\n\u001b[1;32m-> 3903\u001b[0m     __ret \u001b[38;5;241m=\u001b[39m \u001b[43mgca\u001b[49m\u001b[43m(\u001b[49m\u001b[43m)\u001b[49m\u001b[38;5;241;43m.\u001b[39;49m\u001b[43mscatter\u001b[49m\u001b[43m(\u001b[49m\n\u001b[0;32m   3904\u001b[0m \u001b[43m        \u001b[49m\u001b[43mx\u001b[49m\u001b[43m,\u001b[49m\n\u001b[0;32m   3905\u001b[0m \u001b[43m        \u001b[49m\u001b[43my\u001b[49m\u001b[43m,\u001b[49m\n\u001b[0;32m   3906\u001b[0m \u001b[43m        \u001b[49m\u001b[43ms\u001b[49m\u001b[38;5;241;43m=\u001b[39;49m\u001b[43ms\u001b[49m\u001b[43m,\u001b[49m\n\u001b[0;32m   3907\u001b[0m \u001b[43m        \u001b[49m\u001b[43mc\u001b[49m\u001b[38;5;241;43m=\u001b[39;49m\u001b[43mc\u001b[49m\u001b[43m,\u001b[49m\n\u001b[0;32m   3908\u001b[0m \u001b[43m        \u001b[49m\u001b[43mmarker\u001b[49m\u001b[38;5;241;43m=\u001b[39;49m\u001b[43mmarker\u001b[49m\u001b[43m,\u001b[49m\n\u001b[0;32m   3909\u001b[0m \u001b[43m        \u001b[49m\u001b[43mcmap\u001b[49m\u001b[38;5;241;43m=\u001b[39;49m\u001b[43mcmap\u001b[49m\u001b[43m,\u001b[49m\n\u001b[0;32m   3910\u001b[0m \u001b[43m        \u001b[49m\u001b[43mnorm\u001b[49m\u001b[38;5;241;43m=\u001b[39;49m\u001b[43mnorm\u001b[49m\u001b[43m,\u001b[49m\n\u001b[0;32m   3911\u001b[0m \u001b[43m        \u001b[49m\u001b[43mvmin\u001b[49m\u001b[38;5;241;43m=\u001b[39;49m\u001b[43mvmin\u001b[49m\u001b[43m,\u001b[49m\n\u001b[0;32m   3912\u001b[0m \u001b[43m        \u001b[49m\u001b[43mvmax\u001b[49m\u001b[38;5;241;43m=\u001b[39;49m\u001b[43mvmax\u001b[49m\u001b[43m,\u001b[49m\n\u001b[0;32m   3913\u001b[0m \u001b[43m        \u001b[49m\u001b[43malpha\u001b[49m\u001b[38;5;241;43m=\u001b[39;49m\u001b[43malpha\u001b[49m\u001b[43m,\u001b[49m\n\u001b[0;32m   3914\u001b[0m \u001b[43m        \u001b[49m\u001b[43mlinewidths\u001b[49m\u001b[38;5;241;43m=\u001b[39;49m\u001b[43mlinewidths\u001b[49m\u001b[43m,\u001b[49m\n\u001b[0;32m   3915\u001b[0m \u001b[43m        \u001b[49m\u001b[43medgecolors\u001b[49m\u001b[38;5;241;43m=\u001b[39;49m\u001b[43medgecolors\u001b[49m\u001b[43m,\u001b[49m\n\u001b[0;32m   3916\u001b[0m \u001b[43m        \u001b[49m\u001b[43mplotnonfinite\u001b[49m\u001b[38;5;241;43m=\u001b[39;49m\u001b[43mplotnonfinite\u001b[49m\u001b[43m,\u001b[49m\n\u001b[0;32m   3917\u001b[0m \u001b[43m        \u001b[49m\u001b[38;5;241;43m*\u001b[39;49m\u001b[38;5;241;43m*\u001b[39;49m\u001b[43m(\u001b[49m\u001b[43m{\u001b[49m\u001b[38;5;124;43m\"\u001b[39;49m\u001b[38;5;124;43mdata\u001b[39;49m\u001b[38;5;124;43m\"\u001b[39;49m\u001b[43m:\u001b[49m\u001b[43m \u001b[49m\u001b[43mdata\u001b[49m\u001b[43m}\u001b[49m\u001b[43m \u001b[49m\u001b[38;5;28;43;01mif\u001b[39;49;00m\u001b[43m \u001b[49m\u001b[43mdata\u001b[49m\u001b[43m \u001b[49m\u001b[38;5;129;43;01mis\u001b[39;49;00m\u001b[43m \u001b[49m\u001b[38;5;129;43;01mnot\u001b[39;49;00m\u001b[43m \u001b[49m\u001b[38;5;28;43;01mNone\u001b[39;49;00m\u001b[43m \u001b[49m\u001b[38;5;28;43;01melse\u001b[39;49;00m\u001b[43m \u001b[49m\u001b[43m{\u001b[49m\u001b[43m}\u001b[49m\u001b[43m)\u001b[49m\u001b[43m,\u001b[49m\n\u001b[0;32m   3918\u001b[0m \u001b[43m        \u001b[49m\u001b[38;5;241;43m*\u001b[39;49m\u001b[38;5;241;43m*\u001b[39;49m\u001b[43mkwargs\u001b[49m\u001b[43m,\u001b[49m\n\u001b[0;32m   3919\u001b[0m \u001b[43m    \u001b[49m\u001b[43m)\u001b[49m\n\u001b[0;32m   3920\u001b[0m     sci(__ret)\n\u001b[0;32m   3921\u001b[0m     \u001b[38;5;28;01mreturn\u001b[39;00m __ret\n",
      "File \u001b[1;32mc:\\Users\\Frank\\AppData\\Local\\Programs\\Python\\Python312\\Lib\\site-packages\\matplotlib\\__init__.py:1486\u001b[0m, in \u001b[0;36m_preprocess_data.<locals>.inner\u001b[1;34m(ax, data, *args, **kwargs)\u001b[0m\n\u001b[0;32m   1483\u001b[0m \u001b[38;5;129m@functools\u001b[39m\u001b[38;5;241m.\u001b[39mwraps(func)\n\u001b[0;32m   1484\u001b[0m \u001b[38;5;28;01mdef\u001b[39;00m \u001b[38;5;21minner\u001b[39m(ax, \u001b[38;5;241m*\u001b[39margs, data\u001b[38;5;241m=\u001b[39m\u001b[38;5;28;01mNone\u001b[39;00m, \u001b[38;5;241m*\u001b[39m\u001b[38;5;241m*\u001b[39mkwargs):\n\u001b[0;32m   1485\u001b[0m     \u001b[38;5;28;01mif\u001b[39;00m data \u001b[38;5;129;01mis\u001b[39;00m \u001b[38;5;28;01mNone\u001b[39;00m:\n\u001b[1;32m-> 1486\u001b[0m         \u001b[38;5;28;01mreturn\u001b[39;00m \u001b[43mfunc\u001b[49m\u001b[43m(\u001b[49m\n\u001b[0;32m   1487\u001b[0m \u001b[43m            \u001b[49m\u001b[43max\u001b[49m\u001b[43m,\u001b[49m\n\u001b[0;32m   1488\u001b[0m \u001b[43m            \u001b[49m\u001b[38;5;241;43m*\u001b[39;49m\u001b[38;5;28;43mmap\u001b[39;49m\u001b[43m(\u001b[49m\u001b[43msanitize_sequence\u001b[49m\u001b[43m,\u001b[49m\u001b[43m \u001b[49m\u001b[43margs\u001b[49m\u001b[43m)\u001b[49m\u001b[43m,\u001b[49m\n\u001b[0;32m   1489\u001b[0m \u001b[43m            \u001b[49m\u001b[38;5;241;43m*\u001b[39;49m\u001b[38;5;241;43m*\u001b[39;49m\u001b[43m{\u001b[49m\u001b[43mk\u001b[49m\u001b[43m:\u001b[49m\u001b[43m \u001b[49m\u001b[43msanitize_sequence\u001b[49m\u001b[43m(\u001b[49m\u001b[43mv\u001b[49m\u001b[43m)\u001b[49m\u001b[43m \u001b[49m\u001b[38;5;28;43;01mfor\u001b[39;49;00m\u001b[43m \u001b[49m\u001b[43mk\u001b[49m\u001b[43m,\u001b[49m\u001b[43m \u001b[49m\u001b[43mv\u001b[49m\u001b[43m \u001b[49m\u001b[38;5;129;43;01min\u001b[39;49;00m\u001b[43m \u001b[49m\u001b[43mkwargs\u001b[49m\u001b[38;5;241;43m.\u001b[39;49m\u001b[43mitems\u001b[49m\u001b[43m(\u001b[49m\u001b[43m)\u001b[49m\u001b[43m}\u001b[49m\u001b[43m)\u001b[49m\n\u001b[0;32m   1491\u001b[0m     bound \u001b[38;5;241m=\u001b[39m new_sig\u001b[38;5;241m.\u001b[39mbind(ax, \u001b[38;5;241m*\u001b[39margs, \u001b[38;5;241m*\u001b[39m\u001b[38;5;241m*\u001b[39mkwargs)\n\u001b[0;32m   1492\u001b[0m     auto_label \u001b[38;5;241m=\u001b[39m (bound\u001b[38;5;241m.\u001b[39marguments\u001b[38;5;241m.\u001b[39mget(label_namer)\n\u001b[0;32m   1493\u001b[0m                   \u001b[38;5;129;01mor\u001b[39;00m bound\u001b[38;5;241m.\u001b[39mkwargs\u001b[38;5;241m.\u001b[39mget(label_namer))\n",
      "File \u001b[1;32mc:\\Users\\Frank\\AppData\\Local\\Programs\\Python\\Python312\\Lib\\site-packages\\matplotlib\\axes\\_axes.py:4787\u001b[0m, in \u001b[0;36mAxes.scatter\u001b[1;34m(self, x, y, s, c, marker, cmap, norm, vmin, vmax, alpha, linewidths, edgecolors, plotnonfinite, **kwargs)\u001b[0m\n\u001b[0;32m   4785\u001b[0m y \u001b[38;5;241m=\u001b[39m np\u001b[38;5;241m.\u001b[39mma\u001b[38;5;241m.\u001b[39mravel(y)\n\u001b[0;32m   4786\u001b[0m \u001b[38;5;28;01mif\u001b[39;00m x\u001b[38;5;241m.\u001b[39msize \u001b[38;5;241m!=\u001b[39m y\u001b[38;5;241m.\u001b[39msize:\n\u001b[1;32m-> 4787\u001b[0m     \u001b[38;5;28;01mraise\u001b[39;00m \u001b[38;5;167;01mValueError\u001b[39;00m(\u001b[38;5;124m\"\u001b[39m\u001b[38;5;124mx and y must be the same size\u001b[39m\u001b[38;5;124m\"\u001b[39m)\n\u001b[0;32m   4789\u001b[0m \u001b[38;5;28;01mif\u001b[39;00m s \u001b[38;5;129;01mis\u001b[39;00m \u001b[38;5;28;01mNone\u001b[39;00m:\n\u001b[0;32m   4790\u001b[0m     s \u001b[38;5;241m=\u001b[39m (\u001b[38;5;241m20\u001b[39m \u001b[38;5;28;01mif\u001b[39;00m mpl\u001b[38;5;241m.\u001b[39mrcParams[\u001b[38;5;124m'\u001b[39m\u001b[38;5;124m_internal.classic_mode\u001b[39m\u001b[38;5;124m'\u001b[39m] \u001b[38;5;28;01melse\u001b[39;00m\n\u001b[0;32m   4791\u001b[0m          mpl\u001b[38;5;241m.\u001b[39mrcParams[\u001b[38;5;124m'\u001b[39m\u001b[38;5;124mlines.markersize\u001b[39m\u001b[38;5;124m'\u001b[39m] \u001b[38;5;241m*\u001b[39m\u001b[38;5;241m*\u001b[39m \u001b[38;5;241m2.0\u001b[39m)\n",
      "\u001b[1;31mValueError\u001b[0m: x and y must be the same size"
     ]
    },
    {
     "data": {
      "image/png": "[encoded data removed]",
      "text/plain": [
       "<Figure size 640x480 with 1 Axes>"
      ]
     },
     "metadata": {},
     "output_type": "display_data"
    }
   ],
   "source": [
    "a = plt.axes(aspect='equal')\n",
    "plt.scatter(y_test, y_pred)\n",
    "plt.xlabel('Real [MPG]')\n",
    "plt.ylabel('Prediccion [MPG]')\n",
    "lims = [0, 50]\n",
    "plt.xlim(lims)\n",
    "plt.ylim(lims)\n",
    "plt.plot(lims, lims)"
   ]
  }
 ],
 "metadata": {
  "kernelspec": {
   "display_name": "Python 3",
   "language": "python",
   "name": "python3"
  },
  "language_info": {
   "codemirror_mode": {
    "name": "ipython",
    "version": 3
   },
   "file_extension": ".py",
   "mimetype": "text/x-python",
   "name": "python",
   "nbconvert_exporter": "python",
   "pygments_lexer": "ipython3",
   "version": "3.12.4"
  }
 },
 "nbformat": 4,
 "nbformat_minor": 2
}
