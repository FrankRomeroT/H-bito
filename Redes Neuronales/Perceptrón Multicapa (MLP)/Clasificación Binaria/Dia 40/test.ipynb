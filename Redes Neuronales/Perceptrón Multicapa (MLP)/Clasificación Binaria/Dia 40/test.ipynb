{
 "cells": [
  {
   "cell_type": "code",
   "execution_count": null,
   "metadata": {},
   "outputs": [],
   "source": [
    "txt ='Hola,mundo'\n",
    "nuevo_txt = tx"
   ]
  }
 ],
 "metadata": {
  "language_info": {
   "name": "python"
  }
 },
 "nbformat": 4,
 "nbformat_minor": 2
}
