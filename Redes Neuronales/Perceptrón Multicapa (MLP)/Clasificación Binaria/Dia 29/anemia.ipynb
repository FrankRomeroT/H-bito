{
 "cells": [
  {
   "cell_type": "code",
   "execution_count": 2,
   "metadata": {},
   "outputs": [],
   "source": [
    "import pandas as pd\n",
    "import numpy as np\n",
    "from sklearn.impute import KNNImputer\n",
    "import matplotlib.pyplot as plt\n",
    "import warnings\n",
    "warnings.filterwarnings(\"ignore\")\n",
    "import seaborn as sns\n",
    "from sklearn.preprocessing import OneHotEncoder\n",
    "import joblib\n",
    "import tensorflow as tf"
   ]
  },
  {
   "cell_type": "code",
   "execution_count": 3,
   "metadata": {},
   "outputs": [
    {
     "data": {
      "text/html": [
       "<div>\n",
       "<style scoped>\n",
       "    .dataframe tbody tr th:only-of-type {\n",
       "        vertical-align: middle;\n",
       "    }\n",
       "\n",
       "    .dataframe tbody tr th {\n",
       "        vertical-align: top;\n",
       "    }\n",
       "\n",
       "    .dataframe thead th {\n",
       "        text-align: right;\n",
       "    }\n",
       "</style>\n",
       "<table border=\"1\" class=\"dataframe\">\n",
       "  <thead>\n",
       "    <tr style=\"text-align: right;\">\n",
       "      <th></th>\n",
       "      <th>Number</th>\n",
       "      <th>Name</th>\n",
       "      <th>%Red Pixel</th>\n",
       "      <th>%Green pixel</th>\n",
       "      <th>%Blue pixel</th>\n",
       "      <th>Hb</th>\n",
       "      <th>Anaemic</th>\n",
       "      <th>Unnamed: 7</th>\n",
       "      <th>Unnamed: 8</th>\n",
       "      <th>Unnamed: 9</th>\n",
       "      <th>Unnamed: 10</th>\n",
       "      <th>Unnamed: 11</th>\n",
       "      <th>Unnamed: 12</th>\n",
       "      <th>Unnamed: 13</th>\n",
       "    </tr>\n",
       "  </thead>\n",
       "  <tbody>\n",
       "    <tr>\n",
       "      <th>0</th>\n",
       "      <td>1</td>\n",
       "      <td>Jafor Alam</td>\n",
       "      <td>43.2555</td>\n",
       "      <td>30.8421</td>\n",
       "      <td>25.9025</td>\n",
       "      <td>6.3</td>\n",
       "      <td>Yes</td>\n",
       "      <td>NaN</td>\n",
       "      <td>NaN</td>\n",
       "      <td>NaN</td>\n",
       "      <td>NaN</td>\n",
       "      <td>NaN</td>\n",
       "      <td>NaN</td>\n",
       "      <td>NaN</td>\n",
       "    </tr>\n",
       "    <tr>\n",
       "      <th>1</th>\n",
       "      <td>2</td>\n",
       "      <td>khadiza</td>\n",
       "      <td>45.6033</td>\n",
       "      <td>28.1900</td>\n",
       "      <td>26.2067</td>\n",
       "      <td>13.5</td>\n",
       "      <td>No</td>\n",
       "      <td>NaN</td>\n",
       "      <td>NaN</td>\n",
       "      <td>NaN</td>\n",
       "      <td>NaN</td>\n",
       "      <td>NaN</td>\n",
       "      <td>NaN</td>\n",
       "      <td>NaN</td>\n",
       "    </tr>\n",
       "    <tr>\n",
       "      <th>2</th>\n",
       "      <td>3</td>\n",
       "      <td>Lalu</td>\n",
       "      <td>45.0107</td>\n",
       "      <td>28.9677</td>\n",
       "      <td>26.0215</td>\n",
       "      <td>11.7</td>\n",
       "      <td>No</td>\n",
       "      <td>NaN</td>\n",
       "      <td>NaN</td>\n",
       "      <td>NaN</td>\n",
       "      <td>NaN</td>\n",
       "      <td>NaN</td>\n",
       "      <td>NaN</td>\n",
       "      <td>NaN</td>\n",
       "    </tr>\n",
       "    <tr>\n",
       "      <th>3</th>\n",
       "      <td>4</td>\n",
       "      <td>Mira nath</td>\n",
       "      <td>44.5398</td>\n",
       "      <td>28.9899</td>\n",
       "      <td>26.4703</td>\n",
       "      <td>13.5</td>\n",
       "      <td>No</td>\n",
       "      <td>NaN</td>\n",
       "      <td>NaN</td>\n",
       "      <td>NaN</td>\n",
       "      <td>NaN</td>\n",
       "      <td>NaN</td>\n",
       "      <td>NaN</td>\n",
       "      <td>NaN</td>\n",
       "    </tr>\n",
       "    <tr>\n",
       "      <th>4</th>\n",
       "      <td>5</td>\n",
       "      <td>monoara</td>\n",
       "      <td>43.2870</td>\n",
       "      <td>30.6972</td>\n",
       "      <td>26.0158</td>\n",
       "      <td>12.4</td>\n",
       "      <td>No</td>\n",
       "      <td>NaN</td>\n",
       "      <td>NaN</td>\n",
       "      <td>NaN</td>\n",
       "      <td>NaN</td>\n",
       "      <td>NaN</td>\n",
       "      <td>NaN</td>\n",
       "      <td>NaN</td>\n",
       "    </tr>\n",
       "  </tbody>\n",
       "</table>\n",
       "</div>"
      ],
      "text/plain": [
       "   Number        Name  %Red Pixel  %Green pixel  %Blue pixel    Hb Anaemic  \\\n",
       "0       1  Jafor Alam     43.2555       30.8421      25.9025   6.3     Yes   \n",
       "1       2     khadiza     45.6033       28.1900      26.2067  13.5      No   \n",
       "2       3        Lalu     45.0107       28.9677      26.0215  11.7      No   \n",
       "3       4   Mira nath     44.5398       28.9899      26.4703  13.5      No   \n",
       "4       5     monoara     43.2870       30.6972      26.0158  12.4      No   \n",
       "\n",
       "   Unnamed: 7  Unnamed: 8  Unnamed: 9  Unnamed: 10  Unnamed: 11  Unnamed: 12  \\\n",
       "0         NaN         NaN         NaN          NaN          NaN          NaN   \n",
       "1         NaN         NaN         NaN          NaN          NaN          NaN   \n",
       "2         NaN         NaN         NaN          NaN          NaN          NaN   \n",
       "3         NaN         NaN         NaN          NaN          NaN          NaN   \n",
       "4         NaN         NaN         NaN          NaN          NaN          NaN   \n",
       "\n",
       "  Unnamed: 13  \n",
       "0         NaN  \n",
       "1         NaN  \n",
       "2         NaN  \n",
       "3         NaN  \n",
       "4         NaN  "
      ]
     },
     "execution_count": 3,
     "metadata": {},
     "output_type": "execute_result"
    }
   ],
   "source": [
    "df = pd.read_csv('C:/Users/FRANK/Desktop/Proyectos Linkedin/Python Proyectos/Redes Neuronales/Dia 29/anemia_dataset.csv')\n",
    "df.head()"
   ]
  },
  {
   "cell_type": "code",
   "execution_count": 4,
   "metadata": {},
   "outputs": [
    {
     "name": "stdout",
     "output_type": "stream",
     "text": [
      "Número de observaciones (filas) = 104\n",
      "Total de variables disponibles (columnas) = 14 \n",
      "Columnas que cuentan con un valor nulo -\n",
      "Number            0\n",
      "Name              0\n",
      "%Red Pixel        0\n",
      "%Green pixel      0\n",
      "%Blue pixel       0\n",
      "Hb                0\n",
      "Anaemic           0\n",
      "Unnamed: 7      104\n",
      "Unnamed: 8      104\n",
      "Unnamed: 9      104\n",
      "Unnamed: 10     104\n",
      "Unnamed: 11     104\n",
      "Unnamed: 12     104\n",
      "Unnamed: 13     103\n",
      "dtype: int64\n"
     ]
    }
   ],
   "source": [
    "df2 = df.copy()\n",
    "print('Número de observaciones (filas) = {}'.format(df2.shape[0]))\n",
    "print('Total de variables disponibles (columnas) = {} '.format(df2.columns.shape[0]))\n",
    "print('Columnas que cuentan con un valor nulo -')\n",
    "print(df2.isnull().sum())"
   ]
  },
  {
   "cell_type": "code",
   "execution_count": 5,
   "metadata": {},
   "outputs": [],
   "source": [
    "df2 = df2.drop(columns=['Unnamed: 7','Unnamed: 8','Unnamed: 9','Unnamed: 10','Unnamed: 11','Unnamed: 12','Unnamed: 13'])"
   ]
  },
  {
   "cell_type": "code",
   "execution_count": 6,
   "metadata": {},
   "outputs": [
    {
     "data": {
      "text/html": [
       "<div>\n",
       "<style scoped>\n",
       "    .dataframe tbody tr th:only-of-type {\n",
       "        vertical-align: middle;\n",
       "    }\n",
       "\n",
       "    .dataframe tbody tr th {\n",
       "        vertical-align: top;\n",
       "    }\n",
       "\n",
       "    .dataframe thead th {\n",
       "        text-align: right;\n",
       "    }\n",
       "</style>\n",
       "<table border=\"1\" class=\"dataframe\">\n",
       "  <thead>\n",
       "    <tr style=\"text-align: right;\">\n",
       "      <th></th>\n",
       "      <th>Number</th>\n",
       "      <th>Name</th>\n",
       "      <th>%Red Pixel</th>\n",
       "      <th>%Green pixel</th>\n",
       "      <th>%Blue pixel</th>\n",
       "      <th>Hb</th>\n",
       "      <th>Anaemic</th>\n",
       "    </tr>\n",
       "  </thead>\n",
       "  <tbody>\n",
       "    <tr>\n",
       "      <th>0</th>\n",
       "      <td>1</td>\n",
       "      <td>Jafor Alam</td>\n",
       "      <td>43.2555</td>\n",
       "      <td>30.8421</td>\n",
       "      <td>25.9025</td>\n",
       "      <td>6.3</td>\n",
       "      <td>Yes</td>\n",
       "    </tr>\n",
       "    <tr>\n",
       "      <th>1</th>\n",
       "      <td>2</td>\n",
       "      <td>khadiza</td>\n",
       "      <td>45.6033</td>\n",
       "      <td>28.1900</td>\n",
       "      <td>26.2067</td>\n",
       "      <td>13.5</td>\n",
       "      <td>No</td>\n",
       "    </tr>\n",
       "    <tr>\n",
       "      <th>2</th>\n",
       "      <td>3</td>\n",
       "      <td>Lalu</td>\n",
       "      <td>45.0107</td>\n",
       "      <td>28.9677</td>\n",
       "      <td>26.0215</td>\n",
       "      <td>11.7</td>\n",
       "      <td>No</td>\n",
       "    </tr>\n",
       "    <tr>\n",
       "      <th>3</th>\n",
       "      <td>4</td>\n",
       "      <td>Mira nath</td>\n",
       "      <td>44.5398</td>\n",
       "      <td>28.9899</td>\n",
       "      <td>26.4703</td>\n",
       "      <td>13.5</td>\n",
       "      <td>No</td>\n",
       "    </tr>\n",
       "    <tr>\n",
       "      <th>4</th>\n",
       "      <td>5</td>\n",
       "      <td>monoara</td>\n",
       "      <td>43.2870</td>\n",
       "      <td>30.6972</td>\n",
       "      <td>26.0158</td>\n",
       "      <td>12.4</td>\n",
       "      <td>No</td>\n",
       "    </tr>\n",
       "  </tbody>\n",
       "</table>\n",
       "</div>"
      ],
      "text/plain": [
       "   Number        Name  %Red Pixel  %Green pixel  %Blue pixel    Hb Anaemic\n",
       "0       1  Jafor Alam     43.2555       30.8421      25.9025   6.3     Yes\n",
       "1       2     khadiza     45.6033       28.1900      26.2067  13.5      No\n",
       "2       3        Lalu     45.0107       28.9677      26.0215  11.7      No\n",
       "3       4   Mira nath     44.5398       28.9899      26.4703  13.5      No\n",
       "4       5     monoara     43.2870       30.6972      26.0158  12.4      No"
      ]
     },
     "execution_count": 6,
     "metadata": {},
     "output_type": "execute_result"
    }
   ],
   "source": [
    "df2.head()"
   ]
  },
  {
   "cell_type": "code",
   "execution_count": 7,
   "metadata": {},
   "outputs": [
    {
     "name": "stdout",
     "output_type": "stream",
     "text": [
      "<class 'pandas.core.frame.DataFrame'>\n",
      "RangeIndex: 104 entries, 0 to 103\n",
      "Data columns (total 7 columns):\n",
      " #   Column        Non-Null Count  Dtype  \n",
      "---  ------        --------------  -----  \n",
      " 0   Number        104 non-null    int64  \n",
      " 1   Name          104 non-null    object \n",
      " 2   %Red Pixel    104 non-null    float64\n",
      " 3   %Green pixel  104 non-null    float64\n",
      " 4   %Blue pixel   104 non-null    float64\n",
      " 5   Hb            104 non-null    float64\n",
      " 6   Anaemic       104 non-null    object \n",
      "dtypes: float64(4), int64(1), object(2)\n",
      "memory usage: 5.8+ KB\n"
     ]
    }
   ],
   "source": [
    "df2.info()"
   ]
  },
  {
   "cell_type": "code",
   "execution_count": 8,
   "metadata": {},
   "outputs": [],
   "source": [
    "aneamic_bin = {'Yes':1 ,'No': 0}\n",
    "df2['Anaemic'] = df2['Anaemic'].map(aneamic_bin)"
   ]
  },
  {
   "cell_type": "code",
   "execution_count": 9,
   "metadata": {},
   "outputs": [
    {
     "data": {
      "text/plain": [
       "Text(0.5, 1.0, 'Anaemic')"
      ]
     },
     "execution_count": 9,
     "metadata": {},
     "output_type": "execute_result"
    },
    {
     "data": {
      "image/png": "[encoded data removed]",
      "text/plain": [
       "<Figure size 1500x1200 with 6 Axes>"
      ]
     },
     "metadata": {},
     "output_type": "display_data"
    }
   ],
   "source": [
    "# Crear histogramas mejorados\n",
    "fig, axes = plt.subplots(nrows=2, ncols=3, figsize=(15, 12))\n",
    "df2.hist(ax=axes, bins=20, color='skyblue', edgecolor='black', alpha=0.7)\n",
    "\n",
    "# Añadir títulos a cada subgráfico\n",
    "axes[0, 0].set_title('Number')\n",
    "axes[0, 1].set_title('%Red Pixel')\n",
    "axes[0, 2].set_title('%Green pixel')\n",
    "axes[1, 0].set_title('%Blue pixel')\n",
    "axes[1, 1].set_title('Hb')\n",
    "axes[1, 2].set_title('Anaemic')"
   ]
  },
  {
   "cell_type": "code",
   "execution_count": 10,
   "metadata": {},
   "outputs": [],
   "source": [
    "# Definir características numéricas y categóricas\n",
    "\n",
    "numeric_features = ['Number','%Red Pixel','%Green pixel','%Blue pixel','Hb',]"
   ]
  },
  {
   "cell_type": "code",
   "execution_count": 11,
   "metadata": {},
   "outputs": [],
   "source": [
    "from sklearn.preprocessing import StandardScaler\n",
    "\n",
    "scaler = StandardScaler()\n",
    "df2[numeric_features] = scaler.fit_transform(df2[numeric_features])"
   ]
  },
  {
   "cell_type": "code",
   "execution_count": 12,
   "metadata": {},
   "outputs": [
    {
     "data": {
      "text/html": [
       "<div>\n",
       "<style scoped>\n",
       "    .dataframe tbody tr th:only-of-type {\n",
       "        vertical-align: middle;\n",
       "    }\n",
       "\n",
       "    .dataframe tbody tr th {\n",
       "        vertical-align: top;\n",
       "    }\n",
       "\n",
       "    .dataframe thead th {\n",
       "        text-align: right;\n",
       "    }\n",
       "</style>\n",
       "<table border=\"1\" class=\"dataframe\">\n",
       "  <thead>\n",
       "    <tr style=\"text-align: right;\">\n",
       "      <th></th>\n",
       "      <th>Number</th>\n",
       "      <th>Name</th>\n",
       "      <th>%Red Pixel</th>\n",
       "      <th>%Green pixel</th>\n",
       "      <th>%Blue pixel</th>\n",
       "      <th>Hb</th>\n",
       "      <th>Anaemic</th>\n",
       "    </tr>\n",
       "  </thead>\n",
       "  <tbody>\n",
       "    <tr>\n",
       "      <th>0</th>\n",
       "      <td>-1.715476</td>\n",
       "      <td>Jafor Alam</td>\n",
       "      <td>-0.855838</td>\n",
       "      <td>1.271407</td>\n",
       "      <td>0.218811</td>\n",
       "      <td>-2.339593</td>\n",
       "      <td>1</td>\n",
       "    </tr>\n",
       "    <tr>\n",
       "      <th>1</th>\n",
       "      <td>-1.682166</td>\n",
       "      <td>khadiza</td>\n",
       "      <td>-0.018152</td>\n",
       "      <td>-0.443182</td>\n",
       "      <td>0.372828</td>\n",
       "      <td>0.539433</td>\n",
       "      <td>0</td>\n",
       "    </tr>\n",
       "    <tr>\n",
       "      <th>2</th>\n",
       "      <td>-1.648855</td>\n",
       "      <td>Lalu</td>\n",
       "      <td>-0.229589</td>\n",
       "      <td>0.059603</td>\n",
       "      <td>0.279061</td>\n",
       "      <td>-0.180324</td>\n",
       "      <td>0</td>\n",
       "    </tr>\n",
       "    <tr>\n",
       "      <th>3</th>\n",
       "      <td>-1.615545</td>\n",
       "      <td>Mira nath</td>\n",
       "      <td>-0.397605</td>\n",
       "      <td>0.073956</td>\n",
       "      <td>0.506289</td>\n",
       "      <td>0.539433</td>\n",
       "      <td>0</td>\n",
       "    </tr>\n",
       "    <tr>\n",
       "      <th>4</th>\n",
       "      <td>-1.582235</td>\n",
       "      <td>monoara</td>\n",
       "      <td>-0.844599</td>\n",
       "      <td>1.177729</td>\n",
       "      <td>0.276175</td>\n",
       "      <td>0.099582</td>\n",
       "      <td>0</td>\n",
       "    </tr>\n",
       "  </tbody>\n",
       "</table>\n",
       "</div>"
      ],
      "text/plain": [
       "     Number        Name  %Red Pixel  %Green pixel  %Blue pixel        Hb  \\\n",
       "0 -1.715476  Jafor Alam   -0.855838      1.271407     0.218811 -2.339593   \n",
       "1 -1.682166     khadiza   -0.018152     -0.443182     0.372828  0.539433   \n",
       "2 -1.648855        Lalu   -0.229589      0.059603     0.279061 -0.180324   \n",
       "3 -1.615545   Mira nath   -0.397605      0.073956     0.506289  0.539433   \n",
       "4 -1.582235     monoara   -0.844599      1.177729     0.276175  0.099582   \n",
       "\n",
       "   Anaemic  \n",
       "0        1  \n",
       "1        0  \n",
       "2        0  \n",
       "3        0  \n",
       "4        0  "
      ]
     },
     "execution_count": 12,
     "metadata": {},
     "output_type": "execute_result"
    }
   ],
   "source": [
    "df2.head()"
   ]
  },
  {
   "cell_type": "markdown",
   "metadata": {},
   "source": [
    "# Redes neuronales"
   ]
  },
  {
   "cell_type": "code",
   "execution_count": 13,
   "metadata": {},
   "outputs": [],
   "source": [
    "# Definir X e y\n",
    "X = df2.drop(columns=['Name','Anaemic'])\n",
    "y = df2['Anaemic']"
   ]
  },
  {
   "cell_type": "code",
   "execution_count": 14,
   "metadata": {},
   "outputs": [],
   "source": [
    "from sklearn.model_selection import train_test_split\n",
    "X_train, X_test, y_train, y_test = train_test_split(X, y, test_size=0.2, random_state=42)"
   ]
  },
  {
   "cell_type": "code",
   "execution_count": 15,
   "metadata": {},
   "outputs": [],
   "source": [
    "oculta = tf.keras.layers.Dense(units=32, activation='relu', input_shape=[X_train.shape[1]])\n",
    "dropout = tf.keras.layers.Dropout(0.3)\n",
    "oculta1 = tf.keras.layers.Dense(units=16, activation='relu')\n",
    "dropout1 = tf.keras.layers.Dropout(0.3)\n",
    "salida = tf.keras.layers.Dense(units=1,activation='sigmoid')\n",
    "modelo = tf.keras.Sequential([oculta,dropout,oculta1,dropout1,salida])"
   ]
  },
  {
   "cell_type": "code",
   "execution_count": 16,
   "metadata": {},
   "outputs": [],
   "source": [
    "modelo.compile(optimizer=tf.keras.optimizers.Adam(0.001), loss='binary_crossentropy', metrics=['accuracy'])"
   ]
  },
  {
   "cell_type": "code",
   "execution_count": 17,
   "metadata": {},
   "outputs": [],
   "source": [
    "# Implementar el early_stopping\n",
    "early_stopping = tf.keras.callbacks.EarlyStopping(monitor='val_loss',patience=10,restore_best_weights=True)"
   ]
  },
  {
   "cell_type": "code",
   "execution_count": 18,
   "metadata": {},
   "outputs": [
    {
     "name": "stdout",
     "output_type": "stream",
     "text": [
      "Entrenando Modelo\n",
      "Modelo entrenado\n"
     ]
    }
   ],
   "source": [
    "# Entrenar modelo\n",
    "print('Entrenando Modelo')\n",
    "historial = modelo.fit(X_train,y_train,epochs=10000,batch_size=16,verbose=False,validation_split=0.2,callbacks=[early_stopping])\n",
    "print('Modelo entrenado')"
   ]
  },
  {
   "cell_type": "code",
   "execution_count": 19,
   "metadata": {},
   "outputs": [
    {
     "data": {
      "text/plain": [
       "<matplotlib.legend.Legend at 0x221a42400b0>"
      ]
     },
     "execution_count": 19,
     "metadata": {},
     "output_type": "execute_result"
    },
    {
     "data": {
      "image/png": "[encoded data removed]",
      "text/plain": [
       "<Figure size 640x480 with 1 Axes>"
      ]
     },
     "metadata": {},
     "output_type": "display_data"
    }
   ],
   "source": [
    "plt.xlabel('# Epocas')\n",
    "plt.ylabel('Magnitud de perdida')\n",
    "plt.plot(historial.history['loss'])\n",
    "plt.plot(historial.history['val_loss'])\n",
    "plt.legend(['Entrenamiento','Validación'])"
   ]
  },
  {
   "cell_type": "code",
   "execution_count": 20,
   "metadata": {},
   "outputs": [
    {
     "name": "stdout",
     "output_type": "stream",
     "text": [
      "Vamos a hacer una predicción\n",
      "\u001b[1m1/1\u001b[0m \u001b[32m━━━━━━━━━━━━━━━━━━━━\u001b[0m\u001b[37m\u001b[0m \u001b[1m0s\u001b[0m 128ms/step\n",
      "El resultado es: 2.1437312921326567e-20\n"
     ]
    }
   ],
   "source": [
    "# Realizar la predicción\n",
    "print('Vamos a hacer una predicción')\n",
    "nuevo_dato = np.array([[1, 3, 10, 70, 10]])  # Ejemplo de nuevo dato con las 7 características numéricas\n",
    "nuevo_dato[:, :5] = scaler.transform(nuevo_dato[:, :5])  # Escalar las características numéricas\n",
    "resultado = modelo.predict(nuevo_dato)\n",
    "\n",
    "print(f'El resultado es: {resultado[0][0]}') "
   ]
  },
  {
   "cell_type": "code",
   "execution_count": 21,
   "metadata": {},
   "outputs": [
    {
     "name": "stdout",
     "output_type": "stream",
     "text": [
      "El resultado es: 0\n",
      "El resultado es: 0, predicción: 0, No tiene anemia\n"
     ]
    }
   ],
   "source": [
    "# Convertir la probabilidad a una predicción binaria\n",
    "prediccion_binaria = (resultado > 0.5).astype(int)\n",
    "\n",
    "# Imprimir el resultado y la predicción\n",
    "print(f'El resultado es: {prediccion_binaria[0][0]}')\n",
    "if prediccion_binaria[0][0] == 0:\n",
    "    print(f'El resultado es: {prediccion_binaria[0][0]}, predicción: 0, No tiene anemia')\n",
    "else:\n",
    "    print(f'El resultado es: {prediccion_binaria[0][0]}, predicción: 1, Si tiene anemia')"
   ]
  },
  {
   "cell_type": "code",
   "execution_count": 22,
   "metadata": {},
   "outputs": [
    {
     "name": "stdout",
     "output_type": "stream",
     "text": [
      "\u001b[1m4/4\u001b[0m \u001b[32m━━━━━━━━━━━━━━━━━━━━\u001b[0m\u001b[37m\u001b[0m \u001b[1m0s\u001b[0m 10ms/step\n",
      "     Number        Name  %Red Pixel  %Green pixel  %Blue pixel        Hb  \\\n",
      "0 -1.715476  Jafor Alam   -0.855838      1.271407     0.218811 -2.339593   \n",
      "1 -1.682166     khadiza   -0.018152     -0.443182     0.372828  0.539433   \n",
      "2 -1.648855        Lalu   -0.229589      0.059603     0.279061 -0.180324   \n",
      "3 -1.615545   Mira nath   -0.397605      0.073956     0.506289  0.539433   \n",
      "4 -1.582235     monoara   -0.844599      1.177729     0.276175  0.099582   \n",
      "\n",
      "   Anaemic  Anaemic_pred  \n",
      "0        1             1  \n",
      "1        0             0  \n",
      "2        0             0  \n",
      "3        0             0  \n",
      "4        0             0  \n"
     ]
    }
   ],
   "source": [
    "# Realizar predicciones usando el modelo entrenado\n",
    "predicciones = modelo.predict(X)\n",
    "\n",
    "predicciones_binarias = (predicciones > 0.5).astype(int).flatten()\n",
    "\n",
    "df2['Anaemic_pred'] = predicciones_binarias\n",
    "\n",
    "# Verificar las primeras filas del DataFrame con las predicciones\n",
    "print(df2.head())"
   ]
  },
  {
   "cell_type": "code",
   "execution_count": 23,
   "metadata": {},
   "outputs": [],
   "source": [
    "# Comparar las predicciones con los valores reales\n",
    "correct_prediction = (df2['Anaemic_pred'] == df2['Anaemic']).sum()"
   ]
  },
  {
   "cell_type": "code",
   "execution_count": 24,
   "metadata": {},
   "outputs": [
    {
     "name": "stdout",
     "output_type": "stream",
     "text": [
      "Precisión: 96.15%\n",
      "Margen de error: 3.85%\n"
     ]
    }
   ],
   "source": [
    "total_predicciones = len(df2)\n",
    "precisión = (correct_prediction / total_predicciones) * 100\n",
    "print(f'Precisión: {precisión:.2f}%')\n",
    "\n",
    "margen_de_error = 100 - precisión\n",
    "print(f'Margen de error: {margen_de_error:.2f}%')"
   ]
  },
  {
   "cell_type": "code",
   "execution_count": 25,
   "metadata": {},
   "outputs": [
    {
     "data": {
      "text/plain": [
       "Anaemic\n",
       "0    78\n",
       "1    26\n",
       "Name: count, dtype: int64"
      ]
     },
     "execution_count": 25,
     "metadata": {},
     "output_type": "execute_result"
    }
   ],
   "source": [
    "df2['Anaemic'].value_counts()"
   ]
  },
  {
   "cell_type": "code",
   "execution_count": 26,
   "metadata": {},
   "outputs": [
    {
     "data": {
      "text/plain": [
       "Anaemic_pred\n",
       "0    80\n",
       "1    24\n",
       "Name: count, dtype: int64"
      ]
     },
     "execution_count": 26,
     "metadata": {},
     "output_type": "execute_result"
    }
   ],
   "source": [
    "df2['Anaemic_pred'].value_counts()"
   ]
  },
  {
   "cell_type": "markdown",
   "metadata": {},
   "source": [
    "# Evaluación\n",
    "\n",
    "```python\n",
    "oculta = tf.keras.layers.Dense(units=32, activation='relu', input_shape=[X_train.shape[1]])\n",
    "dropout = tf.keras.layers.Dropout(0.3)\n",
    "oculta1 = tf.keras.layers.Dense(units=16, activation='relu')\n",
    "dropout1 = tf.keras.layers.Dropout(0.3)\n",
    "salida = tf.keras.layers.Dense(units=1,activation='sigmoid')"
   ]
  }
 ],
 "metadata": {
  "kernelspec": {
   "display_name": "Python 3",
   "language": "python",
   "name": "python3"
  },
  "language_info": {
   "codemirror_mode": {
    "name": "ipython",
    "version": 3
   },
   "file_extension": ".py",
   "mimetype": "text/x-python",
   "name": "python",
   "nbconvert_exporter": "python",
   "pygments_lexer": "ipython3",
   "version": "3.12.1"
  }
 },
 "nbformat": 4,
 "nbformat_minor": 2
}
