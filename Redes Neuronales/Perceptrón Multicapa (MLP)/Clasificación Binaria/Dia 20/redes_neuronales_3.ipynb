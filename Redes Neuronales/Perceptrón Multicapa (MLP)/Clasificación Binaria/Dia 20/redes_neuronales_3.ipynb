{
 "cells": [
  {
   "cell_type": "code",
   "execution_count": null,
   "metadata": {},
   "outputs": [],
   "source": [
    "import pandas as pd\n",
    "import numpy as np\n",
    "from sklearn.impute import KNNImputer\n",
    "import matplotlib.pyplot as plt\n",
    "import warnings\n",
    "import seaborn as sns\n",
    "from sklearn.preprocessing import OneHotEncoder\n",
    "import joblib\n",
    "import tensorflow as tf"
   ]
  },
  {
   "cell_type": "code",
   "execution_count": null,
   "metadata": {},
   "outputs": [],
   "source": [
    "# Crear un rango de temperaturas en Rankine y su conversión a Réaumur\n",
    "rankine_temps = np.array([0,100, 200, 300, 400, 500, 600], dtype=float)\n",
    "reaumur_temps = (rankine_temps - 491.67) / 2.25\n",
    "\n",
    "# Crear el DataFrame\n",
    "new_temperature_data_practice = pd.DataFrame({\n",
    "    'Rankine': rankine_temps,\n",
    "    'Reaumur': reaumur_temps\n",
    "})"
   ]
  },
  {
   "cell_type": "code",
   "execution_count": null,
   "metadata": {},
   "outputs": [],
   "source": [
    "capa  = tf.keras.layers.Dense(units=3,input_shape=[1])\n",
    "salida  = tf.keras.layers.Dense(units=1)\n",
    "modelo  = tf.keras.Sequential([capa,salida])"
   ]
  },
  {
   "cell_type": "code",
   "execution_count": null,
   "metadata": {},
   "outputs": [],
   "source": [
    "modelo.compile(optimizer=tf.keras.optimizers.Adam(0.1),loss='mean_squared_error')"
   ]
  },
  {
   "cell_type": "code",
   "execution_count": null,
   "metadata": {},
   "outputs": [],
   "source": [
    "print('Comenzando entrenamiento')\n",
    "historial = modelo.fit(rankine_temps,reaumur_temps,epochs=300)\n",
    "print('Modelo entrenado')"
   ]
  },
  {
   "cell_type": "code",
   "execution_count": null,
   "metadata": {},
   "outputs": [],
   "source": [
    "plt.xlabel('# epoca')\n",
    "plt.ylabel('Magnitud de perdida')\n",
    "plt.plot(historial.history['loss'])"
   ]
  },
  {
   "cell_type": "code",
   "execution_count": null,
   "metadata": {},
   "outputs": [],
   "source": [
    "print('Vamos a hacer una predicción')\n",
    "resultado = modelo.predict(np.array([[100.0]]))  # corregir esta parte\n",
    "print('El resultado es ' + str(resultado[0][0]) + ' Reamure') "
   ]
  },
  {
   "cell_type": "code",
   "execution_count": null,
   "metadata": {},
   "outputs": [],
   "source": [
    "print('Variables internas del modelo')\n",
    "print(capa.get_weights())"
   ]
  }
 ],
 "metadata": {
  "kernelspec": {
   "display_name": "Python 3",
   "language": "python",
   "name": "python3"
  },
  "language_info": {
   "codemirror_mode": {
    "name": "ipython",
    "version": 3
   },
   "file_extension": ".py",
   "mimetype": "text/x-python",
   "name": "python",
   "nbconvert_exporter": "python",
   "pygments_lexer": "ipython3",
   "version": "3.12.1"
  }
 },
 "nbformat": 4,
 "nbformat_minor": 2
}
