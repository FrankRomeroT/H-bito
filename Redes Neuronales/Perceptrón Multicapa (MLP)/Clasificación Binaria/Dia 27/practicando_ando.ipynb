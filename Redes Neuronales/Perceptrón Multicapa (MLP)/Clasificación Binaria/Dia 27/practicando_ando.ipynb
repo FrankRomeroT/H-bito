{
 "cells": [
  {
   "cell_type": "code",
   "execution_count": 45,
   "metadata": {},
   "outputs": [],
   "source": [
    "import pandas as pd\n",
    "import numpy as np\n",
    "from sklearn.impute import KNNImputer\n",
    "import matplotlib.pyplot as plt\n",
    "import warnings\n",
    "warnings.filterwarnings(\"ignore\")\n",
    "import seaborn as sns\n",
    "from sklearn.preprocessing import OneHotEncoder\n",
    "import joblib\n",
    "import tensorflow as tf"
   ]
  },
  {
   "cell_type": "code",
   "execution_count": 78,
   "metadata": {},
   "outputs": [
    {
     "data": {
      "text/html": [
       "<div>\n",
       "<style scoped>\n",
       "    .dataframe tbody tr th:only-of-type {\n",
       "        vertical-align: middle;\n",
       "    }\n",
       "\n",
       "    .dataframe tbody tr th {\n",
       "        vertical-align: top;\n",
       "    }\n",
       "\n",
       "    .dataframe thead th {\n",
       "        text-align: right;\n",
       "    }\n",
       "</style>\n",
       "<table border=\"1\" class=\"dataframe\">\n",
       "  <thead>\n",
       "    <tr style=\"text-align: right;\">\n",
       "      <th></th>\n",
       "      <th>Age</th>\n",
       "      <th>Income</th>\n",
       "      <th>CreditScore</th>\n",
       "      <th>LoanAmount</th>\n",
       "      <th>LoanTerm</th>\n",
       "      <th>Default</th>\n",
       "    </tr>\n",
       "  </thead>\n",
       "  <tbody>\n",
       "    <tr>\n",
       "      <th>0</th>\n",
       "      <td>56</td>\n",
       "      <td>125186</td>\n",
       "      <td>414</td>\n",
       "      <td>12239</td>\n",
       "      <td>31</td>\n",
       "      <td>0</td>\n",
       "    </tr>\n",
       "    <tr>\n",
       "      <th>1</th>\n",
       "      <td>69</td>\n",
       "      <td>54674</td>\n",
       "      <td>622</td>\n",
       "      <td>11710</td>\n",
       "      <td>35</td>\n",
       "      <td>0</td>\n",
       "    </tr>\n",
       "    <tr>\n",
       "      <th>2</th>\n",
       "      <td>46</td>\n",
       "      <td>55854</td>\n",
       "      <td>339</td>\n",
       "      <td>26384</td>\n",
       "      <td>33</td>\n",
       "      <td>0</td>\n",
       "    </tr>\n",
       "    <tr>\n",
       "      <th>3</th>\n",
       "      <td>32</td>\n",
       "      <td>66271</td>\n",
       "      <td>339</td>\n",
       "      <td>26038</td>\n",
       "      <td>40</td>\n",
       "      <td>0</td>\n",
       "    </tr>\n",
       "    <tr>\n",
       "      <th>4</th>\n",
       "      <td>60</td>\n",
       "      <td>93688</td>\n",
       "      <td>588</td>\n",
       "      <td>45846</td>\n",
       "      <td>33</td>\n",
       "      <td>1</td>\n",
       "    </tr>\n",
       "    <tr>\n",
       "      <th>5</th>\n",
       "      <td>25</td>\n",
       "      <td>58518</td>\n",
       "      <td>561</td>\n",
       "      <td>27447</td>\n",
       "      <td>55</td>\n",
       "      <td>0</td>\n",
       "    </tr>\n",
       "    <tr>\n",
       "      <th>6</th>\n",
       "      <td>38</td>\n",
       "      <td>131076</td>\n",
       "      <td>515</td>\n",
       "      <td>7285</td>\n",
       "      <td>20</td>\n",
       "      <td>0</td>\n",
       "    </tr>\n",
       "    <tr>\n",
       "      <th>7</th>\n",
       "      <td>56</td>\n",
       "      <td>30267</td>\n",
       "      <td>446</td>\n",
       "      <td>42991</td>\n",
       "      <td>48</td>\n",
       "      <td>1</td>\n",
       "    </tr>\n",
       "    <tr>\n",
       "      <th>8</th>\n",
       "      <td>36</td>\n",
       "      <td>110825</td>\n",
       "      <td>635</td>\n",
       "      <td>18521</td>\n",
       "      <td>21</td>\n",
       "      <td>0</td>\n",
       "    </tr>\n",
       "    <tr>\n",
       "      <th>9</th>\n",
       "      <td>40</td>\n",
       "      <td>21062</td>\n",
       "      <td>467</td>\n",
       "      <td>11971</td>\n",
       "      <td>47</td>\n",
       "      <td>1</td>\n",
       "    </tr>\n",
       "  </tbody>\n",
       "</table>\n",
       "</div>"
      ],
      "text/plain": [
       "   Age  Income  CreditScore  LoanAmount  LoanTerm  Default\n",
       "0   56  125186          414       12239        31        0\n",
       "1   69   54674          622       11710        35        0\n",
       "2   46   55854          339       26384        33        0\n",
       "3   32   66271          339       26038        40        0\n",
       "4   60   93688          588       45846        33        1\n",
       "5   25   58518          561       27447        55        0\n",
       "6   38  131076          515        7285        20        0\n",
       "7   56   30267          446       42991        48        1\n",
       "8   36  110825          635       18521        21        0\n",
       "9   40   21062          467       11971        47        1"
      ]
     },
     "execution_count": 78,
     "metadata": {},
     "output_type": "execute_result"
    }
   ],
   "source": [
    "# Generar un DataFrame de ejemplo para práctica de redes neuronales\n",
    "\n",
    "np.random.seed(42)\n",
    "\n",
    "# Definir el número de muestras\n",
    "num_samples = 1000\n",
    "\n",
    "# Generar características aleatorias\n",
    "age = np.random.randint(18, 70, num_samples)  # Edad\n",
    "income = np.random.randint(20000, 150000, num_samples)  # Ingresos anuales\n",
    "credit_score = np.random.randint(300, 850, num_samples)  # Puntuación de crédito\n",
    "loan_amount = np.random.randint(5000, 50000, num_samples)  # Monto del préstamo\n",
    "loan_term = np.random.randint(12, 60, num_samples)  # Plazo del préstamo en meses\n",
    "\n",
    "# Generar una salida binaria basada en una combinación de las características\n",
    "default = ((income < 50000) & (credit_score < 600)) | (loan_amount > 30000)\n",
    "\n",
    "# Crear el DataFrame\n",
    "df = pd.DataFrame({\n",
    "    'Age': age,\n",
    "    'Income': income,\n",
    "    'CreditScore': credit_score,\n",
    "    'LoanAmount': loan_amount,\n",
    "    'LoanTerm': loan_term,\n",
    "    'Default': default.astype(int)\n",
    "})\n",
    "\n",
    "df.head(10)\n"
   ]
  },
  {
   "cell_type": "code",
   "execution_count": 47,
   "metadata": {},
   "outputs": [
    {
     "name": "stdout",
     "output_type": "stream",
     "text": [
      "Número de observaciones (filas) = 1000\n",
      "Total de variables disponibles (columnas) = 6 \n",
      "Columnas que cuentan con un valor nulo -\n",
      "Age            0\n",
      "Income         0\n",
      "CreditScore    0\n",
      "LoanAmount     0\n",
      "LoanTerm       0\n",
      "Default        0\n",
      "dtype: int64\n"
     ]
    }
   ],
   "source": [
    "df2 = df.copy()\n",
    "print('Número de observaciones (filas) = {}'.format(df2.shape[0]))\n",
    "print('Total de variables disponibles (columnas) = {} '.format(df2.columns.shape[0]))\n",
    "print('Columnas que cuentan con un valor nulo -')\n",
    "print(df2.isnull().sum())"
   ]
  },
  {
   "cell_type": "code",
   "execution_count": 48,
   "metadata": {},
   "outputs": [
    {
     "name": "stdout",
     "output_type": "stream",
     "text": [
      "<class 'pandas.core.frame.DataFrame'>\n",
      "RangeIndex: 1000 entries, 0 to 999\n",
      "Data columns (total 6 columns):\n",
      " #   Column       Non-Null Count  Dtype\n",
      "---  ------       --------------  -----\n",
      " 0   Age          1000 non-null   int32\n",
      " 1   Income       1000 non-null   int32\n",
      " 2   CreditScore  1000 non-null   int32\n",
      " 3   LoanAmount   1000 non-null   int32\n",
      " 4   LoanTerm     1000 non-null   int32\n",
      " 5   Default      1000 non-null   int32\n",
      "dtypes: int32(6)\n",
      "memory usage: 23.6 KB\n"
     ]
    }
   ],
   "source": [
    "df2.info()"
   ]
  },
  {
   "cell_type": "code",
   "execution_count": 49,
   "metadata": {},
   "outputs": [
    {
     "data": {
      "text/plain": [
       "Text(0.5, 1.0, 'Default')"
      ]
     },
     "execution_count": 49,
     "metadata": {},
     "output_type": "execute_result"
    },
    {
     "data": {
      "image/png": "[encoded data removed]",
      "text/plain": [
       "<Figure size 1500x1200 with 6 Axes>"
      ]
     },
     "metadata": {},
     "output_type": "display_data"
    }
   ],
   "source": [
    "# Crear histogramas mejorados\n",
    "fig, axes = plt.subplots(nrows=2, ncols=3, figsize=(15, 12))\n",
    "df2.hist(ax=axes, bins=20, color='skyblue', edgecolor='black', alpha=0.7)\n",
    "\n",
    "# Añadir títulos a cada subgráfico\n",
    "axes[0, 0].set_title('Age')\n",
    "axes[0, 1].set_title('Income')\n",
    "axes[0, 2].set_title('CreditScore')\n",
    "axes[1, 0].set_title('LoanAmount')\n",
    "axes[1, 1].set_title('LoanTerm')\n",
    "axes[1, 2].set_title('Default')"
   ]
  },
  {
   "cell_type": "code",
   "execution_count": 50,
   "metadata": {},
   "outputs": [],
   "source": [
    "# Definir características numéricas y categóricas\n",
    "\n",
    "numeric_features = ['Age','Income','CreditScore','LoanAmount','LoanTerm']"
   ]
  },
  {
   "cell_type": "code",
   "execution_count": 51,
   "metadata": {},
   "outputs": [],
   "source": [
    "\n",
    "from sklearn.preprocessing import StandardScaler\n",
    "\n",
    "scaler = StandardScaler()\n",
    "df2[numeric_features] = scaler.fit_transform(df2[numeric_features])"
   ]
  },
  {
   "cell_type": "code",
   "execution_count": 52,
   "metadata": {},
   "outputs": [
    {
     "data": {
      "text/html": [
       "<div>\n",
       "<style scoped>\n",
       "    .dataframe tbody tr th:only-of-type {\n",
       "        vertical-align: middle;\n",
       "    }\n",
       "\n",
       "    .dataframe tbody tr th {\n",
       "        vertical-align: top;\n",
       "    }\n",
       "\n",
       "    .dataframe thead th {\n",
       "        text-align: right;\n",
       "    }\n",
       "</style>\n",
       "<table border=\"1\" class=\"dataframe\">\n",
       "  <thead>\n",
       "    <tr style=\"text-align: right;\">\n",
       "      <th></th>\n",
       "      <th>Age</th>\n",
       "      <th>Income</th>\n",
       "      <th>CreditScore</th>\n",
       "      <th>LoanAmount</th>\n",
       "      <th>LoanTerm</th>\n",
       "      <th>Default</th>\n",
       "    </tr>\n",
       "  </thead>\n",
       "  <tbody>\n",
       "    <tr>\n",
       "      <th>0</th>\n",
       "      <td>0.812959</td>\n",
       "      <td>1.048640</td>\n",
       "      <td>-1.018735</td>\n",
       "      <td>-1.132181</td>\n",
       "      <td>-0.311433</td>\n",
       "      <td>0</td>\n",
       "    </tr>\n",
       "    <tr>\n",
       "      <th>1</th>\n",
       "      <td>1.680578</td>\n",
       "      <td>-0.787052</td>\n",
       "      <td>0.298065</td>\n",
       "      <td>-1.173108</td>\n",
       "      <td>-0.024530</td>\n",
       "      <td>0</td>\n",
       "    </tr>\n",
       "    <tr>\n",
       "      <th>2</th>\n",
       "      <td>0.145560</td>\n",
       "      <td>-0.756332</td>\n",
       "      <td>-1.493542</td>\n",
       "      <td>-0.037844</td>\n",
       "      <td>-0.167982</td>\n",
       "      <td>0</td>\n",
       "    </tr>\n",
       "    <tr>\n",
       "      <th>3</th>\n",
       "      <td>-0.788799</td>\n",
       "      <td>-0.485138</td>\n",
       "      <td>-1.493542</td>\n",
       "      <td>-0.064612</td>\n",
       "      <td>0.334099</td>\n",
       "      <td>0</td>\n",
       "    </tr>\n",
       "    <tr>\n",
       "      <th>4</th>\n",
       "      <td>1.079919</td>\n",
       "      <td>0.228629</td>\n",
       "      <td>0.082819</td>\n",
       "      <td>1.467847</td>\n",
       "      <td>-0.167982</td>\n",
       "      <td>1</td>\n",
       "    </tr>\n",
       "  </tbody>\n",
       "</table>\n",
       "</div>"
      ],
      "text/plain": [
       "        Age    Income  CreditScore  LoanAmount  LoanTerm  Default\n",
       "0  0.812959  1.048640    -1.018735   -1.132181 -0.311433        0\n",
       "1  1.680578 -0.787052     0.298065   -1.173108 -0.024530        0\n",
       "2  0.145560 -0.756332    -1.493542   -0.037844 -0.167982        0\n",
       "3 -0.788799 -0.485138    -1.493542   -0.064612  0.334099        0\n",
       "4  1.079919  0.228629     0.082819    1.467847 -0.167982        1"
      ]
     },
     "execution_count": 52,
     "metadata": {},
     "output_type": "execute_result"
    }
   ],
   "source": [
    "df2.head()"
   ]
  },
  {
   "cell_type": "markdown",
   "metadata": {},
   "source": [
    "# Redes Neuronales"
   ]
  },
  {
   "cell_type": "code",
   "execution_count": 53,
   "metadata": {},
   "outputs": [],
   "source": [
    "# Definir X e y\n",
    "X = df2.drop(columns=['Default'])\n",
    "y = df2['Default']\n",
    "\n",
    "from sklearn.model_selection import train_test_split\n",
    "X_train, X_test, y_train, y_test = train_test_split(X, y, test_size=0.2, random_state=42)"
   ]
  },
  {
   "cell_type": "code",
   "execution_count": 54,
   "metadata": {},
   "outputs": [],
   "source": [
    "# Calcular el número de muestras de cada clase\n",
    "#class_counts = y_train.value_counts()  # type: ignore\n",
    "#total_samples = len(y_train)  # type: ignore\n",
    "\n",
    "# Verificar los valores en class_counts\n",
    "#print(\"Recuento de clases en y_train:\", class_counts)\n",
    "\n",
    "# Calcular los pesos de cada clase\n",
    "#weights = {\n",
    " #   0: total_samples / (2 * class_counts[0]),  # 0 / 2982 = 5880 / 2982*2 = 5880 / 5,964\n",
    "  #  1: total_samples / (2 * class_counts[1])   # 1 / 2898 = 5880 / 2898*2 = 5880 / 5,796\n",
    "#}\n",
    "\n",
    "#print(\"Pesos de clase:\", weights)"
   ]
  },
  {
   "cell_type": "code",
   "execution_count": 55,
   "metadata": {},
   "outputs": [],
   "source": [
    "oculta = tf.keras.layers.Dense(units=1024, activation='relu', input_shape=[X_train.shape[1]])\n",
    "dropout = tf.keras.layers.Dropout(0.3)\n",
    "\n",
    "oculta1 = tf.keras.layers.Dense(units=512, activation='relu')\n",
    "dropout1 = tf.keras.layers.Dropout(0.3)\n",
    "\n",
    "oculta2 = tf.keras.layers.Dense(units=256, activation='relu')\n",
    "dropout2 = tf.keras.layers.Dropout(0.3)\n",
    "\n",
    "oculta3 = tf.keras.layers.Dense(units=128)\n",
    "dropout3 = tf.keras.layers.Dropout(0.3)\n",
    "\n",
    "oculta4 = tf.keras.layers.Dense(units=64, activation='relu')\n",
    "dropout4 = tf.keras.layers.Dropout(0.3)\n",
    "\n",
    "oculta5 = tf.keras.layers.Dense(units=32, activation='relu')\n",
    "dropout5 = tf.keras.layers.Dropout(0.3)\n",
    "\n",
    "oculta6 = tf.keras.layers.Dense(units=16)\n",
    "dropout6 = tf.keras.layers.Dropout(0.3)\n",
    "\n",
    "oculta7 = tf.keras.layers.Dense(units=8, activation='relu')\n",
    "dropout7 = tf.keras.layers.Dropout(0.3)\n",
    "\n",
    "oculta8 = tf.keras.layers.Dense(units=4, activation='relu')\n",
    "dropout8 = tf.keras.layers.Dropout(0.3)\n",
    "\n",
    "oculta9 = tf.keras.layers.Dense(units=2)\n",
    "dropout9 = tf.keras.layers.Dropout(0.3)\n",
    "\n",
    "oculta10 = tf.keras.layers.Dense(units=1, activation='relu')\n",
    "dropout10 = tf.keras.layers.Dropout(0.3)\n",
    "\n",
    "salida = tf.keras.layers.Dense(units=1,activation='sigmoid')\n",
    "modelo = tf.keras.Sequential([oculta,dropout,oculta1,dropout1,oculta2,dropout2,oculta3,dropout3,\n",
    "                              oculta4,dropout4,oculta5,dropout5,oculta6,\n",
    "                              dropout6,oculta7,dropout7,oculta8,dropout8\n",
    "                              ,oculta9,dropout9,oculta10,dropout10,salida])"
   ]
  },
  {
   "cell_type": "code",
   "execution_count": 56,
   "metadata": {},
   "outputs": [],
   "source": [
    "modelo.compile(optimizer=tf.keras.optimizers.Adam(0.0001), loss='binary_crossentropy', metrics=['accuracy'])"
   ]
  },
  {
   "cell_type": "code",
   "execution_count": 57,
   "metadata": {},
   "outputs": [],
   "source": [
    "# Implementar el early_stopping\n",
    "early_stopping = tf.keras.callbacks.EarlyStopping(monitor='val_loss',patience=10,restore_best_weights=True)"
   ]
  },
  {
   "cell_type": "code",
   "execution_count": 58,
   "metadata": {},
   "outputs": [
    {
     "name": "stdout",
     "output_type": "stream",
     "text": [
      "Entrenando modelo\n",
      "Modelo entrenado\n"
     ]
    }
   ],
   "source": [
    "# Entrenar el modelo\n",
    "print('Entrenando modelo')\n",
    "historial = modelo.fit(X_train, y_train, epochs=50, batch_size=16, verbose=False, validation_split=0.2, callbacks=[early_stopping])\n",
    "print('Modelo entrenado')"
   ]
  },
  {
   "cell_type": "code",
   "execution_count": 59,
   "metadata": {},
   "outputs": [
    {
     "data": {
      "text/plain": [
       "<matplotlib.legend.Legend at 0x230ad2c2ea0>"
      ]
     },
     "execution_count": 59,
     "metadata": {},
     "output_type": "execute_result"
    },
    {
     "data": {
      "image/png": "[encoded data removed]",
      "text/plain": [
       "<Figure size 640x480 with 1 Axes>"
      ]
     },
     "metadata": {},
     "output_type": "display_data"
    }
   ],
   "source": [
    "plt.xlabel('# Epocas')\n",
    "plt.ylabel('Magnitud de perdida')\n",
    "plt.plot(historial.history['loss'])\n",
    "plt.plot(historial.history['val_loss'])\n",
    "plt.legend(['Entrenamiento','Validación'])"
   ]
  },
  {
   "cell_type": "code",
   "execution_count": 60,
   "metadata": {},
   "outputs": [
    {
     "name": "stdout",
     "output_type": "stream",
     "text": [
      "Vamos a hacer una predicción\n",
      "\u001b[1m1/1\u001b[0m \u001b[32m━━━━━━━━━━━━━━━━━━━━\u001b[0m\u001b[37m\u001b[0m \u001b[1m0s\u001b[0m 109ms/step\n",
      "El resultado es: 0.5251970291137695\n"
     ]
    }
   ],
   "source": [
    "# Realizar la predicción\n",
    "print('Vamos a hacer una predicción')\n",
    "nuevo_dato = np.array([[1, 3, 10, 70, 10]])  # Ejemplo de nuevo dato con las 7 características numéricas\n",
    "nuevo_dato[:, :5] = scaler.transform(nuevo_dato[:, :5])  # Escalar las características numéricas\n",
    "resultado = modelo.predict(nuevo_dato)\n",
    "\n",
    "print(f'El resultado es: {resultado[0][0]}')    "
   ]
  },
  {
   "cell_type": "code",
   "execution_count": 77,
   "metadata": {},
   "outputs": [
    {
     "name": "stdout",
     "output_type": "stream",
     "text": [
      "El resultado es: 1\n",
      "El resultado es: 1, predicción: 1, Si cumple con los requisitos\n"
     ]
    }
   ],
   "source": [
    "# Convertir la probabilidad a una predicción binaria\n",
    "prediccion_binaria = (resultado > 0.5).astype(int)\n",
    "\n",
    "# Imprimir el resultado y la predicción\n",
    "print(f'El resultado es: {prediccion_binaria[0][0]}')\n",
    "if prediccion_binaria[0][0] == 0:\n",
    "    print(f'El resultado es: {prediccion_binaria[0][0]}, predicción: 0, No cumple con los requisitos')\n",
    "else:\n",
    "    print(f'El resultado es: {prediccion_binaria[0][0]}, predicción: 1, Si cumple con los requisitos')"
   ]
  },
  {
   "cell_type": "code",
   "execution_count": 62,
   "metadata": {},
   "outputs": [
    {
     "name": "stdout",
     "output_type": "stream",
     "text": [
      "\u001b[1m32/32\u001b[0m \u001b[32m━━━━━━━━━━━━━━━━━━━━\u001b[0m\u001b[37m\u001b[0m \u001b[1m0s\u001b[0m 4ms/step\n",
      "        Age    Income  CreditScore  LoanAmount  LoanTerm  Default  \\\n",
      "0  0.812959  1.048640    -1.018735   -1.132181 -0.311433        0   \n",
      "1  1.680578 -0.787052     0.298065   -1.173108 -0.024530        0   \n",
      "2  0.145560 -0.756332    -1.493542   -0.037844 -0.167982        0   \n",
      "3 -0.788799 -0.485138    -1.493542   -0.064612  0.334099        0   \n",
      "4  1.079919  0.228629     0.082819    1.467847 -0.167982        1   \n",
      "\n",
      "   Default_pred  \n",
      "0             0  \n",
      "1             0  \n",
      "2             1  \n",
      "3             1  \n",
      "4             1  \n"
     ]
    }
   ],
   "source": [
    "# Realizar predicciones usando el modelo entrenado\n",
    "predicciones = modelo.predict(X)\n",
    "\n",
    "predicciones_binarias = (predicciones > 0.5).astype(int).flatten()\n",
    "\n",
    "df2['Default_pred'] = predicciones_binarias\n",
    "\n",
    "# Verificar las primeras filas del DataFrame con las predicciones\n",
    "print(df2.head())"
   ]
  },
  {
   "cell_type": "code",
   "execution_count": 63,
   "metadata": {},
   "outputs": [],
   "source": [
    "# Comparar las predicciones con los valores reales\n",
    "correct_prediction = (df2['Default'] == df2['Default_pred']).sum()"
   ]
  },
  {
   "cell_type": "code",
   "execution_count": 64,
   "metadata": {},
   "outputs": [
    {
     "name": "stdout",
     "output_type": "stream",
     "text": [
      "Precisión: 95.60%\n",
      "Margen de error: 4.40%\n"
     ]
    }
   ],
   "source": [
    "total_predicciones = len(df2)\n",
    "precisión = (correct_prediction / total_predicciones) * 100\n",
    "print(f'Precisión: {precisión:.2f}%')\n",
    "\n",
    "margen_de_error = 100 - precisión\n",
    "print(f'Margen de error: {margen_de_error:.2f}%')"
   ]
  },
  {
   "cell_type": "code",
   "execution_count": 65,
   "metadata": {},
   "outputs": [
    {
     "data": {
      "text/plain": [
       "Default\n",
       "0    500\n",
       "1    500\n",
       "Name: count, dtype: int64"
      ]
     },
     "execution_count": 65,
     "metadata": {},
     "output_type": "execute_result"
    }
   ],
   "source": [
    "df2['Default'].value_counts()\n",
    "    "
   ]
  },
  {
   "cell_type": "code",
   "execution_count": 66,
   "metadata": {},
   "outputs": [
    {
     "data": {
      "text/plain": [
       "Default_pred\n",
       "1    512\n",
       "0    488\n",
       "Name: count, dtype: int64"
      ]
     },
     "execution_count": 66,
     "metadata": {},
     "output_type": "execute_result"
    }
   ],
   "source": [
    "df2['Default_pred'].value_counts()\n"
   ]
  },
  {
   "cell_type": "markdown",
   "metadata": {},
   "source": [
    "# 1. Evaluación"
   ]
  },
  {
   "cell_type": "markdown",
   "metadata": {},
   "source": [
    "```python\n",
    "oculta = tf.keras.layers.Dense(units=32, activation='relu', input_shape=[X_train.shape[1]])\n",
    "dropout = tf.keras.layers.Dropout(0.3)\n",
    "oculta1 = tf.keras.layers.Dense(units=16, activation='relu')\n",
    "dropout1 = tf.keras.layers.Dropout(0.3)\n",
    "oculta2 = tf.keras.layers.Dense(units=8, activation='relu')\n",
    "dropout2 = tf.keras.layers.Dropout(0.3)\n",
    "oculta3 = tf.keras.layers.Dense(units=4)\n",
    "dropout3 = tf.keras.layers.Dropout(0.3)\n",
    "salida = tf.keras.layers.Dense(units=1,activation='sigmoid')\n",
    "modelo = tf.keras.Sequential([oculta,dropout,oculta1,dropout1,oculta2,dropout2,oculta3,dropout3,salida])\n",
    "\n",
    "historial = modelo.fit(X_train, y_train, epochs=2000, batch_size=16, verbose=False, validation_split=0.2, callbacks=[early_stopping])\n",
    "\n",
    "early_stopping = tf.keras.callbacks.EarlyStopping(monitor='val_loss',patience=10,restore_best_weights=True)\n",
    "\n",
    "Precisión: 92.40%\n",
    "Margen de error: 7.60%"
   ]
  },
  {
   "cell_type": "markdown",
   "metadata": {},
   "source": [
    "# 2. Evaluación"
   ]
  },
  {
   "cell_type": "markdown",
   "metadata": {},
   "source": [
    "```python\n",
    "oculta = tf.keras.layers.Dense(units=32, activation='relu', input_shape=[X_train.shape[1]])\n",
    "dropout = tf.keras.layers.Dropout(0.3)\n",
    "\n",
    "oculta1 = tf.keras.layers.Dense(units=16, activation='relu')\n",
    "dropout1 = tf.keras.layers.Dropout(0.3)\n",
    "\n",
    "oculta2 = tf.keras.layers.Dense(units=8, activation='relu')\n",
    "dropout2 = tf.keras.layers.Dropout(0.3)\n",
    "\n",
    "oculta3 = tf.keras.layers.Dense(units=4)\n",
    "dropout3 = tf.keras.layers.Dropout(0.3)\n",
    "\n",
    "oculta4 = tf.keras.layers.Dense(units=16, activation='relu')\n",
    "dropout4 = tf.keras.layers.Dropout(0.3)\n",
    "\n",
    "oculta5 = tf.keras.layers.Dense(units=8, activation='relu')\n",
    "dropout5 = tf.keras.layers.Dropout(0.3)\n",
    "\n",
    "oculta6 = tf.keras.layers.Dense(units=4)\n",
    "dropout6 = tf.keras.layers.Dropout(0.3)\n",
    "\n",
    "oculta7 = tf.keras.layers.Dense(units=16, activation='relu')\n",
    "dropout7 = tf.keras.layers.Dropout(0.3)\n",
    "\n",
    "oculta8 = tf.keras.layers.Dense(units=8, activation='relu')\n",
    "dropout8 = tf.keras.layers.Dropout(0.3)\n",
    "\n",
    "oculta9 = tf.keras.layers.Dense(units=4)\n",
    "dropout9 = tf.keras.layers.Dropout(0.3)\n",
    "\n",
    "oculta10 = tf.keras.layers.Dense(units=16, activation='relu')\n",
    "dropout10 = tf.keras.layers.Dropout(0.3)\n",
    "\n",
    "salida = tf.keras.layers.Dense(units=1,activation='sigmoid')\n",
    "modelo = tf.keras.Sequential([oculta,dropout,oculta1,dropout1,oculta2,dropout2,oculta3,dropout3,\n",
    "                              oculta4,dropout4,oculta5,dropout5,oculta6,\n",
    "                              dropout6,oculta7,dropout7,oculta8,dropout8\n",
    "                              ,oculta9,dropout9,oculta10,dropout10,salida])\n",
    "\n",
    "historial = modelo.fit(X_train, y_train, epochs=2000, batch_size=16, verbose=False, validation_split=0.2, callbacks=[early_stopping])\n",
    "\n",
    "early_stopping = tf.keras.callbacks.EarlyStopping(monitor='val_loss',patience=10,restore_best_weights=True)\n",
    "\n",
    "Precisión: 90.60%\n",
    "Margen de error: 9.40%"
   ]
  },
  {
   "cell_type": "markdown",
   "metadata": {},
   "source": [
    "# 3. Evaluación\n",
    "```python\n",
    "oculta = tf.keras.layers.Dense(units=1024, activation='relu', input_shape=[X_train.shape[1]])\n",
    "dropout = tf.keras.layers.Dropout(0.3)\n",
    "\n",
    "oculta1 = tf.keras.layers.Dense(units=512, activation='relu')\n",
    "dropout1 = tf.keras.layers.Dropout(0.3)\n",
    "\n",
    "oculta2 = tf.keras.layers.Dense(units=256, activation='relu')\n",
    "dropout2 = tf.keras.layers.Dropout(0.3)\n",
    "\n",
    "oculta3 = tf.keras.layers.Dense(units=128)\n",
    "dropout3 = tf.keras.layers.Dropout(0.3)\n",
    "\n",
    "oculta4 = tf.keras.layers.Dense(units=64, activation='relu')\n",
    "dropout4 = tf.keras.layers.Dropout(0.3)\n",
    "\n",
    "oculta5 = tf.keras.layers.Dense(units=32, activation='relu')\n",
    "dropout5 = tf.keras.layers.Dropout(0.3)\n",
    "\n",
    "oculta6 = tf.keras.layers.Dense(units=16)\n",
    "dropout6 = tf.keras.layers.Dropout(0.3)\n",
    "\n",
    "oculta7 = tf.keras.layers.Dense(units=8, activation='relu')\n",
    "dropout7 = tf.keras.layers.Dropout(0.3)\n",
    "\n",
    "oculta8 = tf.keras.layers.Dense(units=4, activation='relu')\n",
    "dropout8 = tf.keras.layers.Dropout(0.3)\n",
    "\n",
    "oculta9 = tf.keras.layers.Dense(units=2)\n",
    "dropout9 = tf.keras.layers.Dropout(0.3)\n",
    "\n",
    "oculta10 = tf.keras.layers.Dense(units=1, activation='relu')\n",
    "dropout10 = tf.keras.layers.Dropout(0.3)\n",
    "\n",
    "salida = tf.keras.layers.Dense(units=1,activation='sigmoid')\n",
    "modelo = tf.keras.Sequential([oculta,dropout,oculta1,dropout1,oculta2,dropout2,oculta3,dropout3,\n",
    "                              oculta4,dropout4,oculta5,dropout5,oculta6,\n",
    "                              dropout6,oculta7,dropout7,oculta8,dropout8\n",
    "                              ,oculta9,dropout9,oculta10,dropout10,salida])\n",
    "\n",
    "historial = modelo.fit(X_train, y_train, epochs=2000, batch_size=16, verbose=False, validation_split=0.2, callbacks=[early_stopping])\n",
    "\n",
    "early_stopping = tf.keras.callbacks.EarlyStopping(monitor='val_loss',patience=10,restore_best_weights=True)\n",
    "\n",
    "Precisión: 94.60%\n",
    "Margen de error: 5.40%"
   ]
  },
  {
   "cell_type": "code",
   "execution_count": 75,
   "metadata": {},
   "outputs": [
    {
     "name": "stdout",
     "output_type": "stream",
     "text": [
      "WARNING:tensorflow:5 out of the last 35 calls to <function TensorFlowTrainer.make_predict_function.<locals>.one_step_on_data_distributed at 0x00000230A3B4CEA0> triggered tf.function retracing. Tracing is expensive and the excessive number of tracings could be due to (1) creating @tf.function repeatedly in a loop, (2) passing tensors with different shapes, (3) passing Python objects instead of tensors. For (1), please define your @tf.function outside of the loop. For (2), @tf.function has reduce_retracing=True option that can avoid unnecessary retracing. For (3), please refer to https://www.tensorflow.org/guide/function#controlling_retracing and https://www.tensorflow.org/api_docs/python/tf/function for  more details.\n"
     ]
    },
    {
     "name": "stderr",
     "output_type": "stream",
     "text": [
      "WARNING:tensorflow:5 out of the last 35 calls to <function TensorFlowTrainer.make_predict_function.<locals>.one_step_on_data_distributed at 0x00000230A3B4CEA0> triggered tf.function retracing. Tracing is expensive and the excessive number of tracings could be due to (1) creating @tf.function repeatedly in a loop, (2) passing tensors with different shapes, (3) passing Python objects instead of tensors. For (1), please define your @tf.function outside of the loop. For (2), @tf.function has reduce_retracing=True option that can avoid unnecessary retracing. For (3), please refer to https://www.tensorflow.org/guide/function#controlling_retracing and https://www.tensorflow.org/api_docs/python/tf/function for  more details.\n"
     ]
    },
    {
     "name": "stdout",
     "output_type": "stream",
     "text": [
      "\u001b[1m1/1\u001b[0m \u001b[32m━━━━━━━━━━━━━━━━━━━━\u001b[0m\u001b[37m\u001b[0m \u001b[1m0s\u001b[0m 118ms/step\n",
      "Predicciones para nuevos datos: [[0.02944687]\n",
      " [0.3539375 ]]\n",
      "Predicciones binarias para nuevos datos: [[0]\n",
      " [0]]\n"
     ]
    }
   ],
   "source": [
    "# Guardar el modelo en formato nativo de Keras\n",
    "modelo.save('modelo_entrenado.keras')\n",
    "\n",
    "# Cargar el modelo para evaluar con nuevos datos\n",
    "nuevo_modelo = tf.keras.models.load_model('modelo_entrenado.keras')\n",
    "\n",
    "# Preparar los nuevos datos (supongamos que los nuevos datos están en un DataFrame llamado nuevos_datos)\n",
    "nuevos_datos = pd.DataFrame({\n",
    "    'Age': [35, 42],\n",
    "    'Income': [45000, 55000],\n",
    "    'CreditScore': [700, 650],\n",
    "    'LoanAmount': [20000, 25000],\n",
    "    'LoanTerm': [24, 36]\n",
    "})\n",
    "\n",
    "# Estandarizar los nuevos datos\n",
    "numeric_features = ['Age', 'Income', 'CreditScore', 'LoanAmount', 'LoanTerm']\n",
    "nuevos_datos[numeric_features] = scaler.transform(nuevos_datos[numeric_features])\n",
    "\n",
    "# Hacer predicciones con el modelo cargado\n",
    "predicciones = nuevo_modelo.predict(nuevos_datos)\n",
    "print(\"Predicciones para nuevos datos:\", predicciones)\n",
    "\n",
    "# Convertir las predicciones a etiquetas binarias\n",
    "prediccion_binaria = (predicciones > 0.5).astype(int)\n",
    "print(\"Predicciones binarias para nuevos datos:\", prediccion_binaria)"
   ]
  },
  {
   "cell_type": "code",
   "execution_count": 76,
   "metadata": {},
   "outputs": [
    {
     "name": "stdout",
     "output_type": "stream",
     "text": [
      "   Prediction\n",
      "0           0\n",
      "1           0\n"
     ]
    }
   ],
   "source": [
    "# Convertir las predicciones binarias a DataFrame\n",
    "prediccion_binaria_df = pd.DataFrame(prediccion_binaria, columns=['Prediction'])\n",
    "\n",
    "# Mostrar las primeras filas\n",
    "print(prediccion_binaria_df.head())"
   ]
  },
  {
   "cell_type": "markdown",
   "metadata": {},
   "source": [
    "```python\n",
    "Edad / Ingresos Anuales / Puntuación de crédito / Monto del préstamo / Plazo del préstamo en meses / Default 0 (No) - 1 (Si)"
   ]
  }
 ],
 "metadata": {
  "kernelspec": {
   "display_name": "Python 3",
   "language": "python",
   "name": "python3"
  },
  "language_info": {
   "codemirror_mode": {
    "name": "ipython",
    "version": 3
   },
   "file_extension": ".py",
   "mimetype": "text/x-python",
   "name": "python",
   "nbconvert_exporter": "python",
   "pygments_lexer": "ipython3",
   "version": "3.12.1"
  }
 },
 "nbformat": 4,
 "nbformat_minor": 2
}
