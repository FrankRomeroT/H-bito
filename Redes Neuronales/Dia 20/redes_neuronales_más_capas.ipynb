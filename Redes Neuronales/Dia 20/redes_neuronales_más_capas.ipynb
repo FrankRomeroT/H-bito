{
 "cells": [
  {
   "cell_type": "code",
   "execution_count": 1,
   "metadata": {},
   "outputs": [],
   "source": [
    "import pandas as pd\n",
    "import numpy as np\n",
    "from sklearn.impute import KNNImputer\n",
    "import matplotlib.pyplot as plt\n",
    "import warnings\n",
    "import seaborn as sns\n",
    "from sklearn.preprocessing import OneHotEncoder\n",
    "import joblib\n",
    "import tensorflow as tf"
   ]
  },
  {
   "cell_type": "markdown",
   "metadata": {},
   "source": [
    "*Creditos: https://www.youtube.com/watch?v=iX_on3VxZzk&t=880s*"
   ]
  },
  {
   "cell_type": "code",
   "execution_count": 2,
   "metadata": {},
   "outputs": [],
   "source": [
    "celsius = np.array([-40, -10, 0, 8, 15, 22, 38], dtype=float)\n",
    "fahrenheit = np.array([-40, 14, 32, 46, 59, 72, 100], dtype=float)"
   ]
  },
  {
   "cell_type": "code",
   "execution_count": 3,
   "metadata": {},
   "outputs": [
    {
     "name": "stderr",
     "output_type": "stream",
     "text": [
      "c:\\Users\\FRANK\\AppData\\Local\\Programs\\Python\\Python312\\Lib\\site-packages\\keras\\src\\layers\\core\\dense.py:87: UserWarning: Do not pass an `input_shape`/`input_dim` argument to a layer. When using Sequential models, prefer using an `Input(shape)` object as the first layer in the model instead.\n",
      "  super().__init__(activity_regularizer=activity_regularizer, **kwargs)\n"
     ]
    }
   ],
   "source": [
    "#capa = tf.keras.layers.Dense (units=1, input_shape=[1])\n",
    "#modelo tf.keras.Sequential ([capa])\n",
    "\n",
    "oculta1 = tf.keras.layers.Dense(units=3,input_shape=[1])\n",
    "oculta2 = tf.keras.layers.Dense(units=3)\n",
    "salida  = tf.keras.layers.Dense(units=1)\n",
    "modelo  = tf.keras.Sequential([oculta1,oculta2,salida])"
   ]
  },
  {
   "cell_type": "code",
   "execution_count": 4,
   "metadata": {},
   "outputs": [],
   "source": [
    "modelo.compile(optimizer = tf.keras.optimizers.Adam(0.1),loss='mean_squared_error')"
   ]
  },
  {
   "cell_type": "code",
   "execution_count": 5,
   "metadata": {},
   "outputs": [
    {
     "name": "stdout",
     "output_type": "stream",
     "text": [
      "Comenzando entrenamiento\n",
      "Modelo entrenado\n"
     ]
    }
   ],
   "source": [
    "print('Comenzando entrenamiento')\n",
    "historial = modelo.fit(celsius,fahrenheit,epochs=1000,verbose=False)\n",
    "print('Modelo entrenado')"
   ]
  },
  {
   "cell_type": "code",
   "execution_count": 6,
   "metadata": {},
   "outputs": [
    {
     "data": {
      "text/plain": [
       "[<matplotlib.lines.Line2D at 0x20d83e8db80>]"
      ]
     },
     "execution_count": 6,
     "metadata": {},
     "output_type": "execute_result"
    },
    {
     "data": {
      "image/png": "[encoded data removed]",
      "text/plain": [
       "<Figure size 640x480 with 1 Axes>"
      ]
     },
     "metadata": {},
     "output_type": "display_data"
    }
   ],
   "source": [
    "plt.xlabel('# Epoca')\n",
    "plt.ylabel('Magnitud de pérdida')\n",
    "plt.plot(historial.history['loss'])"
   ]
  },
  {
   "cell_type": "code",
   "execution_count": 7,
   "metadata": {},
   "outputs": [
    {
     "name": "stdout",
     "output_type": "stream",
     "text": [
      "Vamos a hacer una predicción\n",
      "\u001b[1m1/1\u001b[0m \u001b[32m━━━━━━━━━━━━━━━━━━━━\u001b[0m\u001b[37m\u001b[0m \u001b[1m0s\u001b[0m 46ms/step\n",
      "El resultado es 211.7474 Fahrenheit\n"
     ]
    }
   ],
   "source": [
    "print('Vamos a hacer una predicción')\n",
    "resultado = modelo.predict(np.array([[100.0]]))  # corregir esta parte\n",
    "print('El resultado es ' + str(resultado[0][0]) + ' Fahrenheit')  # corregir esta parte"
   ]
  },
  {
   "cell_type": "code",
   "execution_count": 8,
   "metadata": {},
   "outputs": [
    {
     "name": "stdout",
     "output_type": "stream",
     "text": [
      "Variables internas del modelo\n",
      "[array([[-0.1903482 ,  0.72719824, -0.16995217]], dtype=float32), array([-3.6667247,  3.7544022, -3.3878613], dtype=float32)]\n",
      "[array([[ 0.22568896, -0.53150344,  1.3379687 ],\n",
      "       [ 0.38150364, -0.29674926, -1.1195298 ],\n",
      "       [-0.6231352 , -0.44625542,  0.08490632]], dtype=float32), array([ 3.2507632,  2.5398152, -3.6235292], dtype=float32)]\n",
      "[array([[ 1.235989  ],\n",
      "       [ 0.83999974],\n",
      "       [-1.3015054 ]], dtype=float32), array([3.527227], dtype=float32)]\n"
     ]
    }
   ],
   "source": [
    "print('Variables internas del modelo')\n",
    "print(oculta1.get_weights())\n",
    "print(oculta2.get_weights())\n",
    "print(salida.get_weights())"
   ]
  }
 ],
 "metadata": {
  "kernelspec": {
   "display_name": "Python 3",
   "language": "python",
   "name": "python3"
  },
  "language_info": {
   "codemirror_mode": {
    "name": "ipython",
    "version": 3
   },
   "file_extension": ".py",
   "mimetype": "text/x-python",
   "name": "python",
   "nbconvert_exporter": "python",
   "pygments_lexer": "ipython3",
   "version": "3.12.1"
  }
 },
 "nbformat": 4,
 "nbformat_minor": 2
}
