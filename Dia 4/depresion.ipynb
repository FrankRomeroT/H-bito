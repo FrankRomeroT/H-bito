{
 "cells": [
  {
   "cell_type": "code",
   "execution_count": 55,
   "metadata": {},
   "outputs": [],
   "source": [
    "import pandas as pd\n",
    "import numpy as np\n",
    "import matplotlib.pyplot as plt\n",
    "import seaborn as sns\n",
    "import warnings"
   ]
  },
  {
   "cell_type": "code",
   "execution_count": 56,
   "metadata": {},
   "outputs": [
    {
     "data": {
      "text/html": [
       "<div>\n",
       "<style scoped>\n",
       "    .dataframe tbody tr th:only-of-type {\n",
       "        vertical-align: middle;\n",
       "    }\n",
       "\n",
       "    .dataframe tbody tr th {\n",
       "        vertical-align: top;\n",
       "    }\n",
       "\n",
       "    .dataframe thead th {\n",
       "        text-align: right;\n",
       "    }\n",
       "</style>\n",
       "<table border=\"1\" class=\"dataframe\">\n",
       "  <thead>\n",
       "    <tr style=\"text-align: right;\">\n",
       "      <th></th>\n",
       "      <th>Number</th>\n",
       "      <th>Sleep</th>\n",
       "      <th>Appetite</th>\n",
       "      <th>Interest</th>\n",
       "      <th>Fatigue</th>\n",
       "      <th>Worthlessness</th>\n",
       "      <th>Concentration</th>\n",
       "      <th>Agitation</th>\n",
       "      <th>Suicidal Ideation</th>\n",
       "      <th>Sleep Disturbance</th>\n",
       "      <th>Aggression</th>\n",
       "      <th>Panic Attacks</th>\n",
       "      <th>Hopelessness</th>\n",
       "      <th>Restlessness</th>\n",
       "      <th>Low Energy</th>\n",
       "      <th>Depression State</th>\n",
       "    </tr>\n",
       "  </thead>\n",
       "  <tbody>\n",
       "    <tr>\n",
       "      <th>0</th>\n",
       "      <td>1</td>\n",
       "      <td>1.0</td>\n",
       "      <td>1.0</td>\n",
       "      <td>1.0</td>\n",
       "      <td>5.0</td>\n",
       "      <td>5.0</td>\n",
       "      <td>1.0</td>\n",
       "      <td>5.0</td>\n",
       "      <td>5.0</td>\n",
       "      <td>1.0</td>\n",
       "      <td>5.0</td>\n",
       "      <td>5.0</td>\n",
       "      <td>5.0</td>\n",
       "      <td>5.0</td>\n",
       "      <td>5.0</td>\n",
       "      <td>Mild</td>\n",
       "    </tr>\n",
       "    <tr>\n",
       "      <th>1</th>\n",
       "      <td>2</td>\n",
       "      <td>2.0</td>\n",
       "      <td>5.0</td>\n",
       "      <td>5.0</td>\n",
       "      <td>1.0</td>\n",
       "      <td>1.0</td>\n",
       "      <td>5.0</td>\n",
       "      <td>1.0</td>\n",
       "      <td>1.0</td>\n",
       "      <td>5.0</td>\n",
       "      <td>1.0</td>\n",
       "      <td>1.0</td>\n",
       "      <td>1.0</td>\n",
       "      <td>1.0</td>\n",
       "      <td>1.0</td>\n",
       "      <td>Moderate</td>\n",
       "    </tr>\n",
       "    <tr>\n",
       "      <th>2</th>\n",
       "      <td>3</td>\n",
       "      <td>5.0</td>\n",
       "      <td>2.0</td>\n",
       "      <td>2.0</td>\n",
       "      <td>2.0</td>\n",
       "      <td>2.0</td>\n",
       "      <td>2.0</td>\n",
       "      <td>2.0</td>\n",
       "      <td>2.0</td>\n",
       "      <td>2.0</td>\n",
       "      <td>2.0</td>\n",
       "      <td>2.0</td>\n",
       "      <td>2.0</td>\n",
       "      <td>2.0</td>\n",
       "      <td>2.0</td>\n",
       "      <td>Severe</td>\n",
       "    </tr>\n",
       "    <tr>\n",
       "      <th>3</th>\n",
       "      <td>4</td>\n",
       "      <td>1.0</td>\n",
       "      <td>1.0</td>\n",
       "      <td>1.0</td>\n",
       "      <td>5.0</td>\n",
       "      <td>5.0</td>\n",
       "      <td>1.0</td>\n",
       "      <td>5.0</td>\n",
       "      <td>5.0</td>\n",
       "      <td>1.0</td>\n",
       "      <td>5.0</td>\n",
       "      <td>5.0</td>\n",
       "      <td>5.0</td>\n",
       "      <td>5.0</td>\n",
       "      <td>5.0</td>\n",
       "      <td>No depression</td>\n",
       "    </tr>\n",
       "    <tr>\n",
       "      <th>4</th>\n",
       "      <td>5</td>\n",
       "      <td>2.0</td>\n",
       "      <td>5.0</td>\n",
       "      <td>5.0</td>\n",
       "      <td>1.0</td>\n",
       "      <td>1.0</td>\n",
       "      <td>5.0</td>\n",
       "      <td>1.0</td>\n",
       "      <td>1.0</td>\n",
       "      <td>5.0</td>\n",
       "      <td>1.0</td>\n",
       "      <td>1.0</td>\n",
       "      <td>1.0</td>\n",
       "      <td>1.0</td>\n",
       "      <td>1.0</td>\n",
       "      <td>Moderate</td>\n",
       "    </tr>\n",
       "  </tbody>\n",
       "</table>\n",
       "</div>"
      ],
      "text/plain": [
       "   Number   Sleep  Appetite  Interest  Fatigue  Worthlessness  Concentration  \\\n",
       "0        1    1.0       1.0       1.0      5.0            5.0            1.0   \n",
       "1        2    2.0       5.0       5.0      1.0            1.0            5.0   \n",
       "2        3    5.0       2.0       2.0      2.0            2.0            2.0   \n",
       "3        4    1.0       1.0       1.0      5.0            5.0            1.0   \n",
       "4        5    2.0       5.0       5.0      1.0            1.0            5.0   \n",
       "\n",
       "   Agitation  Suicidal Ideation  Sleep Disturbance  Aggression  Panic Attacks  \\\n",
       "0        5.0                5.0                1.0         5.0            5.0   \n",
       "1        1.0                1.0                5.0         1.0            1.0   \n",
       "2        2.0                2.0                2.0         2.0            2.0   \n",
       "3        5.0                5.0                1.0         5.0            5.0   \n",
       "4        1.0                1.0                5.0         1.0            1.0   \n",
       "\n",
       "   Hopelessness  Restlessness  Low Energy Depression State  \n",
       "0           5.0           5.0         5.0             Mild  \n",
       "1           1.0           1.0         1.0         Moderate  \n",
       "2           2.0           2.0         2.0           Severe  \n",
       "3           5.0           5.0         5.0    No depression  \n",
       "4           1.0           1.0         1.0         Moderate  "
      ]
     },
     "execution_count": 56,
     "metadata": {},
     "output_type": "execute_result"
    }
   ],
   "source": [
    "df = pd.read_csv('C:/Users/FRANK/Desktop/Proyectos Linkedin/Python Proyectos/Dia 4/Deepression.csv')\n",
    "df.head()"
   ]
  },
  {
   "cell_type": "code",
   "execution_count": 57,
   "metadata": {},
   "outputs": [
    {
     "name": "stdout",
     "output_type": "stream",
     "text": [
      "Número de observaciones = 813\n",
      "Total de variables disponibles = 16 \n",
      "Columnas que cuentan con un valor nulo-\n",
      "Number                 0\n",
      "Sleep                273\n",
      "Appetite             273\n",
      "Interest             273\n",
      "Fatigue              273\n",
      "Worthlessness        273\n",
      "Concentration        273\n",
      "Agitation            273\n",
      "Suicidal Ideation    273\n",
      "Sleep Disturbance    273\n",
      "Aggression           273\n",
      "Panic Attacks        273\n",
      "Hopelessness         273\n",
      "Restlessness         273\n",
      "Low Energy           273\n",
      "Depression State     273\n",
      "dtype: int64\n"
     ]
    }
   ],
   "source": [
    "df2 = df.copy()\n",
    "print('Número de observaciones = {}'.format(df2.shape[0]))\n",
    "print('Total de variables disponibles = {} '.format(df2.columns.shape[0]))\n",
    "print('Columnas que cuentan con un valor nulo-')\n",
    "print(df2.isnull().sum())"
   ]
  },
  {
   "cell_type": "code",
   "execution_count": 58,
   "metadata": {},
   "outputs": [
    {
     "name": "stdout",
     "output_type": "stream",
     "text": [
      "<class 'pandas.core.frame.DataFrame'>\n",
      "RangeIndex: 813 entries, 0 to 812\n",
      "Data columns (total 16 columns):\n",
      " #   Column             Non-Null Count  Dtype  \n",
      "---  ------             --------------  -----  \n",
      " 0   Number             813 non-null    int64  \n",
      " 1   Sleep              540 non-null    float64\n",
      " 2   Appetite           540 non-null    float64\n",
      " 3   Interest           540 non-null    float64\n",
      " 4   Fatigue            540 non-null    float64\n",
      " 5   Worthlessness      540 non-null    float64\n",
      " 6   Concentration      540 non-null    float64\n",
      " 7   Agitation          540 non-null    float64\n",
      " 8   Suicidal Ideation  540 non-null    float64\n",
      " 9   Sleep Disturbance  540 non-null    float64\n",
      " 10  Aggression         540 non-null    float64\n",
      " 11  Panic Attacks      540 non-null    float64\n",
      " 12  Hopelessness       540 non-null    float64\n",
      " 13  Restlessness       540 non-null    float64\n",
      " 14  Low Energy         540 non-null    float64\n",
      " 15  Depression State   540 non-null    object \n",
      "dtypes: float64(14), int64(1), object(1)\n",
      "memory usage: 101.8+ KB\n"
     ]
    }
   ],
   "source": [
    "df2.info()"
   ]
  },
  {
   "cell_type": "code",
   "execution_count": 59,
   "metadata": {},
   "outputs": [
    {
     "data": {
      "text/plain": [
       "Depression State\n",
       "No depression       157\n",
       "Mild                117\n",
       "Moderate            109\n",
       "Severe              108\n",
       "\\tNo depression      15\n",
       "\\tModerate           11\n",
       "\\tMild               11\n",
       "\\tSevere             10\n",
       "2\\tNo depression      1\n",
       "5\\tNo depression      1\n",
       "Name: count, dtype: int64"
      ]
     },
     "execution_count": 59,
     "metadata": {},
     "output_type": "execute_result"
    }
   ],
   "source": [
    "df2['Depression State'].value_counts()"
   ]
  },
  {
   "cell_type": "code",
   "execution_count": 60,
   "metadata": {},
   "outputs": [
    {
     "data": {
      "text/plain": [
       "Depression State\n",
       "No depression    174\n",
       "Mild             128\n",
       "Moderate         120\n",
       "Severe           118\n",
       "Name: count, dtype: int64"
      ]
     },
     "execution_count": 60,
     "metadata": {},
     "output_type": "execute_result"
    }
   ],
   "source": [
    "df2['Depression State'] = df2['Depression State'].str.replace('\\t','')\n",
    "df2['Depression State'] = df2['Depression State'].str.replace('2','')\n",
    "df2['Depression State'] = df2['Depression State'].str.replace('5','')\n",
    "print('Columnas que cuentan con un valor nulo-')\n",
    "print(df2.isnull().sum())"
   ]
  }
 ],
 "metadata": {
  "kernelspec": {
   "display_name": "Python 3",
   "language": "python",
   "name": "python3"
  },
  "language_info": {
   "codemirror_mode": {
    "name": "ipython",
    "version": 3
   },
   "file_extension": ".py",
   "mimetype": "text/x-python",
   "name": "python",
   "nbconvert_exporter": "python",
   "pygments_lexer": "ipython3",
   "version": "3.12.1"
  }
 },
 "nbformat": 4,
 "nbformat_minor": 2
}
