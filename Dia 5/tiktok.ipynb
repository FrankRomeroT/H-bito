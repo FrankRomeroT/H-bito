{
 "cells": [
  {
   "cell_type": "code",
   "execution_count": 60,
   "metadata": {},
   "outputs": [],
   "source": [
    "import pandas as pd\n",
    "import numpy as np\n",
    "import seaborn as sns\n",
    "import matplotlib.pyplot as plt\n",
    "def custom_warning_format(message, category, filename, lineno, file=None, line=None):\n",
    "    return f'{filename}:{lineno}: {category.__name__}: {message}\\n'"
   ]
  },
  {
   "cell_type": "code",
   "execution_count": 61,
   "metadata": {},
   "outputs": [
    {
     "data": {
      "text/html": [
       "<div>\n",
       "<style scoped>\n",
       "    .dataframe tbody tr th:only-of-type {\n",
       "        vertical-align: middle;\n",
       "    }\n",
       "\n",
       "    .dataframe tbody tr th {\n",
       "        vertical-align: top;\n",
       "    }\n",
       "\n",
       "    .dataframe thead th {\n",
       "        text-align: right;\n",
       "    }\n",
       "</style>\n",
       "<table border=\"1\" class=\"dataframe\">\n",
       "  <thead>\n",
       "    <tr style=\"text-align: right;\">\n",
       "      <th></th>\n",
       "      <th>Rank</th>\n",
       "      <th>Username</th>\n",
       "      <th>Tiktok Link</th>\n",
       "      <th>Name</th>\n",
       "      <th>Subscribers Count</th>\n",
       "      <th>Views. Avg</th>\n",
       "      <th>Likes. Avg</th>\n",
       "      <th>Comments. Avg</th>\n",
       "      <th>Shares. Avg</th>\n",
       "    </tr>\n",
       "  </thead>\n",
       "  <tbody>\n",
       "    <tr>\n",
       "      <th>0</th>\n",
       "      <td>1</td>\n",
       "      <td>badbunny</td>\n",
       "      <td>https://www.tiktok.com/@badbunny</td>\n",
       "      <td>Bad Bunny</td>\n",
       "      <td>23.4M</td>\n",
       "      <td>63.1M</td>\n",
       "      <td>10.3M</td>\n",
       "      <td>65.2K</td>\n",
       "      <td>108.6K</td>\n",
       "    </tr>\n",
       "    <tr>\n",
       "      <th>1</th>\n",
       "      <td>2</td>\n",
       "      <td>noahschnapp</td>\n",
       "      <td>https://www.tiktok.com/@noahschnapp</td>\n",
       "      <td>Noah Schnapp</td>\n",
       "      <td>26.1M</td>\n",
       "      <td>23.4M</td>\n",
       "      <td>4.8M</td>\n",
       "      <td>46.7K</td>\n",
       "      <td>22.1K</td>\n",
       "    </tr>\n",
       "    <tr>\n",
       "      <th>2</th>\n",
       "      <td>3</td>\n",
       "      <td>khaby.lame</td>\n",
       "      <td>https://www.tiktok.com/@khaby.lame</td>\n",
       "      <td>Khabane lame</td>\n",
       "      <td>145.9M</td>\n",
       "      <td>47.5M</td>\n",
       "      <td>2.5M</td>\n",
       "      <td>46K</td>\n",
       "      <td>9.4K</td>\n",
       "    </tr>\n",
       "    <tr>\n",
       "      <th>3</th>\n",
       "      <td>4</td>\n",
       "      <td>coopernoriega</td>\n",
       "      <td>https://www.tiktok.com/@coopernoriega</td>\n",
       "      <td>Cooper Noriega</td>\n",
       "      <td>3.2M</td>\n",
       "      <td>31M</td>\n",
       "      <td>1.3M</td>\n",
       "      <td>120.9K</td>\n",
       "      <td>8.4K</td>\n",
       "    </tr>\n",
       "    <tr>\n",
       "      <th>4</th>\n",
       "      <td>5</td>\n",
       "      <td>avrillavigne</td>\n",
       "      <td>https://www.tiktok.com/@avrillavigne</td>\n",
       "      <td>Avril Lavigne</td>\n",
       "      <td>4M</td>\n",
       "      <td>24.7M</td>\n",
       "      <td>3.5M</td>\n",
       "      <td>32.1K</td>\n",
       "      <td>22.7K</td>\n",
       "    </tr>\n",
       "  </tbody>\n",
       "</table>\n",
       "</div>"
      ],
      "text/plain": [
       "   Rank       Username                            Tiktok Link            Name  \\\n",
       "0     1       badbunny       https://www.tiktok.com/@badbunny       Bad Bunny   \n",
       "1     2    noahschnapp    https://www.tiktok.com/@noahschnapp    Noah Schnapp   \n",
       "2     3     khaby.lame     https://www.tiktok.com/@khaby.lame    Khabane lame   \n",
       "3     4  coopernoriega  https://www.tiktok.com/@coopernoriega  Cooper Noriega   \n",
       "4     5   avrillavigne   https://www.tiktok.com/@avrillavigne   Avril Lavigne   \n",
       "\n",
       "  Subscribers Count Views. Avg Likes. Avg Comments. Avg Shares. Avg  \n",
       "0             23.4M      63.1M      10.3M         65.2K      108.6K  \n",
       "1             26.1M      23.4M       4.8M         46.7K       22.1K  \n",
       "2            145.9M      47.5M       2.5M           46K        9.4K  \n",
       "3              3.2M        31M       1.3M        120.9K        8.4K  \n",
       "4                4M      24.7M       3.5M         32.1K       22.7K  "
      ]
     },
     "execution_count": 61,
     "metadata": {},
     "output_type": "execute_result"
    }
   ],
   "source": [
    "df = pd.read_csv('C:/Users/FRANK/Desktop/Proyectos Linkedin/Python Proyectos/Dia 5/top_1000_tiktokers.csv')\n",
    "df.head()"
   ]
  },
  {
   "cell_type": "code",
   "execution_count": 65,
   "metadata": {},
   "outputs": [
    {
     "name": "stdout",
     "output_type": "stream",
     "text": [
      "Número de observaciones = 1000\n",
      "Total de variables disponibles = 9 \n",
      "Columnas que cuentan con un valor nulo-\n",
      "Rank                 0\n",
      "Username             0\n",
      "Tiktok Link          0\n",
      "Name                 2\n",
      "Subscribers Count    0\n",
      "Views. Avg           0\n",
      "Likes. Avg           0\n",
      "Comments. Avg        0\n",
      "Shares. Avg          0\n",
      "dtype: int64\n"
     ]
    }
   ],
   "source": [
    "import io\n",
    "df2 = df.copy()\n",
    "print('Número de observaciones = {}'.format(df2.shape[0]))\n",
    "print('Total de variables disponibles = {} '.format(df2.columns.shape[0]))\n",
    "print('Columnas que cuentan con un valor nulo-')\n",
    "print(df2.isnull().sum())"
   ]
  }
 ],
 "metadata": {
  "kernelspec": {
   "display_name": "Python 3",
   "language": "python",
   "name": "python3"
  },
  "language_info": {
   "codemirror_mode": {
    "name": "ipython",
    "version": 3
   },
   "file_extension": ".py",
   "mimetype": "text/x-python",
   "name": "python",
   "nbconvert_exporter": "python",
   "pygments_lexer": "ipython3",
   "version": "3.12.1"
  }
 },
 "nbformat": 4,
 "nbformat_minor": 2
}
